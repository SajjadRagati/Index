{
  "cells": [
    {
      "cell_type": "markdown",
      "metadata": {
        "id": "view-in-github",
        "colab_type": "text"
      },
      "source": [
        "<a href=\"https://colab.research.google.com/github/SajjadRahati1/Index/blob/main/RQA_NLP_triviaqa2.ipynb\" target=\"_parent\"><img src=\"https://colab.research.google.com/assets/colab-badge.svg\" alt=\"Open In Colab\"/></a>"
      ]
    },
    {
      "cell_type": "markdown",
      "metadata": {
        "id": "nfU15jAFgiPE"
      },
      "source": [
        "# Retrieval Question-Answering of NLP"
      ]
    },
    {
      "cell_type": "markdown",
      "metadata": {
        "id": "bDqE77xSj9Eu"
      },
      "source": [
        "# Load Data"
      ]
    },
    {
      "cell_type": "markdown",
      "metadata": {
        "id": "aM8dgm1zuAfl"
      },
      "source": [
        "## Load from Json files"
      ]
    },
    {
      "cell_type": "code",
      "execution_count": 1,
      "metadata": {
        "colab": {
          "base_uri": "https://localhost:8080/"
        },
        "id": "vAppzFUIghn9",
        "outputId": "aff7367e-f141-4b17-ab50-8d6b986ee1fa"
      },
      "outputs": [
        {
          "output_type": "stream",
          "name": "stdout",
          "text": [
            "Mounted at /content/drive\n"
          ]
        }
      ],
      "source": [
        "# connect to my drive for use dataset file\n",
        "from google.colab import drive\n",
        "drive.mount('/content/drive')"
      ]
    },
    {
      "cell_type": "code",
      "execution_count": 1,
      "metadata": {
        "id": "_H7GdKwwf-sN"
      },
      "outputs": [],
      "source": [
        "# load files dataset\n",
        "import json\n",
        "path_base = '/content/drive/MyDrive/Dataset/RQA/triviaqa-unfiltered/'\n",
        "path_files = {\n",
        "    'train' : f'{path_base}unfiltered-web-train.json',\n",
        "    'dev' : f'{path_base}unfiltered-web-dev.json',\n",
        "    'test' : f'{path_base}unfiltered-web-test-without-answers.json',\n",
        "}\n"
      ]
    },
    {
      "cell_type": "code",
      "execution_count": 3,
      "metadata": {
        "colab": {
          "base_uri": "https://localhost:8080/"
        },
        "id": "xT0O-2pHfx77",
        "outputId": "11a109ec-dc3d-425e-aca3-0a59cb8820d7"
      },
      "outputs": [
        {
          "output_type": "stream",
          "name": "stdout",
          "text": [
            "Requirement already satisfied: torch in /usr/local/lib/python3.10/dist-packages (2.3.1+cu121)\n",
            "Requirement already satisfied: filelock in /usr/local/lib/python3.10/dist-packages (from torch) (3.15.4)\n",
            "Requirement already satisfied: typing-extensions>=4.8.0 in /usr/local/lib/python3.10/dist-packages (from torch) (4.12.2)\n",
            "Requirement already satisfied: sympy in /usr/local/lib/python3.10/dist-packages (from torch) (1.13.1)\n",
            "Requirement already satisfied: networkx in /usr/local/lib/python3.10/dist-packages (from torch) (3.3)\n",
            "Requirement already satisfied: jinja2 in /usr/local/lib/python3.10/dist-packages (from torch) (3.1.4)\n",
            "Requirement already satisfied: fsspec in /usr/local/lib/python3.10/dist-packages (from torch) (2024.5.0)\n",
            "Requirement already satisfied: nvidia-cuda-nvrtc-cu12==12.1.105 in /usr/local/lib/python3.10/dist-packages (from torch) (12.1.105)\n",
            "Requirement already satisfied: nvidia-cuda-runtime-cu12==12.1.105 in /usr/local/lib/python3.10/dist-packages (from torch) (12.1.105)\n",
            "Requirement already satisfied: nvidia-cuda-cupti-cu12==12.1.105 in /usr/local/lib/python3.10/dist-packages (from torch) (12.1.105)\n",
            "Requirement already satisfied: nvidia-cudnn-cu12==8.9.2.26 in /usr/local/lib/python3.10/dist-packages (from torch) (8.9.2.26)\n",
            "Requirement already satisfied: nvidia-cublas-cu12==12.1.3.1 in /usr/local/lib/python3.10/dist-packages (from torch) (12.1.3.1)\n",
            "Requirement already satisfied: nvidia-cufft-cu12==11.0.2.54 in /usr/local/lib/python3.10/dist-packages (from torch) (11.0.2.54)\n",
            "Requirement already satisfied: nvidia-curand-cu12==10.3.2.106 in /usr/local/lib/python3.10/dist-packages (from torch) (10.3.2.106)\n",
            "Requirement already satisfied: nvidia-cusolver-cu12==11.4.5.107 in /usr/local/lib/python3.10/dist-packages (from torch) (11.4.5.107)\n",
            "Requirement already satisfied: nvidia-cusparse-cu12==12.1.0.106 in /usr/local/lib/python3.10/dist-packages (from torch) (12.1.0.106)\n",
            "Requirement already satisfied: nvidia-nccl-cu12==2.20.5 in /usr/local/lib/python3.10/dist-packages (from torch) (2.20.5)\n",
            "Requirement already satisfied: nvidia-nvtx-cu12==12.1.105 in /usr/local/lib/python3.10/dist-packages (from torch) (12.1.105)\n",
            "Requirement already satisfied: triton==2.3.1 in /usr/local/lib/python3.10/dist-packages (from torch) (2.3.1)\n",
            "Requirement already satisfied: nvidia-nvjitlink-cu12 in /usr/local/lib/python3.10/dist-packages (from nvidia-cusolver-cu12==11.4.5.107->torch) (12.6.20)\n",
            "Requirement already satisfied: MarkupSafe>=2.0 in /usr/local/lib/python3.10/dist-packages (from jinja2->torch) (2.1.5)\n",
            "Requirement already satisfied: mpmath<1.4,>=1.1.0 in /usr/local/lib/python3.10/dist-packages (from sympy->torch) (1.3.0)\n",
            "Requirement already satisfied: torch in /usr/local/lib/python3.10/dist-packages (2.3.1+cu121)\n",
            "Requirement already satisfied: torchvision in /usr/local/lib/python3.10/dist-packages (0.18.1+cu121)\n",
            "Requirement already satisfied: torchaudio in /usr/local/lib/python3.10/dist-packages (2.3.1+cu121)\n",
            "Requirement already satisfied: filelock in /usr/local/lib/python3.10/dist-packages (from torch) (3.15.4)\n",
            "Requirement already satisfied: typing-extensions>=4.8.0 in /usr/local/lib/python3.10/dist-packages (from torch) (4.12.2)\n",
            "Requirement already satisfied: sympy in /usr/local/lib/python3.10/dist-packages (from torch) (1.13.1)\n",
            "Requirement already satisfied: networkx in /usr/local/lib/python3.10/dist-packages (from torch) (3.3)\n",
            "Requirement already satisfied: jinja2 in /usr/local/lib/python3.10/dist-packages (from torch) (3.1.4)\n",
            "Requirement already satisfied: fsspec in /usr/local/lib/python3.10/dist-packages (from torch) (2024.5.0)\n",
            "Requirement already satisfied: nvidia-cuda-nvrtc-cu12==12.1.105 in /usr/local/lib/python3.10/dist-packages (from torch) (12.1.105)\n",
            "Requirement already satisfied: nvidia-cuda-runtime-cu12==12.1.105 in /usr/local/lib/python3.10/dist-packages (from torch) (12.1.105)\n",
            "Requirement already satisfied: nvidia-cuda-cupti-cu12==12.1.105 in /usr/local/lib/python3.10/dist-packages (from torch) (12.1.105)\n",
            "Requirement already satisfied: nvidia-cudnn-cu12==8.9.2.26 in /usr/local/lib/python3.10/dist-packages (from torch) (8.9.2.26)\n",
            "Requirement already satisfied: nvidia-cublas-cu12==12.1.3.1 in /usr/local/lib/python3.10/dist-packages (from torch) (12.1.3.1)\n",
            "Requirement already satisfied: nvidia-cufft-cu12==11.0.2.54 in /usr/local/lib/python3.10/dist-packages (from torch) (11.0.2.54)\n",
            "Requirement already satisfied: nvidia-curand-cu12==10.3.2.106 in /usr/local/lib/python3.10/dist-packages (from torch) (10.3.2.106)\n",
            "Requirement already satisfied: nvidia-cusolver-cu12==11.4.5.107 in /usr/local/lib/python3.10/dist-packages (from torch) (11.4.5.107)\n",
            "Requirement already satisfied: nvidia-cusparse-cu12==12.1.0.106 in /usr/local/lib/python3.10/dist-packages (from torch) (12.1.0.106)\n",
            "Requirement already satisfied: nvidia-nccl-cu12==2.20.5 in /usr/local/lib/python3.10/dist-packages (from torch) (2.20.5)\n",
            "Requirement already satisfied: nvidia-nvtx-cu12==12.1.105 in /usr/local/lib/python3.10/dist-packages (from torch) (12.1.105)\n",
            "Requirement already satisfied: triton==2.3.1 in /usr/local/lib/python3.10/dist-packages (from torch) (2.3.1)\n",
            "Requirement already satisfied: nvidia-nvjitlink-cu12 in /usr/local/lib/python3.10/dist-packages (from nvidia-cusolver-cu12==11.4.5.107->torch) (12.6.20)\n",
            "Requirement already satisfied: numpy in /usr/local/lib/python3.10/dist-packages (from torchvision) (1.26.4)\n",
            "Requirement already satisfied: pillow!=8.3.*,>=5.3.0 in /usr/local/lib/python3.10/dist-packages (from torchvision) (9.4.0)\n",
            "Requirement already satisfied: MarkupSafe>=2.0 in /usr/local/lib/python3.10/dist-packages (from jinja2->torch) (2.1.5)\n",
            "Requirement already satisfied: mpmath<1.4,>=1.1.0 in /usr/local/lib/python3.10/dist-packages (from sympy->torch) (1.3.0)\n"
          ]
        }
      ],
      "source": [
        "# !pip install ijson\n",
        "# !pip install transformers\n",
        "!pip install torch\n",
        "!pip install torch torchvision torchaudio"
      ]
    },
    {
      "cell_type": "markdown",
      "metadata": {
        "id": "p7xSBYYka-Z3"
      },
      "source": [
        "## utils"
      ]
    },
    {
      "cell_type": "code",
      "execution_count": 2,
      "metadata": {
        "id": "bjn21Dtj5yJv"
      },
      "outputs": [],
      "source": [
        "def save_dataframe_to_csv(df, filename):\n",
        "\n",
        "    try:\n",
        "        df.to_csv(filename, index=False)\n",
        "        print(f\"DataFrame saved to {filename}\")\n",
        "    except Exception as e:\n",
        "        print(f\"An error occurred while saving the DataFrame: {e}\")\n",
        "def read_dataframe_from_csv(filename):\n",
        "\n",
        "    try:\n",
        "        df = pd.read_csv(filename)\n",
        "        print(f\"DataFrame read from {filename}\")\n",
        "        return df\n",
        "    except Exception as e:\n",
        "        print(f\"An error occurred while reading the DataFrame: {e}\")\n",
        "        return None\n",
        "def sample_dataframe(df, n, random_state=None):\n",
        "    if n > len(df):\n",
        "        raise ValueError(\"Sample size n cannot be greater than the number of rows in the DataFrame.\")\n",
        "\n",
        "    sampled_df = df.sample(n=n, random_state=random_state)\n",
        "    return sampled_df"
      ]
    },
    {
      "cell_type": "code",
      "execution_count": null,
      "metadata": {
        "id": "hW8E6F4_eLaQ"
      },
      "outputs": [],
      "source": [
        "import json\n",
        "import ijson\n",
        "\n",
        "def get_file_contents(filename, encoding='utf-8'):\n",
        "    with open(filename, encoding=encoding) as f:\n",
        "        content = f.read()\n",
        "    return content\n",
        "\n",
        "def get_file_contents_batch(filename, encoding='utf-8', batch_len=1000):\n",
        "    # Initialize a dictionary to store the processed data\n",
        "    contents = {'Data': [], 'Domain': None, 'VerifiedEval': False, 'Version': None}\n",
        "\n",
        "    # Open the file and read it incrementally\n",
        "    with open(filename, 'r', encoding=encoding) as file:\n",
        "        # Read basic metadata keys first if necessary\n",
        "        parser = ijson.parse(file)\n",
        "\n",
        "        # Use a loop to gather metadata\n",
        "        for prefix, event, value in parser:\n",
        "            if (prefix, event) == ('Domain', 'string'):\n",
        "                contents['Domain'] = value\n",
        "            elif (prefix, event) == ('VerifiedEval', 'boolean'):\n",
        "                contents['VerifiedEval'] = value\n",
        "            elif (prefix, event) == ('Version', 'number'):\n",
        "                contents['Version'] = value\n",
        "            # Stop parsing metadata when 'Data' array is reached\n",
        "            if prefix == 'Data':\n",
        "                break\n",
        "\n",
        "        # Reset file reading position to start reading 'Data'\n",
        "        file.seek(0)\n",
        "\n",
        "        # Use ijson to parse 'Data' array incrementally\n",
        "        # data_items = ijson.items(file, 'Data.item')\n",
        "\n",
        "        batch = []  # Temporary list to hold each batch\n",
        "        test_index = 0\n",
        "        for item in ijson.items(file, 'Data.item'):\n",
        "\n",
        "            batch.append(item)\n",
        "\n",
        "            # If batch reaches the specified length, add it to 'Data'\n",
        "            if len(batch) >= batch_len:\n",
        "                contents['Data'].extend(batch)\n",
        "                batch.clear()\n",
        "\n",
        "        # Add any remaining items in the batch to 'Data'\n",
        "        if batch:\n",
        "            contents['Data'].extend(batch)\n",
        "\n",
        "    return contents\n",
        "def read_json(filename, encoding='utf-8',use_batch = False):\n",
        "    if use_batch:\n",
        "      contents = get_file_contents_batch(filename, encoding=encoding)\n",
        "    else:\n",
        "      contents = get_file_contents(filename, encoding=encoding)\n",
        "      contents = json.loads(contents)\n",
        "    return contents\n",
        "\n"
      ]
    },
    {
      "cell_type": "markdown",
      "metadata": {
        "id": "JsLi_iN0eSAb"
      },
      "source": [
        "## dataset_utils"
      ]
    },
    {
      "cell_type": "code",
      "execution_count": null,
      "metadata": {
        "id": "d7dmVE3Ja8dv"
      },
      "outputs": [],
      "source": [
        "\n",
        "\n",
        "def read_clean_part(datum):\n",
        "    for key in ['EntityPages', 'SearchResults']:\n",
        "        new_page_list = []\n",
        "        for page in datum.get(key, []):\n",
        "            if page['DocPartOfVerifiedEval']:\n",
        "                new_page_list.append(page)\n",
        "        datum[key] = new_page_list\n",
        "    assert len(datum['EntityPages']) + len(datum['SearchResults']) > 0\n",
        "    return datum\n",
        "\n",
        "\n",
        "def read_triviaqa_data(qajson,use_batch = False):\n",
        "    data = read_json(qajson,use_batch = use_batch)\n",
        "    # read only documents and questions that are a part of clean data set\n",
        "    if data['VerifiedEval']:\n",
        "        clean_data = []\n",
        "        for datum in data['Data']:\n",
        "            if datum['QuestionPartOfVerifiedEval']:\n",
        "                if data['Domain'] == 'Web':\n",
        "                    datum = read_clean_part(datum)\n",
        "                clean_data.append(datum)\n",
        "        data['Data'] = clean_data\n",
        "    return data\n"
      ]
    },
    {
      "cell_type": "code",
      "execution_count": null,
      "metadata": {
        "id": "nLLJL7w5cI8o"
      },
      "outputs": [],
      "source": [
        "dev_data = read_triviaqa_data(path_files['dev'])"
      ]
    },
    {
      "cell_type": "code",
      "execution_count": null,
      "metadata": {
        "id": "h2nnXBeRbW8d"
      },
      "outputs": [],
      "source": [
        "train_data = read_triviaqa_data(path_files['train'],True)"
      ]
    },
    {
      "cell_type": "code",
      "execution_count": null,
      "metadata": {
        "id": "nTy576fshHnu"
      },
      "outputs": [],
      "source": [
        "test_data = read_triviaqa_data(path_files['test'])"
      ]
    },
    {
      "cell_type": "code",
      "source": [
        "import ast\n",
        "\n",
        "def clean_and_create_context(search_results):\n",
        "    try:\n",
        "        # تبدیل رشته به لیست واقعی\n",
        "        search_result_list = ast.literal_eval(search_results)\n",
        "        # اتصال جملات با نقطه و فاصله\n",
        "        context = '. '.join(search_result_list)\n",
        "        return context\n",
        "    except Exception as e:\n",
        "        print(f\"Error processing search_results: {e}\")\n",
        "        return \"\"\n"
      ],
      "metadata": {
        "id": "Qyxb-Lmeu06l"
      },
      "execution_count": 3,
      "outputs": []
    },
    {
      "cell_type": "markdown",
      "metadata": {
        "id": "odOq75UVuHWp"
      },
      "source": [
        "## Extract Relevant Data"
      ]
    },
    {
      "cell_type": "code",
      "execution_count": null,
      "metadata": {
        "id": "Kx1UJfzAlq6P"
      },
      "outputs": [],
      "source": [
        "import pandas as pd\n",
        "\n",
        "def convert_to_df(data: dict):\n",
        "    # Initialize lists to store the extracted data\n",
        "    questions = []\n",
        "    question_ids = []\n",
        "    question_sources = []\n",
        "    answers = []\n",
        "    normalized_values = []\n",
        "    entity_pages = []\n",
        "    search_results = []\n",
        "\n",
        "    # Parse the JSON data\n",
        "    for item in data['Data']:\n",
        "        # Extract question details\n",
        "        question = item.get('Question', '')\n",
        "        question_id = item.get('QuestionId', '')\n",
        "        question_source = item.get('QuestionSource', '')\n",
        "\n",
        "        # Extract answer details\n",
        "        answer_data = item.get('Answer', {})\n",
        "        answer_value = answer_data.get('Value', '')\n",
        "        normalized_value = answer_data.get('NormalizedValue', '')\n",
        "\n",
        "        # Extract entity pages\n",
        "        entity_page_titles = [page.get('Title', '') for page in item.get('EntityPages', [])]\n",
        "\n",
        "        # Extract search results descriptions\n",
        "        search_result_descriptions = [result.get('Description', '') for result in item.get('SearchResults', [])]\n",
        "\n",
        "        # Append extracted data to lists\n",
        "        questions.append(question)\n",
        "        question_ids.append(question_id)\n",
        "        question_sources.append(question_source)\n",
        "        answers.append(answer_value)\n",
        "        normalized_values.append(normalized_value)\n",
        "        entity_pages.append(entity_page_titles)\n",
        "        search_results.append(search_result_descriptions)\n",
        "\n",
        "    # Create DataFrame\n",
        "    df = pd.DataFrame({\n",
        "        'question': questions,\n",
        "        'question_id': question_ids,\n",
        "        'question_source': question_sources,\n",
        "        'answer': answers,\n",
        "        'normalized_value': normalized_values,\n",
        "        'entity_pages': entity_pages,\n",
        "        'search_results': search_results\n",
        "    })\n",
        "\n",
        "    return df\n"
      ]
    },
    {
      "cell_type": "code",
      "execution_count": null,
      "metadata": {
        "id": "TKTxE3h2p17p"
      },
      "outputs": [],
      "source": [
        "df_dev = convert_to_df(dev_data)\n",
        "df_train = convert_to_df(train_data)\n",
        "df_test = convert_to_df(test_data)"
      ]
    },
    {
      "cell_type": "code",
      "execution_count": null,
      "metadata": {
        "colab": {
          "base_uri": "https://localhost:8080/",
          "height": 323
        },
        "id": "lUf4owpptg8-",
        "outputId": "24e9b471-348d-431e-8fb0-4aaa16423fa8"
      },
      "outputs": [
        {
          "data": {
            "application/vnd.google.colaboratory.intrinsic+json": {
              "summary": "{\n  \"name\": \"df_train\",\n  \"rows\": 87622,\n  \"fields\": [\n    {\n      \"column\": \"question\",\n      \"properties\": {\n        \"dtype\": \"string\",\n        \"num_unique_values\": 87622,\n        \"samples\": [\n          \"What city is Kowloon a part of?\",\n          \"The Austrian metalworking company Kraftfahrzeuge Trunkenpolz Mattighofen founded in 1934 is nowadays better known as a manufacturer of what?\",\n          \"Who made the album Captain Fantastic and the Brown Dirt Cowboy\"\n        ],\n        \"semantic_type\": \"\",\n        \"description\": \"\"\n      }\n    },\n    {\n      \"column\": \"question_id\",\n      \"properties\": {\n        \"dtype\": \"string\",\n        \"num_unique_values\": 87622,\n        \"samples\": [\n          \"jp_2109\",\n          \"bb_2994\",\n          \"qz_5032\"\n        ],\n        \"semantic_type\": \"\",\n        \"description\": \"\"\n      }\n    },\n    {\n      \"column\": \"question_source\",\n      \"properties\": {\n        \"dtype\": \"category\",\n        \"num_unique_values\": 14,\n        \"samples\": [\n          \"http://triviabug.com/q-and-a-quizzes/\",\n          \"http://billturnbull.quiz4free.com/\",\n          \"http://www.triviacountry.com/\"\n        ],\n        \"semantic_type\": \"\",\n        \"description\": \"\"\n      }\n    },\n    {\n      \"column\": \"answer\",\n      \"properties\": {\n        \"dtype\": \"string\",\n        \"num_unique_values\": 50887,\n        \"samples\": [\n          \"Europe-wide crop failures, and extreme levels of crime, disease, and mass death\",\n          \"1876 - 1937\",\n          \"26.1 seconds\"\n        ],\n        \"semantic_type\": \"\",\n        \"description\": \"\"\n      }\n    },\n    {\n      \"column\": \"normalized_value\",\n      \"properties\": {\n        \"dtype\": \"category\",\n        \"num_unique_values\": 41134,\n        \"samples\": [\n          \"castle\",\n          \"atacama desert\",\n          \"white rabbits\"\n        ],\n        \"semantic_type\": \"\",\n        \"description\": \"\"\n      }\n    },\n    {\n      \"column\": \"entity_pages\",\n      \"properties\": {\n        \"dtype\": \"object\",\n        \"semantic_type\": \"\",\n        \"description\": \"\"\n      }\n    },\n    {\n      \"column\": \"search_results\",\n      \"properties\": {\n        \"dtype\": \"object\",\n        \"semantic_type\": \"\",\n        \"description\": \"\"\n      }\n    }\n  ]\n}",
              "type": "dataframe",
              "variable_name": "df_train"
            },
            "text/html": [
              "\n",
              "  <div id=\"df-2d179b6f-6f11-4f4d-a42b-5a0900b23237\" class=\"colab-df-container\">\n",
              "    <div>\n",
              "<style scoped>\n",
              "    .dataframe tbody tr th:only-of-type {\n",
              "        vertical-align: middle;\n",
              "    }\n",
              "\n",
              "    .dataframe tbody tr th {\n",
              "        vertical-align: top;\n",
              "    }\n",
              "\n",
              "    .dataframe thead th {\n",
              "        text-align: right;\n",
              "    }\n",
              "</style>\n",
              "<table border=\"1\" class=\"dataframe\">\n",
              "  <thead>\n",
              "    <tr style=\"text-align: right;\">\n",
              "      <th></th>\n",
              "      <th>question</th>\n",
              "      <th>question_id</th>\n",
              "      <th>question_source</th>\n",
              "      <th>answer</th>\n",
              "      <th>normalized_value</th>\n",
              "      <th>entity_pages</th>\n",
              "      <th>search_results</th>\n",
              "    </tr>\n",
              "  </thead>\n",
              "  <tbody>\n",
              "    <tr>\n",
              "      <th>0</th>\n",
              "      <td>Who was President when the first Peanuts carto...</td>\n",
              "      <td>tc_0</td>\n",
              "      <td>http://www.triviacountry.com/</td>\n",
              "      <td>Harry Truman</td>\n",
              "      <td>harry truman</td>\n",
              "      <td>[Peanuts]</td>\n",
              "      <td>[Welcome to GoComics.com, the world's largest ...</td>\n",
              "    </tr>\n",
              "    <tr>\n",
              "      <th>1</th>\n",
              "      <td>Which American-born Sinclair won the Nobel Pri...</td>\n",
              "      <td>tc_1</td>\n",
              "      <td>http://www.triviacountry.com/</td>\n",
              "      <td>Sinclair Lewis</td>\n",
              "      <td>sinclair lewis</td>\n",
              "      <td>[Nobel Prize in Literature]</td>\n",
              "      <td>[The Nobel Prize in Literature 1930 Sinclair ....</td>\n",
              "    </tr>\n",
              "  </tbody>\n",
              "</table>\n",
              "</div>\n",
              "    <div class=\"colab-df-buttons\">\n",
              "\n",
              "  <div class=\"colab-df-container\">\n",
              "    <button class=\"colab-df-convert\" onclick=\"convertToInteractive('df-2d179b6f-6f11-4f4d-a42b-5a0900b23237')\"\n",
              "            title=\"Convert this dataframe to an interactive table.\"\n",
              "            style=\"display:none;\">\n",
              "\n",
              "  <svg xmlns=\"http://www.w3.org/2000/svg\" height=\"24px\" viewBox=\"0 -960 960 960\">\n",
              "    <path d=\"M120-120v-720h720v720H120Zm60-500h600v-160H180v160Zm220 220h160v-160H400v160Zm0 220h160v-160H400v160ZM180-400h160v-160H180v160Zm440 0h160v-160H620v160ZM180-180h160v-160H180v160Zm440 0h160v-160H620v160Z\"/>\n",
              "  </svg>\n",
              "    </button>\n",
              "\n",
              "  <style>\n",
              "    .colab-df-container {\n",
              "      display:flex;\n",
              "      gap: 12px;\n",
              "    }\n",
              "\n",
              "    .colab-df-convert {\n",
              "      background-color: #E8F0FE;\n",
              "      border: none;\n",
              "      border-radius: 50%;\n",
              "      cursor: pointer;\n",
              "      display: none;\n",
              "      fill: #1967D2;\n",
              "      height: 32px;\n",
              "      padding: 0 0 0 0;\n",
              "      width: 32px;\n",
              "    }\n",
              "\n",
              "    .colab-df-convert:hover {\n",
              "      background-color: #E2EBFA;\n",
              "      box-shadow: 0px 1px 2px rgba(60, 64, 67, 0.3), 0px 1px 3px 1px rgba(60, 64, 67, 0.15);\n",
              "      fill: #174EA6;\n",
              "    }\n",
              "\n",
              "    .colab-df-buttons div {\n",
              "      margin-bottom: 4px;\n",
              "    }\n",
              "\n",
              "    [theme=dark] .colab-df-convert {\n",
              "      background-color: #3B4455;\n",
              "      fill: #D2E3FC;\n",
              "    }\n",
              "\n",
              "    [theme=dark] .colab-df-convert:hover {\n",
              "      background-color: #434B5C;\n",
              "      box-shadow: 0px 1px 3px 1px rgba(0, 0, 0, 0.15);\n",
              "      filter: drop-shadow(0px 1px 2px rgba(0, 0, 0, 0.3));\n",
              "      fill: #FFFFFF;\n",
              "    }\n",
              "  </style>\n",
              "\n",
              "    <script>\n",
              "      const buttonEl =\n",
              "        document.querySelector('#df-2d179b6f-6f11-4f4d-a42b-5a0900b23237 button.colab-df-convert');\n",
              "      buttonEl.style.display =\n",
              "        google.colab.kernel.accessAllowed ? 'block' : 'none';\n",
              "\n",
              "      async function convertToInteractive(key) {\n",
              "        const element = document.querySelector('#df-2d179b6f-6f11-4f4d-a42b-5a0900b23237');\n",
              "        const dataTable =\n",
              "          await google.colab.kernel.invokeFunction('convertToInteractive',\n",
              "                                                    [key], {});\n",
              "        if (!dataTable) return;\n",
              "\n",
              "        const docLinkHtml = 'Like what you see? Visit the ' +\n",
              "          '<a target=\"_blank\" href=https://colab.research.google.com/notebooks/data_table.ipynb>data table notebook</a>'\n",
              "          + ' to learn more about interactive tables.';\n",
              "        element.innerHTML = '';\n",
              "        dataTable['output_type'] = 'display_data';\n",
              "        await google.colab.output.renderOutput(dataTable, element);\n",
              "        const docLink = document.createElement('div');\n",
              "        docLink.innerHTML = docLinkHtml;\n",
              "        element.appendChild(docLink);\n",
              "      }\n",
              "    </script>\n",
              "  </div>\n",
              "\n",
              "\n",
              "<div id=\"df-da62d4b3-e0f2-4673-8a92-1bb5db8480da\">\n",
              "  <button class=\"colab-df-quickchart\" onclick=\"quickchart('df-da62d4b3-e0f2-4673-8a92-1bb5db8480da')\"\n",
              "            title=\"Suggest charts\"\n",
              "            style=\"display:none;\">\n",
              "\n",
              "<svg xmlns=\"http://www.w3.org/2000/svg\" height=\"24px\"viewBox=\"0 0 24 24\"\n",
              "     width=\"24px\">\n",
              "    <g>\n",
              "        <path d=\"M19 3H5c-1.1 0-2 .9-2 2v14c0 1.1.9 2 2 2h14c1.1 0 2-.9 2-2V5c0-1.1-.9-2-2-2zM9 17H7v-7h2v7zm4 0h-2V7h2v10zm4 0h-2v-4h2v4z\"/>\n",
              "    </g>\n",
              "</svg>\n",
              "  </button>\n",
              "\n",
              "<style>\n",
              "  .colab-df-quickchart {\n",
              "      --bg-color: #E8F0FE;\n",
              "      --fill-color: #1967D2;\n",
              "      --hover-bg-color: #E2EBFA;\n",
              "      --hover-fill-color: #174EA6;\n",
              "      --disabled-fill-color: #AAA;\n",
              "      --disabled-bg-color: #DDD;\n",
              "  }\n",
              "\n",
              "  [theme=dark] .colab-df-quickchart {\n",
              "      --bg-color: #3B4455;\n",
              "      --fill-color: #D2E3FC;\n",
              "      --hover-bg-color: #434B5C;\n",
              "      --hover-fill-color: #FFFFFF;\n",
              "      --disabled-bg-color: #3B4455;\n",
              "      --disabled-fill-color: #666;\n",
              "  }\n",
              "\n",
              "  .colab-df-quickchart {\n",
              "    background-color: var(--bg-color);\n",
              "    border: none;\n",
              "    border-radius: 50%;\n",
              "    cursor: pointer;\n",
              "    display: none;\n",
              "    fill: var(--fill-color);\n",
              "    height: 32px;\n",
              "    padding: 0;\n",
              "    width: 32px;\n",
              "  }\n",
              "\n",
              "  .colab-df-quickchart:hover {\n",
              "    background-color: var(--hover-bg-color);\n",
              "    box-shadow: 0 1px 2px rgba(60, 64, 67, 0.3), 0 1px 3px 1px rgba(60, 64, 67, 0.15);\n",
              "    fill: var(--button-hover-fill-color);\n",
              "  }\n",
              "\n",
              "  .colab-df-quickchart-complete:disabled,\n",
              "  .colab-df-quickchart-complete:disabled:hover {\n",
              "    background-color: var(--disabled-bg-color);\n",
              "    fill: var(--disabled-fill-color);\n",
              "    box-shadow: none;\n",
              "  }\n",
              "\n",
              "  .colab-df-spinner {\n",
              "    border: 2px solid var(--fill-color);\n",
              "    border-color: transparent;\n",
              "    border-bottom-color: var(--fill-color);\n",
              "    animation:\n",
              "      spin 1s steps(1) infinite;\n",
              "  }\n",
              "\n",
              "  @keyframes spin {\n",
              "    0% {\n",
              "      border-color: transparent;\n",
              "      border-bottom-color: var(--fill-color);\n",
              "      border-left-color: var(--fill-color);\n",
              "    }\n",
              "    20% {\n",
              "      border-color: transparent;\n",
              "      border-left-color: var(--fill-color);\n",
              "      border-top-color: var(--fill-color);\n",
              "    }\n",
              "    30% {\n",
              "      border-color: transparent;\n",
              "      border-left-color: var(--fill-color);\n",
              "      border-top-color: var(--fill-color);\n",
              "      border-right-color: var(--fill-color);\n",
              "    }\n",
              "    40% {\n",
              "      border-color: transparent;\n",
              "      border-right-color: var(--fill-color);\n",
              "      border-top-color: var(--fill-color);\n",
              "    }\n",
              "    60% {\n",
              "      border-color: transparent;\n",
              "      border-right-color: var(--fill-color);\n",
              "    }\n",
              "    80% {\n",
              "      border-color: transparent;\n",
              "      border-right-color: var(--fill-color);\n",
              "      border-bottom-color: var(--fill-color);\n",
              "    }\n",
              "    90% {\n",
              "      border-color: transparent;\n",
              "      border-bottom-color: var(--fill-color);\n",
              "    }\n",
              "  }\n",
              "</style>\n",
              "\n",
              "  <script>\n",
              "    async function quickchart(key) {\n",
              "      const quickchartButtonEl =\n",
              "        document.querySelector('#' + key + ' button');\n",
              "      quickchartButtonEl.disabled = true;  // To prevent multiple clicks.\n",
              "      quickchartButtonEl.classList.add('colab-df-spinner');\n",
              "      try {\n",
              "        const charts = await google.colab.kernel.invokeFunction(\n",
              "            'suggestCharts', [key], {});\n",
              "      } catch (error) {\n",
              "        console.error('Error during call to suggestCharts:', error);\n",
              "      }\n",
              "      quickchartButtonEl.classList.remove('colab-df-spinner');\n",
              "      quickchartButtonEl.classList.add('colab-df-quickchart-complete');\n",
              "    }\n",
              "    (() => {\n",
              "      let quickchartButtonEl =\n",
              "        document.querySelector('#df-da62d4b3-e0f2-4673-8a92-1bb5db8480da button');\n",
              "      quickchartButtonEl.style.display =\n",
              "        google.colab.kernel.accessAllowed ? 'block' : 'none';\n",
              "    })();\n",
              "  </script>\n",
              "</div>\n",
              "    </div>\n",
              "  </div>\n"
            ],
            "text/plain": [
              "                                            question question_id  \\\n",
              "0  Who was President when the first Peanuts carto...        tc_0   \n",
              "1  Which American-born Sinclair won the Nobel Pri...        tc_1   \n",
              "\n",
              "                 question_source          answer normalized_value  \\\n",
              "0  http://www.triviacountry.com/    Harry Truman     harry truman   \n",
              "1  http://www.triviacountry.com/  Sinclair Lewis   sinclair lewis   \n",
              "\n",
              "                  entity_pages  \\\n",
              "0                    [Peanuts]   \n",
              "1  [Nobel Prize in Literature]   \n",
              "\n",
              "                                      search_results  \n",
              "0  [Welcome to GoComics.com, the world's largest ...  \n",
              "1  [The Nobel Prize in Literature 1930 Sinclair ....  "
            ]
          },
          "execution_count": 11,
          "metadata": {},
          "output_type": "execute_result"
        }
      ],
      "source": [
        "df_train.head(2)"
      ]
    },
    {
      "cell_type": "code",
      "execution_count": null,
      "metadata": {
        "colab": {
          "base_uri": "https://localhost:8080/",
          "height": 288
        },
        "id": "llvd8WFk6Lkn",
        "outputId": "1450b38c-c893-4a12-a874-99cbf0c4324f"
      },
      "outputs": [
        {
          "data": {
            "application/vnd.google.colaboratory.intrinsic+json": {
              "summary": "{\n  \"name\": \"df_test\",\n  \"rows\": 10832,\n  \"fields\": [\n    {\n      \"column\": \"question\",\n      \"properties\": {\n        \"dtype\": \"string\",\n        \"num_unique_values\": 10832,\n        \"samples\": [\n          \"Which explosive was nicknamed \\u2018The Devil\\u2019s Porridge\\u2019 by author Arthur Conan Doyle?\",\n          \"Brahma Breweries, now owned by Anheuser Busch InBev, is based in which country?\",\n          \"\\\"A \\\"\\\"howdah\\\"\\\" is used to ride what animal?\\\"\"\n        ],\n        \"semantic_type\": \"\",\n        \"description\": \"\"\n      }\n    },\n    {\n      \"column\": \"question_id\",\n      \"properties\": {\n        \"dtype\": \"string\",\n        \"num_unique_values\": 10832,\n        \"samples\": [\n          \"qb_10230\",\n          \"sfq_11214\",\n          \"qw_12010\"\n        ],\n        \"semantic_type\": \"\",\n        \"description\": \"\"\n      }\n    },\n    {\n      \"column\": \"question_source\",\n      \"properties\": {\n        \"dtype\": \"category\",\n        \"num_unique_values\": 14,\n        \"samples\": [\n          \"http://triviabug.com/q-and-a-quizzes/\",\n          \"http://billturnbull.quiz4free.com/\",\n          \"http://www.triviacountry.com/\"\n        ],\n        \"semantic_type\": \"\",\n        \"description\": \"\"\n      }\n    },\n    {\n      \"column\": \"answer\",\n      \"properties\": {\n        \"dtype\": \"object\",\n        \"num_unique_values\": 1,\n        \"samples\": [\n          \"\"\n        ],\n        \"semantic_type\": \"\",\n        \"description\": \"\"\n      }\n    },\n    {\n      \"column\": \"normalized_value\",\n      \"properties\": {\n        \"dtype\": \"object\",\n        \"num_unique_values\": 1,\n        \"samples\": [\n          \"\"\n        ],\n        \"semantic_type\": \"\",\n        \"description\": \"\"\n      }\n    },\n    {\n      \"column\": \"entity_pages\",\n      \"properties\": {\n        \"dtype\": \"object\",\n        \"semantic_type\": \"\",\n        \"description\": \"\"\n      }\n    },\n    {\n      \"column\": \"search_results\",\n      \"properties\": {\n        \"dtype\": \"object\",\n        \"semantic_type\": \"\",\n        \"description\": \"\"\n      }\n    }\n  ]\n}",
              "type": "dataframe",
              "variable_name": "df_test"
            },
            "text/html": [
              "\n",
              "  <div id=\"df-a0faa952-ef6e-47a1-97dd-ea2e7da1c607\" class=\"colab-df-container\">\n",
              "    <div>\n",
              "<style scoped>\n",
              "    .dataframe tbody tr th:only-of-type {\n",
              "        vertical-align: middle;\n",
              "    }\n",
              "\n",
              "    .dataframe tbody tr th {\n",
              "        vertical-align: top;\n",
              "    }\n",
              "\n",
              "    .dataframe thead th {\n",
              "        text-align: right;\n",
              "    }\n",
              "</style>\n",
              "<table border=\"1\" class=\"dataframe\">\n",
              "  <thead>\n",
              "    <tr style=\"text-align: right;\">\n",
              "      <th></th>\n",
              "      <th>question</th>\n",
              "      <th>question_id</th>\n",
              "      <th>question_source</th>\n",
              "      <th>answer</th>\n",
              "      <th>normalized_value</th>\n",
              "      <th>entity_pages</th>\n",
              "      <th>search_results</th>\n",
              "    </tr>\n",
              "  </thead>\n",
              "  <tbody>\n",
              "    <tr>\n",
              "      <th>0</th>\n",
              "      <td>Asmara international airport is in which country?</td>\n",
              "      <td>tc_7</td>\n",
              "      <td>http://www.triviacountry.com/</td>\n",
              "      <td></td>\n",
              "      <td></td>\n",
              "      <td>[Asmara International Airport]</td>\n",
              "      <td>[Asmara International Airport (ASM/HAAY) safet...</td>\n",
              "    </tr>\n",
              "    <tr>\n",
              "      <th>1</th>\n",
              "      <td>At whose concert were 11 people trampled to de...</td>\n",
              "      <td>tc_37</td>\n",
              "      <td>http://www.triviacountry.com/</td>\n",
              "      <td></td>\n",
              "      <td></td>\n",
              "      <td>[Ohio, The Who concert disaster]</td>\n",
              "      <td>[... — The 11 people who were trampled to deat...</td>\n",
              "    </tr>\n",
              "  </tbody>\n",
              "</table>\n",
              "</div>\n",
              "    <div class=\"colab-df-buttons\">\n",
              "\n",
              "  <div class=\"colab-df-container\">\n",
              "    <button class=\"colab-df-convert\" onclick=\"convertToInteractive('df-a0faa952-ef6e-47a1-97dd-ea2e7da1c607')\"\n",
              "            title=\"Convert this dataframe to an interactive table.\"\n",
              "            style=\"display:none;\">\n",
              "\n",
              "  <svg xmlns=\"http://www.w3.org/2000/svg\" height=\"24px\" viewBox=\"0 -960 960 960\">\n",
              "    <path d=\"M120-120v-720h720v720H120Zm60-500h600v-160H180v160Zm220 220h160v-160H400v160Zm0 220h160v-160H400v160ZM180-400h160v-160H180v160Zm440 0h160v-160H620v160ZM180-180h160v-160H180v160Zm440 0h160v-160H620v160Z\"/>\n",
              "  </svg>\n",
              "    </button>\n",
              "\n",
              "  <style>\n",
              "    .colab-df-container {\n",
              "      display:flex;\n",
              "      gap: 12px;\n",
              "    }\n",
              "\n",
              "    .colab-df-convert {\n",
              "      background-color: #E8F0FE;\n",
              "      border: none;\n",
              "      border-radius: 50%;\n",
              "      cursor: pointer;\n",
              "      display: none;\n",
              "      fill: #1967D2;\n",
              "      height: 32px;\n",
              "      padding: 0 0 0 0;\n",
              "      width: 32px;\n",
              "    }\n",
              "\n",
              "    .colab-df-convert:hover {\n",
              "      background-color: #E2EBFA;\n",
              "      box-shadow: 0px 1px 2px rgba(60, 64, 67, 0.3), 0px 1px 3px 1px rgba(60, 64, 67, 0.15);\n",
              "      fill: #174EA6;\n",
              "    }\n",
              "\n",
              "    .colab-df-buttons div {\n",
              "      margin-bottom: 4px;\n",
              "    }\n",
              "\n",
              "    [theme=dark] .colab-df-convert {\n",
              "      background-color: #3B4455;\n",
              "      fill: #D2E3FC;\n",
              "    }\n",
              "\n",
              "    [theme=dark] .colab-df-convert:hover {\n",
              "      background-color: #434B5C;\n",
              "      box-shadow: 0px 1px 3px 1px rgba(0, 0, 0, 0.15);\n",
              "      filter: drop-shadow(0px 1px 2px rgba(0, 0, 0, 0.3));\n",
              "      fill: #FFFFFF;\n",
              "    }\n",
              "  </style>\n",
              "\n",
              "    <script>\n",
              "      const buttonEl =\n",
              "        document.querySelector('#df-a0faa952-ef6e-47a1-97dd-ea2e7da1c607 button.colab-df-convert');\n",
              "      buttonEl.style.display =\n",
              "        google.colab.kernel.accessAllowed ? 'block' : 'none';\n",
              "\n",
              "      async function convertToInteractive(key) {\n",
              "        const element = document.querySelector('#df-a0faa952-ef6e-47a1-97dd-ea2e7da1c607');\n",
              "        const dataTable =\n",
              "          await google.colab.kernel.invokeFunction('convertToInteractive',\n",
              "                                                    [key], {});\n",
              "        if (!dataTable) return;\n",
              "\n",
              "        const docLinkHtml = 'Like what you see? Visit the ' +\n",
              "          '<a target=\"_blank\" href=https://colab.research.google.com/notebooks/data_table.ipynb>data table notebook</a>'\n",
              "          + ' to learn more about interactive tables.';\n",
              "        element.innerHTML = '';\n",
              "        dataTable['output_type'] = 'display_data';\n",
              "        await google.colab.output.renderOutput(dataTable, element);\n",
              "        const docLink = document.createElement('div');\n",
              "        docLink.innerHTML = docLinkHtml;\n",
              "        element.appendChild(docLink);\n",
              "      }\n",
              "    </script>\n",
              "  </div>\n",
              "\n",
              "\n",
              "<div id=\"df-cbd88abc-5b30-491b-a74f-e57d9ed63ef1\">\n",
              "  <button class=\"colab-df-quickchart\" onclick=\"quickchart('df-cbd88abc-5b30-491b-a74f-e57d9ed63ef1')\"\n",
              "            title=\"Suggest charts\"\n",
              "            style=\"display:none;\">\n",
              "\n",
              "<svg xmlns=\"http://www.w3.org/2000/svg\" height=\"24px\"viewBox=\"0 0 24 24\"\n",
              "     width=\"24px\">\n",
              "    <g>\n",
              "        <path d=\"M19 3H5c-1.1 0-2 .9-2 2v14c0 1.1.9 2 2 2h14c1.1 0 2-.9 2-2V5c0-1.1-.9-2-2-2zM9 17H7v-7h2v7zm4 0h-2V7h2v10zm4 0h-2v-4h2v4z\"/>\n",
              "    </g>\n",
              "</svg>\n",
              "  </button>\n",
              "\n",
              "<style>\n",
              "  .colab-df-quickchart {\n",
              "      --bg-color: #E8F0FE;\n",
              "      --fill-color: #1967D2;\n",
              "      --hover-bg-color: #E2EBFA;\n",
              "      --hover-fill-color: #174EA6;\n",
              "      --disabled-fill-color: #AAA;\n",
              "      --disabled-bg-color: #DDD;\n",
              "  }\n",
              "\n",
              "  [theme=dark] .colab-df-quickchart {\n",
              "      --bg-color: #3B4455;\n",
              "      --fill-color: #D2E3FC;\n",
              "      --hover-bg-color: #434B5C;\n",
              "      --hover-fill-color: #FFFFFF;\n",
              "      --disabled-bg-color: #3B4455;\n",
              "      --disabled-fill-color: #666;\n",
              "  }\n",
              "\n",
              "  .colab-df-quickchart {\n",
              "    background-color: var(--bg-color);\n",
              "    border: none;\n",
              "    border-radius: 50%;\n",
              "    cursor: pointer;\n",
              "    display: none;\n",
              "    fill: var(--fill-color);\n",
              "    height: 32px;\n",
              "    padding: 0;\n",
              "    width: 32px;\n",
              "  }\n",
              "\n",
              "  .colab-df-quickchart:hover {\n",
              "    background-color: var(--hover-bg-color);\n",
              "    box-shadow: 0 1px 2px rgba(60, 64, 67, 0.3), 0 1px 3px 1px rgba(60, 64, 67, 0.15);\n",
              "    fill: var(--button-hover-fill-color);\n",
              "  }\n",
              "\n",
              "  .colab-df-quickchart-complete:disabled,\n",
              "  .colab-df-quickchart-complete:disabled:hover {\n",
              "    background-color: var(--disabled-bg-color);\n",
              "    fill: var(--disabled-fill-color);\n",
              "    box-shadow: none;\n",
              "  }\n",
              "\n",
              "  .colab-df-spinner {\n",
              "    border: 2px solid var(--fill-color);\n",
              "    border-color: transparent;\n",
              "    border-bottom-color: var(--fill-color);\n",
              "    animation:\n",
              "      spin 1s steps(1) infinite;\n",
              "  }\n",
              "\n",
              "  @keyframes spin {\n",
              "    0% {\n",
              "      border-color: transparent;\n",
              "      border-bottom-color: var(--fill-color);\n",
              "      border-left-color: var(--fill-color);\n",
              "    }\n",
              "    20% {\n",
              "      border-color: transparent;\n",
              "      border-left-color: var(--fill-color);\n",
              "      border-top-color: var(--fill-color);\n",
              "    }\n",
              "    30% {\n",
              "      border-color: transparent;\n",
              "      border-left-color: var(--fill-color);\n",
              "      border-top-color: var(--fill-color);\n",
              "      border-right-color: var(--fill-color);\n",
              "    }\n",
              "    40% {\n",
              "      border-color: transparent;\n",
              "      border-right-color: var(--fill-color);\n",
              "      border-top-color: var(--fill-color);\n",
              "    }\n",
              "    60% {\n",
              "      border-color: transparent;\n",
              "      border-right-color: var(--fill-color);\n",
              "    }\n",
              "    80% {\n",
              "      border-color: transparent;\n",
              "      border-right-color: var(--fill-color);\n",
              "      border-bottom-color: var(--fill-color);\n",
              "    }\n",
              "    90% {\n",
              "      border-color: transparent;\n",
              "      border-bottom-color: var(--fill-color);\n",
              "    }\n",
              "  }\n",
              "</style>\n",
              "\n",
              "  <script>\n",
              "    async function quickchart(key) {\n",
              "      const quickchartButtonEl =\n",
              "        document.querySelector('#' + key + ' button');\n",
              "      quickchartButtonEl.disabled = true;  // To prevent multiple clicks.\n",
              "      quickchartButtonEl.classList.add('colab-df-spinner');\n",
              "      try {\n",
              "        const charts = await google.colab.kernel.invokeFunction(\n",
              "            'suggestCharts', [key], {});\n",
              "      } catch (error) {\n",
              "        console.error('Error during call to suggestCharts:', error);\n",
              "      }\n",
              "      quickchartButtonEl.classList.remove('colab-df-spinner');\n",
              "      quickchartButtonEl.classList.add('colab-df-quickchart-complete');\n",
              "    }\n",
              "    (() => {\n",
              "      let quickchartButtonEl =\n",
              "        document.querySelector('#df-cbd88abc-5b30-491b-a74f-e57d9ed63ef1 button');\n",
              "      quickchartButtonEl.style.display =\n",
              "        google.colab.kernel.accessAllowed ? 'block' : 'none';\n",
              "    })();\n",
              "  </script>\n",
              "</div>\n",
              "    </div>\n",
              "  </div>\n"
            ],
            "text/plain": [
              "                                            question question_id  \\\n",
              "0  Asmara international airport is in which country?        tc_7   \n",
              "1  At whose concert were 11 people trampled to de...       tc_37   \n",
              "\n",
              "                 question_source answer normalized_value  \\\n",
              "0  http://www.triviacountry.com/                           \n",
              "1  http://www.triviacountry.com/                           \n",
              "\n",
              "                       entity_pages  \\\n",
              "0    [Asmara International Airport]   \n",
              "1  [Ohio, The Who concert disaster]   \n",
              "\n",
              "                                      search_results  \n",
              "0  [Asmara International Airport (ASM/HAAY) safet...  \n",
              "1  [... — The 11 people who were trampled to deat...  "
            ]
          },
          "execution_count": 12,
          "metadata": {},
          "output_type": "execute_result"
        }
      ],
      "source": [
        "df_test.head(2)"
      ]
    },
    {
      "cell_type": "markdown",
      "metadata": {
        "id": "M5mj0YSMuN5U"
      },
      "source": [
        "## Preprocess the Text"
      ]
    },
    {
      "cell_type": "code",
      "execution_count": 4,
      "metadata": {
        "colab": {
          "base_uri": "https://localhost:8080/"
        },
        "id": "DWtr_yLmuQsn",
        "outputId": "258c9c1f-3dfd-4eab-a64f-11bfea06fa25"
      },
      "outputs": [
        {
          "output_type": "stream",
          "name": "stderr",
          "text": [
            "[nltk_data] Downloading package punkt to /root/nltk_data...\n",
            "[nltk_data]   Package punkt is already up-to-date!\n"
          ]
        },
        {
          "output_type": "execute_result",
          "data": {
            "text/plain": [
              "True"
            ]
          },
          "metadata": {},
          "execution_count": 4
        }
      ],
      "source": [
        "import nltk\n",
        "from nltk.tokenize import word_tokenize\n",
        "nltk.download('punkt')"
      ]
    },
    {
      "cell_type": "code",
      "execution_count": 5,
      "metadata": {
        "id": "zGSTHZMyw_NX"
      },
      "outputs": [],
      "source": [
        "import numpy as np\n",
        "import pandas as pd\n",
        "from tensorflow.keras.preprocessing.text import Tokenizer\n",
        "from tensorflow.keras.preprocessing.sequence import pad_sequences\n",
        "from sklearn.model_selection import train_test_split\n",
        "from nltk.tokenize import word_tokenize"
      ]
    },
    {
      "cell_type": "code",
      "execution_count": null,
      "metadata": {
        "colab": {
          "base_uri": "https://localhost:8080/"
        },
        "id": "tJaUbEm3UkAX",
        "outputId": "b09c0217-4ca6-41d6-d468-e56d86c072d8"
      },
      "outputs": [
        {
          "name": "stdout",
          "output_type": "stream",
          "text": [
            "DataFrame saved to /content/drive/MyDrive/Dataset/RQA/triviaqa-unfiltered/df_train.csv\n"
          ]
        }
      ],
      "source": [
        "save_dataframe_to_csv(df_train,path_base + 'df_train.csv')"
      ]
    },
    {
      "cell_type": "code",
      "execution_count": null,
      "metadata": {
        "colab": {
          "base_uri": "https://localhost:8080/"
        },
        "id": "4p9cJHRQVCKQ",
        "outputId": "90c046be-6a2e-4c85-c071-484cb876d1ca"
      },
      "outputs": [
        {
          "name": "stdout",
          "output_type": "stream",
          "text": [
            "DataFrame saved to /content/drive/MyDrive/Dataset/RQA/triviaqa-unfiltered/df_test.csv\n"
          ]
        }
      ],
      "source": [
        "save_dataframe_to_csv(df_test,path_base + 'df_test.csv')"
      ]
    },
    {
      "cell_type": "code",
      "execution_count": null,
      "metadata": {
        "colab": {
          "base_uri": "https://localhost:8080/"
        },
        "id": "3XGYB9aQVFQQ",
        "outputId": "1a9b77c9-1ecb-43ea-ce91-3f667be922d3"
      },
      "outputs": [
        {
          "name": "stdout",
          "output_type": "stream",
          "text": [
            "DataFrame saved to /content/drive/MyDrive/Dataset/RQA/triviaqa-unfiltered/df_dev.csv\n"
          ]
        }
      ],
      "source": [
        "save_dataframe_to_csv(df_dev,path_base + 'df_dev.csv')"
      ]
    },
    {
      "cell_type": "code",
      "execution_count": 6,
      "metadata": {
        "colab": {
          "base_uri": "https://localhost:8080/"
        },
        "id": "k8EnhswHVQsB",
        "outputId": "b15e54d3-5a77-4767-f16e-5c6485ab1e45"
      },
      "outputs": [
        {
          "output_type": "stream",
          "name": "stdout",
          "text": [
            "DataFrame read from /content/drive/MyDrive/Dataset/RQA/triviaqa-unfiltered/df_train.csv\n"
          ]
        }
      ],
      "source": [
        "try:\n",
        "  df_train\n",
        "except:\n",
        "  df_train = read_dataframe_from_csv(path_base + 'df_train.csv')"
      ]
    },
    {
      "cell_type": "code",
      "execution_count": 7,
      "metadata": {
        "colab": {
          "base_uri": "https://localhost:8080/"
        },
        "id": "iNefIbVQVLLF",
        "outputId": "4af969bd-1a27-43d0-ca10-fa0431b6c275"
      },
      "outputs": [
        {
          "output_type": "stream",
          "name": "stdout",
          "text": [
            "DataFrame read from /content/drive/MyDrive/Dataset/RQA/triviaqa-unfiltered/df_test.csv\n"
          ]
        }
      ],
      "source": [
        "try:\n",
        "  df_test\n",
        "except:\n",
        "  df_test = read_dataframe_from_csv(path_base + 'df_test.csv')"
      ]
    },
    {
      "cell_type": "code",
      "execution_count": 8,
      "metadata": {
        "colab": {
          "base_uri": "https://localhost:8080/"
        },
        "id": "x88SY8M8WABa",
        "outputId": "9968529f-b6fd-4992-be90-7690fbbc96ab"
      },
      "outputs": [
        {
          "output_type": "stream",
          "name": "stdout",
          "text": [
            "DataFrame read from /content/drive/MyDrive/Dataset/RQA/triviaqa-unfiltered/df_dev.csv\n"
          ]
        }
      ],
      "source": [
        "try:\n",
        "  df_dev\n",
        "except:\n",
        "  df_dev = read_dataframe_from_csv(path_base + 'df_dev.csv')"
      ]
    },
    {
      "cell_type": "code",
      "execution_count": 9,
      "metadata": {
        "id": "HtygfeGlblIo"
      },
      "outputs": [],
      "source": [
        "df_train = sample_dataframe(df_train, 5000, 42)\n"
      ]
    },
    {
      "cell_type": "code",
      "execution_count": 10,
      "metadata": {
        "id": "EXWLqv04b7-I"
      },
      "outputs": [],
      "source": [
        "df_test = sample_dataframe(df_test, 1000, 42)\n",
        "df_dev = sample_dataframe(df_dev, 1500, 42)"
      ]
    },
    {
      "cell_type": "code",
      "source": [
        "df_train['context'] = df_train.apply(lambda x: clean_and_create_context(x['search_results']), axis=1)\n",
        "df_test['context'] = df_test.apply(lambda x: clean_and_create_context(x['search_results']), axis=1)\n",
        "df_dev['context'] = df_dev.apply(lambda x: clean_and_create_context(x['search_results']), axis=1)"
      ],
      "metadata": {
        "id": "BGOwhpJGu6H3"
      },
      "execution_count": 11,
      "outputs": []
    },
    {
      "cell_type": "code",
      "execution_count": 12,
      "metadata": {
        "id": "JjiR4yEF8PIt"
      },
      "outputs": [],
      "source": [
        "def preprocess_data(df_train, df_test, df_dev):\n",
        "    # Initialize tokenizer\n",
        "    tokenizer = Tokenizer()\n",
        "\n",
        "    # Ensure all entries in 'question' and 'answer' columns are strings\n",
        "    df_train['question'] = df_train['question'].astype(str).fillna('')\n",
        "    df_test['question'] = df_test['question'].astype(str).fillna('')\n",
        "    df_dev['question'] = df_dev['question'].astype(str).fillna('')\n",
        "\n",
        "    df_train['answer'] = df_train['answer'].astype(str).fillna('')\n",
        "    df_test['answer'] = df_test['answer'].astype(str).fillna('')\n",
        "    df_dev['answer'] = df_dev['answer'].astype(str).fillna('')\n",
        "\n",
        "    df_train['context'] = df_train['context'].astype(str).fillna('')\n",
        "    df_test['context'] = df_test['context'].astype(str).fillna('')\n",
        "    df_dev['context'] = df_dev['context'].astype(str).fillna('')\n",
        "\n",
        "    # Tokenize the text in the DataFrame\n",
        "    df_train['question_tokens'] = df_train['question'].apply(word_tokenize)\n",
        "    df_test['question_tokens'] = df_test['question'].apply(word_tokenize)\n",
        "    df_dev['question_tokens'] = df_dev['question'].apply(word_tokenize)\n",
        "\n",
        "    df_train['answer_tokens'] = df_train['answer'].apply(word_tokenize)\n",
        "    df_test['answer_tokens'] = df_test['answer'].apply(word_tokenize)\n",
        "    df_dev['answer_tokens'] = df_dev['answer'].apply(word_tokenize)\n",
        "\n",
        "    df_train['context_tokens'] = df_train['context'].apply(word_tokenize)\n",
        "    df_test['context_tokens'] = df_test['context'].apply(word_tokenize)\n",
        "    df_dev['context_tokens'] = df_dev['context'].apply(word_tokenize)\n",
        "\n",
        "    # Additional preprocessing (lowercasing)\n",
        "    df_train['question_tokens'] = df_train['question_tokens'].apply(lambda tokens: [token.lower() for token in tokens])\n",
        "    df_test['question_tokens'] = df_test['question_tokens'].apply(lambda tokens: [token.lower() for token in tokens])\n",
        "    df_dev['question_tokens'] = df_dev['question_tokens'].apply(lambda tokens: [token.lower() for token in tokens])\n",
        "\n",
        "    df_train['answer_tokens'] = df_train['answer_tokens'].apply(lambda tokens: [token.lower() for token in tokens])\n",
        "    df_test['answer_tokens'] = df_test['answer_tokens'].apply(lambda tokens: [token.lower() for token in tokens])\n",
        "    df_dev['answer_tokens'] = df_dev['answer_tokens'].apply(lambda tokens: [token.lower() for token in tokens])\n",
        "\n",
        "    df_train['context_tokens'] = df_train['context_tokens'].apply(lambda tokens: [token.lower() for token in tokens])\n",
        "    df_test['context_tokens'] = df_test['context_tokens'].apply(lambda tokens: [token.lower() for token in tokens])\n",
        "    df_dev['context_tokens'] = df_dev['context_tokens'].apply(lambda tokens: [token.lower() for token in tokens])\n",
        "\n",
        "    # Combine all questions and answers for fitting the tokenizer\n",
        "    all_texts = df_train['question_tokens'].tolist() + df_test['question_tokens'].tolist() + df_dev['question_tokens'].tolist()\n",
        "    all_answers = df_train['answer_tokens'].tolist() + df_test['answer_tokens'].tolist() + df_dev['answer_tokens'].tolist()\n",
        "    all_context = df_train['context_tokens'].tolist() + df_test['context_tokens'].tolist() + df_dev['context_tokens'].tolist()\n",
        "\n",
        "    # Fit tokenizer on all questions and answers\n",
        "    tokenizer.fit_on_texts(all_texts + all_answers)\n",
        "\n",
        "    # Tokenize questions\n",
        "    df_train['question_seq'] = tokenizer.texts_to_sequences(df_train['question_tokens'])\n",
        "    df_test['question_seq'] = tokenizer.texts_to_sequences(df_test['question_tokens'])\n",
        "    df_dev['question_seq'] = tokenizer.texts_to_sequences(df_dev['question_tokens'])\n",
        "\n",
        "    # Tokenize answers\n",
        "    df_train['answer_seq'] = tokenizer.texts_to_sequences(df_train['answer_tokens'])\n",
        "    df_test['answer_seq'] = tokenizer.texts_to_sequences(df_test['answer_tokens'])\n",
        "    df_dev['answer_seq'] = tokenizer.texts_to_sequences(df_dev['answer_tokens'])\n",
        "\n",
        "    # Tokenize context\n",
        "    df_train['context_seq'] = tokenizer.texts_to_sequences(df_train['context_tokens'])\n",
        "    df_test['context_seq'] = tokenizer.texts_to_sequences(df_test['context_tokens'])\n",
        "    df_dev['context_seq'] = tokenizer.texts_to_sequences(df_dev['context_tokens'])\n",
        "\n",
        "    # Calculate max_question_length\n",
        "    max_question_length_train = df_train['question_seq'].apply(len).max()\n",
        "    max_question_length_test = df_test['question_seq'].apply(len).max()\n",
        "    max_question_length_dev = df_dev['question_seq'].apply(len).max()\n",
        "\n",
        "    max_question_length = max(max_question_length_train, max_question_length_test, max_question_length_dev)\n",
        "\n",
        "    # Calculate max_answer_length\n",
        "    max_answer_length_train = df_train['answer_seq'].apply(len).max()\n",
        "    max_answer_length_test = df_test['answer_seq'].apply(len).max()\n",
        "    max_answer_length_dev = df_dev['answer_seq'].apply(len).max()\n",
        "\n",
        "    max_answer_length = max(max_answer_length_train, max_answer_length_test, max_answer_length_dev)\n",
        "\n",
        "    # Calculate max_answer_length\n",
        "    max_context_length_train = df_train['context_seq'].apply(len).max()\n",
        "    max_context_length_test = df_test['context_seq'].apply(len).max()\n",
        "    max_context_length_dev = df_dev['context_seq'].apply(len).max()\n",
        "\n",
        "    max_answer_length = max(max_context_length_train, max_context_length_test, max_context_length_dev)\n",
        "\n",
        "    # Padding sequences\n",
        "    df_train['question_seq_padded'] = pad_sequences(df_train['question_seq'], maxlen=max_question_length, padding='post').tolist()\n",
        "    df_test['question_seq_padded'] = pad_sequences(df_test['question_seq'], maxlen=max_question_length, padding='post').tolist()\n",
        "    df_dev['question_seq_padded'] = pad_sequences(df_dev['question_seq'], maxlen=max_question_length, padding='post').tolist()\n",
        "\n",
        "    df_train['answer_seq_padded'] = pad_sequences(df_train['answer_seq'], maxlen=max_answer_length, padding='post').tolist()\n",
        "    df_test['answer_seq_padded'] = pad_sequences(df_test['answer_seq'], maxlen=max_answer_length, padding='post').tolist()\n",
        "    df_dev['answer_seq_padded'] = pad_sequences(df_dev['answer_seq'], maxlen=max_answer_length, padding='post').tolist()\n",
        "\n",
        "\n",
        "    df_train['context_seq_padded'] = pad_sequences(df_train['context_seq'], maxlen=max_answer_length, padding='post').tolist()\n",
        "    df_test['context_seq_padded'] = pad_sequences(df_test['context_seq'], maxlen=max_answer_length, padding='post').tolist()\n",
        "    df_dev['context_seq_padded'] = pad_sequences(df_dev['context_seq'], maxlen=max_answer_length, padding='post').tolist()\n",
        "\n",
        "    # Prepare inputs\n",
        "    X_train = [np.array(df_train['question_seq_padded'].tolist()),np.array(df_train['context_seq_padded'].tolist())]\n",
        "    X_test = [np.array(df_test['question_seq_padded'].tolist()),np.array(df_test['context_seq_padded'].tolist())]\n",
        "    X_dev = [np.array(df_dev['question_seq_padded'].tolist()),np.array(df_dev['context_seq_padded'].tolist())]\n",
        "\n",
        "    # Assuming 'answer_start' as target variable (for RQA tasks)\n",
        "    y_train = np.array(df_train['answer_seq_padded'].tolist())\n",
        "    y_test = np.array(df_test['answer_seq_padded'].tolist())\n",
        "    y_dev = np.array(df_dev['answer_seq_padded'].tolist())\n",
        "\n",
        "    return X_train, X_test, X_dev, y_train, y_test, y_dev, tokenizer,max_question_length,max_answer_length"
      ]
    },
    {
      "cell_type": "code",
      "execution_count": 13,
      "metadata": {
        "id": "A98MrN_38V22"
      },
      "outputs": [],
      "source": [
        "X_train, X_test, X_dev, y_train, y_test, y_dev, tokenizer, max_question_length, max_answer_length = preprocess_data(df_train, df_test, df_dev)\n"
      ]
    },
    {
      "cell_type": "markdown",
      "metadata": {
        "id": "OBlN0KjvwEsE"
      },
      "source": [
        "# Create model with LSTM"
      ]
    },
    {
      "cell_type": "markdown",
      "source": [
        "## New LSTM(T5)"
      ],
      "metadata": {
        "id": "3oG84tyvtXmI"
      }
    },
    {
      "cell_type": "code",
      "source": [
        "!pip install evaluate"
      ],
      "metadata": {
        "colab": {
          "base_uri": "https://localhost:8080/"
        },
        "id": "tXeZvOP7trRM",
        "outputId": "f8f4a9ba-4b01-4dd1-ea6d-aa779244d510"
      },
      "execution_count": 17,
      "outputs": [
        {
          "output_type": "stream",
          "name": "stdout",
          "text": [
            "Requirement already satisfied: evaluate in /usr/local/lib/python3.10/dist-packages (0.4.2)\n",
            "Requirement already satisfied: datasets>=2.0.0 in /usr/local/lib/python3.10/dist-packages (from evaluate) (2.20.0)\n",
            "Requirement already satisfied: numpy>=1.17 in /usr/local/lib/python3.10/dist-packages (from evaluate) (1.26.4)\n",
            "Requirement already satisfied: dill in /usr/local/lib/python3.10/dist-packages (from evaluate) (0.3.8)\n",
            "Requirement already satisfied: pandas in /usr/local/lib/python3.10/dist-packages (from evaluate) (2.1.4)\n",
            "Requirement already satisfied: requests>=2.19.0 in /usr/local/lib/python3.10/dist-packages (from evaluate) (2.32.3)\n",
            "Requirement already satisfied: tqdm>=4.62.1 in /usr/local/lib/python3.10/dist-packages (from evaluate) (4.66.4)\n",
            "Requirement already satisfied: xxhash in /usr/local/lib/python3.10/dist-packages (from evaluate) (3.4.1)\n",
            "Requirement already satisfied: multiprocess in /usr/local/lib/python3.10/dist-packages (from evaluate) (0.70.16)\n",
            "Requirement already satisfied: fsspec>=2021.05.0 in /usr/local/lib/python3.10/dist-packages (from fsspec[http]>=2021.05.0->evaluate) (2024.5.0)\n",
            "Requirement already satisfied: huggingface-hub>=0.7.0 in /usr/local/lib/python3.10/dist-packages (from evaluate) (0.23.5)\n",
            "Requirement already satisfied: packaging in /usr/local/lib/python3.10/dist-packages (from evaluate) (24.1)\n",
            "Requirement already satisfied: filelock in /usr/local/lib/python3.10/dist-packages (from datasets>=2.0.0->evaluate) (3.15.4)\n",
            "Requirement already satisfied: pyarrow>=15.0.0 in /usr/local/lib/python3.10/dist-packages (from datasets>=2.0.0->evaluate) (17.0.0)\n",
            "Requirement already satisfied: pyarrow-hotfix in /usr/local/lib/python3.10/dist-packages (from datasets>=2.0.0->evaluate) (0.6)\n",
            "Requirement already satisfied: aiohttp in /usr/local/lib/python3.10/dist-packages (from datasets>=2.0.0->evaluate) (3.10.0)\n",
            "Requirement already satisfied: pyyaml>=5.1 in /usr/local/lib/python3.10/dist-packages (from datasets>=2.0.0->evaluate) (6.0.1)\n",
            "Requirement already satisfied: typing-extensions>=3.7.4.3 in /usr/local/lib/python3.10/dist-packages (from huggingface-hub>=0.7.0->evaluate) (4.12.2)\n",
            "Requirement already satisfied: charset-normalizer<4,>=2 in /usr/local/lib/python3.10/dist-packages (from requests>=2.19.0->evaluate) (3.3.2)\n",
            "Requirement already satisfied: idna<4,>=2.5 in /usr/local/lib/python3.10/dist-packages (from requests>=2.19.0->evaluate) (3.7)\n",
            "Requirement already satisfied: urllib3<3,>=1.21.1 in /usr/local/lib/python3.10/dist-packages (from requests>=2.19.0->evaluate) (2.0.7)\n",
            "Requirement already satisfied: certifi>=2017.4.17 in /usr/local/lib/python3.10/dist-packages (from requests>=2.19.0->evaluate) (2024.7.4)\n",
            "Requirement already satisfied: python-dateutil>=2.8.2 in /usr/local/lib/python3.10/dist-packages (from pandas->evaluate) (2.8.2)\n",
            "Requirement already satisfied: pytz>=2020.1 in /usr/local/lib/python3.10/dist-packages (from pandas->evaluate) (2024.1)\n",
            "Requirement already satisfied: tzdata>=2022.1 in /usr/local/lib/python3.10/dist-packages (from pandas->evaluate) (2024.1)\n",
            "Requirement already satisfied: aiohappyeyeballs>=2.3.0 in /usr/local/lib/python3.10/dist-packages (from aiohttp->datasets>=2.0.0->evaluate) (2.3.4)\n",
            "Requirement already satisfied: aiosignal>=1.1.2 in /usr/local/lib/python3.10/dist-packages (from aiohttp->datasets>=2.0.0->evaluate) (1.3.1)\n",
            "Requirement already satisfied: attrs>=17.3.0 in /usr/local/lib/python3.10/dist-packages (from aiohttp->datasets>=2.0.0->evaluate) (23.2.0)\n",
            "Requirement already satisfied: frozenlist>=1.1.1 in /usr/local/lib/python3.10/dist-packages (from aiohttp->datasets>=2.0.0->evaluate) (1.4.1)\n",
            "Requirement already satisfied: multidict<7.0,>=4.5 in /usr/local/lib/python3.10/dist-packages (from aiohttp->datasets>=2.0.0->evaluate) (6.0.5)\n",
            "Requirement already satisfied: yarl<2.0,>=1.0 in /usr/local/lib/python3.10/dist-packages (from aiohttp->datasets>=2.0.0->evaluate) (1.9.4)\n",
            "Requirement already satisfied: async-timeout<5.0,>=4.0 in /usr/local/lib/python3.10/dist-packages (from aiohttp->datasets>=2.0.0->evaluate) (4.0.3)\n",
            "Requirement already satisfied: six>=1.5 in /usr/local/lib/python3.10/dist-packages (from python-dateutil>=2.8.2->pandas->evaluate) (1.16.0)\n"
          ]
        }
      ]
    },
    {
      "cell_type": "code",
      "source": [
        "import torch\n",
        "import json\n",
        "from tqdm import tqdm\n",
        "import torch.nn as nn\n",
        "from torch.optim import Adam\n",
        "import nltk\n",
        "import spacy\n",
        "import string\n",
        "import evaluate  # Bleu\n",
        "from torch.utils.data import Dataset, DataLoader, RandomSampler\n",
        "import pandas as pd\n",
        "import numpy as np\n",
        "import transformers\n",
        "from sklearn.model_selection import train_test_split\n",
        "import matplotlib.pyplot as plt\n",
        "from transformers import T5Tokenizer, T5Model, T5ForConditionalGeneration, T5TokenizerFast\n",
        "\n",
        "import warnings"
      ],
      "metadata": {
        "id": "zV3FgoeFtXMq"
      },
      "execution_count": 14,
      "outputs": []
    },
    {
      "cell_type": "code",
      "source": [
        "\n",
        "warnings.filterwarnings(\"ignore\")"
      ],
      "metadata": {
        "id": "sXNQZFfhtkjO"
      },
      "execution_count": 15,
      "outputs": []
    },
    {
      "cell_type": "code",
      "source": [
        "t5_tokenizer = T5TokenizerFast.from_pretrained(\"t5-base\")\n",
        "t5_model = T5ForConditionalGeneration.from_pretrained(\"t5-base\", return_dict=True)\n",
        "optimizer_adam = Adam(t5_model.parameters(), lr=0.00001)\n"
      ],
      "metadata": {
        "id": "hYRCFP3jtnaX"
      },
      "execution_count": 16,
      "outputs": []
    },
    {
      "cell_type": "code",
      "source": [
        "q_len = 64 #len(X_train[0])   # Question Length\n",
        "t_len = 64 #len(X_test)    # Target Length\n",
        "batch_size = 8\n",
        "device = \"cuda:0\" if torch.cuda.is_available() else \"cpu\""
      ],
      "metadata": {
        "id": "BM-nFhsMuDWj"
      },
      "execution_count": 17,
      "outputs": []
    },
    {
      "cell_type": "code",
      "source": [
        "q_len"
      ],
      "metadata": {
        "colab": {
          "base_uri": "https://localhost:8080/"
        },
        "id": "ncBvTcbXXXxB",
        "outputId": "2dfe7fc8-dc1f-4181-aeae-caa2a66d9358"
      },
      "execution_count": 18,
      "outputs": [
        {
          "output_type": "execute_result",
          "data": {
            "text/plain": [
              "128"
            ]
          },
          "metadata": {},
          "execution_count": 18
        }
      ]
    },
    {
      "cell_type": "code",
      "source": [
        "class QA_Dataset(Dataset):\n",
        "    def __init__(self, tokenizer, dataframe, q_len, t_len):\n",
        "        self.tokenizer = tokenizer\n",
        "        self.q_len = q_len\n",
        "        self.t_len = t_len\n",
        "        self.data = dataframe.reset_index(drop=True)  # Reset index to ensure continuity\n",
        "        self.questions = self.data[\"question\"]\n",
        "        self.context = self.data[\"context\"]\n",
        "        self.answer = self.data['answer']\n",
        "\n",
        "    def __len__(self):\n",
        "        return len(self.questions)\n",
        "\n",
        "    def __getitem__(self, idx):\n",
        "        question = self.questions[idx]\n",
        "        context = self.context[idx]\n",
        "        answer = self.answer[idx]\n",
        "\n",
        "        question_tokenized = self.tokenizer(question, context, max_length=self.q_len, padding=\"max_length\",\n",
        "                                                    truncation=True, pad_to_max_length=True, add_special_tokens=True)\n",
        "        answer_tokenized = self.tokenizer(answer, max_length=self.t_len, padding=\"max_length\",\n",
        "                                          truncation=True, pad_to_max_length=True, add_special_tokens=True)\n",
        "\n",
        "        labels = torch.tensor(answer_tokenized[\"input_ids\"], dtype=torch.long)\n",
        "        labels[labels == 0] = -100\n",
        "\n",
        "        return {\n",
        "            \"input_ids\": torch.tensor(question_tokenized[\"input_ids\"], dtype=torch.long),\n",
        "            \"attention_mask\": torch.tensor(question_tokenized[\"attention_mask\"], dtype=torch.long),\n",
        "            \"labels\": labels,\n",
        "            \"decoder_attention_mask\": torch.tensor(answer_tokenized[\"attention_mask\"], dtype=torch.long)\n",
        "        }"
      ],
      "metadata": {
        "id": "4SU5HA2qum8v"
      },
      "execution_count": 18,
      "outputs": []
    },
    {
      "cell_type": "code",
      "source": [
        "df_train_dev = pd.concat([df_train , df_dev])"
      ],
      "metadata": {
        "id": "dC0lvHmV1El0"
      },
      "execution_count": 19,
      "outputs": []
    },
    {
      "cell_type": "code",
      "source": [
        "train_sampler = RandomSampler(df_train.index)\n",
        "val_sampler = RandomSampler(df_dev.index)\n",
        "\n",
        "qa_dataset = QA_Dataset(t5_tokenizer, df_train_dev, q_len, t_len)\n",
        "\n",
        "train_loader = DataLoader(qa_dataset, batch_size=batch_size, sampler=train_sampler)\n",
        "val_loader = DataLoader(qa_dataset, batch_size=batch_size, sampler=val_sampler)"
      ],
      "metadata": {
        "id": "4hV8qR3Q0otD"
      },
      "execution_count": 20,
      "outputs": []
    },
    {
      "cell_type": "code",
      "source": [
        "# Function to calculate accuracy\n",
        "def calculate_accuracy(preds, labels):\n",
        "    preds = np.argmax(preds, axis=2)  # Get the index of the max log-probability\n",
        "    mask = (labels != -100)  # Ignore padding indices and calculate accuracy\n",
        "    correct = (preds == labels) & mask\n",
        "    accuracy = correct.sum() / mask.sum()\n",
        "    return accuracy.item()"
      ],
      "metadata": {
        "id": "kyvd8S5CW-NE"
      },
      "execution_count": 21,
      "outputs": []
    },
    {
      "cell_type": "code",
      "source": [
        "train_loss = 0\n",
        "val_loss = 0\n",
        "train_batch_count = 0\n",
        "val_batch_count = 0\n",
        "\n",
        "for epoch in range(1):\n",
        "    t5_model.train()\n",
        "    train_loss = 0\n",
        "    train_accuracy = 0\n",
        "    train_batch_count = 0\n",
        "    for batch in tqdm(train_loader, desc=\"Training batches\"):\n",
        "        input_ids = batch[\"input_ids\"].to(device)\n",
        "        attention_mask = batch[\"attention_mask\"].to(device)\n",
        "        labels = batch[\"labels\"].to(device)\n",
        "        decoder_attention_mask = batch[\"decoder_attention_mask\"].to(device)\n",
        "\n",
        "        outputs = t5_model(\n",
        "                          input_ids=input_ids,\n",
        "                          attention_mask=attention_mask,\n",
        "                          labels=labels,\n",
        "                          decoder_attention_mask=decoder_attention_mask\n",
        "                        )\n",
        "\n",
        "        optimizer_adam.zero_grad()\n",
        "        outputs.loss.backward()\n",
        "        optimizer_adam.step()\n",
        "        train_loss += outputs.loss.item()\n",
        "        train_accuracy += calculate_accuracy(outputs.logits.detach().cpu().numpy(), labels.detach().cpu().numpy())\n",
        "        train_batch_count += 1\n",
        "    # Evaluation\n",
        "    t5_model.eval()\n",
        "    val_loss = 0\n",
        "    val_accuracy = 0\n",
        "    val_batch_count = 0\n",
        "\n",
        "    for batch in tqdm(val_loader, desc=\"Validation batches\"):\n",
        "        input_ids = batch[\"input_ids\"].to(device)\n",
        "        attention_mask = batch[\"attention_mask\"].to(device)\n",
        "        labels = batch[\"labels\"].to(device)\n",
        "        decoder_attention_mask = batch[\"decoder_attention_mask\"].to(device)\n",
        "\n",
        "        outputs = t5_model(\n",
        "                          input_ids=input_ids,\n",
        "                          attention_mask=attention_mask,\n",
        "                          labels=labels,\n",
        "                          decoder_attention_mask=decoder_attention_mask\n",
        "                        )\n",
        "\n",
        "        optimizer_adam.zero_grad()\n",
        "        outputs.loss.backward()\n",
        "        optimizer_adam.step()\n",
        "        val_loss += outputs.loss.item()\n",
        "        val_accuracy += calculate_accuracy(outputs.logits.detach().cpu().numpy(), labels.detach().cpu().numpy())\n",
        "        val_batch_count += 1\n",
        "\n",
        "    # Print results\n",
        "    print(f\"Epoch {epoch+1}/5 -> Train loss: {train_loss / train_batch_count:.4f}, Train accuracy: {train_accuracy / train_batch_count:.4f}\")\n",
        "    print(f\"Validation loss: {val_loss / val_batch_count:.4f}, Validation accuracy: {val_accuracy / val_batch_count:.4f}\")\n",
        ""
      ],
      "metadata": {
        "colab": {
          "base_uri": "https://localhost:8080/"
        },
        "id": "gMDyc0P81XxF",
        "outputId": "cc53addb-f63d-40f7-d3a6-fc515bdb3b64"
      },
      "execution_count": 23,
      "outputs": [
        {
          "output_type": "stream",
          "name": "stderr",
          "text": [
            "Training batches: 100%|██████████| 625/625 [2:56:26<00:00, 16.94s/it]\n",
            "Validation batches: 100%|██████████| 188/188 [44:06<00:00, 14.08s/it]"
          ]
        },
        {
          "output_type": "stream",
          "name": "stdout",
          "text": [
            "Epoch 1/5 -> Train loss: 3.0915, Train accuracy: 0.4754\n",
            "Validation loss: 2.5999, Validation accuracy: 0.5438\n"
          ]
        },
        {
          "output_type": "stream",
          "name": "stderr",
          "text": [
            "\n"
          ]
        }
      ]
    },
    {
      "cell_type": "code",
      "source": [
        "t5_model.save_pretrained(path_base + \"qa_model\")\n",
        "t5_tokenizer.save_pretrained(path_base + \"qa_tokenizer\")\n"
      ],
      "metadata": {
        "colab": {
          "base_uri": "https://localhost:8080/"
        },
        "id": "F6fvysLL5F7P",
        "outputId": "5fc47973-46a6-4517-c5cc-df674371e8ab"
      },
      "execution_count": 25,
      "outputs": [
        {
          "output_type": "execute_result",
          "data": {
            "text/plain": [
              "('/content/drive/MyDrive/Dataset/RQA/triviaqa-unfiltered/qa_tokenizer/tokenizer_config.json',\n",
              " '/content/drive/MyDrive/Dataset/RQA/triviaqa-unfiltered/qa_tokenizer/special_tokens_map.json',\n",
              " '/content/drive/MyDrive/Dataset/RQA/triviaqa-unfiltered/qa_tokenizer/spiece.model',\n",
              " '/content/drive/MyDrive/Dataset/RQA/triviaqa-unfiltered/qa_tokenizer/added_tokens.json',\n",
              " '/content/drive/MyDrive/Dataset/RQA/triviaqa-unfiltered/qa_tokenizer/tokenizer.json')"
            ]
          },
          "metadata": {},
          "execution_count": 25
        }
      ]
    },
    {
      "cell_type": "code",
      "source": [
        "def predict_answer_t5(context, question, ref_answer=None):\n",
        "    inputs = t5_tokenizer(question, context, max_length=q_len, padding=\"max_length\", truncation=True, add_special_tokens=True)\n",
        "\n",
        "    input_ids = torch.tensor(inputs[\"input_ids\"], dtype=torch.long).to(device).unsqueeze(0)\n",
        "    attention_mask = torch.tensor(inputs[\"attention_mask\"], dtype=torch.long).to(device).unsqueeze(0)\n",
        "\n",
        "    outputs = t5_model.generate(input_ids=input_ids, attention_mask=attention_mask)\n",
        "\n",
        "    predicted_answer = t5_tokenizer.decode(outputs.flatten(), skip_special_tokens=True)\n",
        "\n",
        "    if ref_answer:\n",
        "        # Load the Bleu metric\n",
        "        bleu = evaluate.load(\"google_bleu\")\n",
        "        score = bleu.compute(predictions=[predicted_answer],\n",
        "                            references=[ref_answer])\n",
        "\n",
        "        print(\"Context: \\n\", context)\n",
        "        print(\"\\n\")\n",
        "        print(\"Question: \\n\", question)\n",
        "        return {\n",
        "            \"Reference Answer: \": ref_answer,\n",
        "            \"Predicted Answer: \": predicted_answer,\n",
        "            \"BLEU Score: \": score\n",
        "        }\n",
        "    else:\n",
        "        return predicted_answer"
      ],
      "metadata": {
        "id": "tHMPYgBS5N-n"
      },
      "execution_count": 28,
      "outputs": []
    },
    {
      "cell_type": "code",
      "source": [
        "for i in range(0,10):\n",
        "  result = predict_answer_t5(df_dev.iloc[i]['context'],df_dev.iloc[i]['question'],df_dev.iloc[i]['answer'])\n",
        "  print(f'result: ')\n",
        "  print(f'Reference Answer: {result[\"Reference Answer: \"]}')\n",
        "  print(f'Predicted Answer: {result[\"Predicted Answer: \"]}')\n",
        "  print(f'BLEU Score:       {result[\"BLEU Score: \"]}')\n",
        "  print('----------------------------------------------')"
      ],
      "metadata": {
        "colab": {
          "base_uri": "https://localhost:8080/"
        },
        "id": "PDCRXNyY7Kox",
        "outputId": "ee0a907a-db17-455b-adf6-c1cefd32a267"
      },
      "execution_count": 29,
      "outputs": [
        {
          "output_type": "stream",
          "name": "stdout",
          "text": [
            "Context: \n",
            " ... credits and award information for I'm Movin' On - Ce Ce Peniston on ... The first single, \"Movin' On ... cover of \"Somebody Else's Guy,\" which became a Top Ten .... Junior Sanchez with CeCe Peniston. ... Her first single, ... She won the Billboard Awards for Best Dance Artist and Best New Artist of 1992 and at the end of 1993 .... Ce Ce Peniston Email to a Friend ... She won the Billboard Awards for Top Dance Artist and Top New Artist of 1992 and at the end ... spawned the imported Best Of CeCe .... CeCe Peniston - We Got A Love Thang music CD album at CD Universe, enjoy top rated service and ... 1992 on the A & M label. We Got A Love Thang CD music contains a .... ... (Album Version) 1992 Dance - cece peniston - Duration: 5 min. Listen online top ... cece peniston - Crazy Love (Album ... First time here? Create an .... Most Popular Titles With Ce Ce Peniston ... Comedian Rosie O'Donnell produces and hosts her first daytime ... A live concert video performed by CeCe Peniston, .... ... (1992), “Though Ya Knew ... Top Albums By Ce Ce Peniston. Stoopid Apr 26, 2011. The Best of Cece Peniston: 20th Century Masters, Millennium Collection Apr 10, 2001.. ... (CeCe Peniston song) ... (CeCe Peniston song) 1992 singles > Crazy Love ... The Best Of (1998) Essential (1999) The Millennium Collection: .... CeCe Peniston. CeCe Peniston; Základné informácie; Rodné meno: Cecelia Veronica Penistonová: Narodenie: 6. september 1969 (46 rokov) Dayton, Ohio, USA: Bydlisko .... Finally by Ce Ce Peniston starting at $2.56. Finally available on ... Finally by Ce Ce Peniston Lucky you. Be the first to review this ... Best of CeCe Peniston.. Dance club diva CeCe Peniston decided ... During her first year as a college student, Peniston was ... \"Finally,\" 1991; released debut album, Finally, A&M, 1992; .... Definition of Finally; ... Remix Collection is the first limited remix collection by CeCe Peniston, ... as a result of charting both in the Japanese Top 10 at .... CeCe Peniston / The Millenium Collection. CeCe Peniston ... Peniston still managed a top ten hit with something that was less than dance floor friendly .... Buy cece peniston Hit By Love (CDS) ... The Best of CeCe Peniston: 1998: 13: 223: Buy now ... 1992: 10: 320: Buy now Add to cart. Page: 1 2 of 2. Top Video #2 CeCe Peniston ... became CeCe Peniston's first hit song, peaking at number five on the US Hot 100 in January 1992 and becoming her only U.S. top-ten .... Buy cece peniston We Got A Love Thang (MCD) ... The Best of CeCe Peniston: 1998: 13: 223: Buy now ... 1992: 10: 320: Buy now. If you want the best of Ce Ce Peniston, ... She released other excellent singles from 1992 to 1994 like We Got A Love Thang, ... (newest first) Write a .... Guyan Valley (GVHS) Class of 1992 Alumni List. ... The top movie in theaters during 1992 was Aladdin, ... CeCe Peniston.. CeCe Peniston released her debut ... Both singles were also Top 10 hits in the UK. She won the Billboard Awards for Top Dance Artist and Top New Artist of 1992 and at .... ... 1994 - cece peniston. Listen online top songs cece peniston. ... cece peniston - Keep Givin' Me Your Love (MCD) Eurodance. ... 1992: 10: 320: $1.60:. Top Charts . Top 50 (World) Top 50 (India) More Charts; Top 50 (UK) DMCA; Contact Us; Social Media . Facebook; Twitter; Google+; SEARCH. Keep On Walkin Cece Peniston .... ... 1992 marked the first full year of the ... Ce Ce Peniston 02 Elton John Prince TOP 20 BACK ... Felipe DelgadaGIbert Linnear/Ce Ce Peniston 1/18 33 22 10. Cece Peniston, Martha Wash, Ten City, ... House of Blues Chicago 329 N Dearborn St ... Those in need of Accessible seating need to first purchase a General Admission .... The 25th Anniversary of MARS FM, ... 1:01:10 - Top of the Hour INTERVIEW with guests until end; 1:27:17 ... CeCe Peniston - Finally;. Cece di fi. Ce Ce Peniston. CeCe Peniston ... Before Peniston recorded her first album, ... (1992), \"Though Ya Knew\" (1994) and \"Movin' On\" .... ... here are 10 recordings that reflect the best ... The “Phoenix sound” could mean the thumping dance music of CeCe Peniston’s 1992 house ... At first, he had .... CeCe Peniston (born Cecilia ... and the album brought Peniston an entry also in the Billboard Top Gospel Albums list, ... Peniston's first single on the .... ... and the album brought Peniston an entry also in the Billboard Top Gospel ... collection simply entitled The Best of CeCe Peniston. ... 1992 Top of the .... Please like and share February 4, ... on the strength of her Top Five smash \"Poetry Man,\" the album itself rose to the number four position. ... CeCe Peniston, .... Madonna. 0. 0. 0. Overview; Chart history; Biography; Videos; ... Ce Ce Peniston Robbie Williams Lisa Stansfield Samantha Fox ... Best Albums of 2016 (So Far): .... 1992: Something Good - part 4 Labels: 1992, My personal charts. ... I didn't have time for much other than studying in 1992 since it was my final year of high school.. ... Don't Be Cruel because it was the first one and MCA Records ... The best Westend remixes ... No:2 would be Ce Ce Peniston's \"Keep On Giving Me Your Love\" which .... Albertina Walker new music, ... she won a Grammy Award for the Best Traditional Gospel Album, ... Thelma Houston, CeCe Peniston, .... 25 classic love songs: playlist. Al Green, ... ‘Finally’ was CeCe Peniston’s very first ... but when we first played it I thought it was the best song I’d .... 90s Pop Hits Collection (Part 2 of 2) ... Five, All Saints, LFO, Robyn, Boyz II Men, CeCe Peniston ... Top 10 Music First Week of January 2013 / Top 10 .... This was the top ten: 1. Kylie Minogue- \"Love At First ... Deee-Lite- \"Runaway\" was the #1 track from this week back in the year 1992 ... CeCe Peniston- \"Keep On .... Newer: Top 10 Mac Apps Older: ... 1992: 1. End Of The Road, Boyz II Men 2. ... Finally, CeCe Peniston. Russ September 8, 2005.. ... including the top-ten R&B hits ... CeCe Peniston sings lead vocals on this ... The first single \"You're the Only One\" is also his first top 20 hit on the R .... Put on our playlist of the best gay songs to ... “Finally” by CeCe Peniston ... The drag queen next door debuted this sassy hit in 1992, .... Finally (CeCe Peniston song) ... \"Finally\" became Peniston's first (and biggest) hit song, ... List of top 10 singles in 1992 .... ... he'd signed his first recording deal with ... In 1992, “Brian McKnight” was released and was followed ... Ashley \"Awesome\" Speelman and CeCe Peniston. .... Ideas for the House. ... Brunch is a tradition in San Francisco and this has one of the best. ... ‘Finally’ by Ce Ce Peniston (CD, 1992) .... What made you first become a model? I’ve always been obsessed with fashion, always loved to take pictures. So one day I decided to just go for it.. Cece Peniston] Buy: 9 Your Body (feat. Reggie Graves ... The Best Day (CD) ~ Thurston Moore ] ... Read the latest entry at Tower Blog.. Entry . Home; Software; Movies; Games; ... Which download site is best? filefactory.com. nitroflare.com. ... Ce Ce Peniston - Finally (1992) 012 .... SONGS WITH A MESSAGE blondwiththewind; 245 ... //youtu.be/ZvX3M9DW8nE ... From their first (IMO = BEST) double album ''CTA'' (Chicago Transit ... CeCe Peniston - Finally. Haddaway - All the Best ... CeCe Peniston - Finally [1992] Dance, House. MP3 FLAC 10 324.38 MB 109 10 months ago. 20 Fingers - On the Attack and More ... First... 13 .... The Singing Bee: SS Monday: ... - 1991, CeCe Peniston, \"Finally\" Band: ... - 1983, ZZ Top, \"Gimme All Your Lovin'\" Shaun: \"I gotta ...\n",
            "\n",
            "\n",
            "Question: \n",
            " What was the first top ten entry for Ce Ce Peniston (1992)\n",
            "result: \n",
            "Reference Answer: We Got a Love Thang\n",
            "Predicted Answer: The 'Songs'\n",
            "BLEU Score:       {'google_bleu': 0.0}\n",
            "----------------------------------------------\n",
            "Context: \n",
            " ... which in 2001 became the first European country to officially abolish ... addressing Portugal's drug problem, jail time was replaced ... [decriminalize] .... Uruguay became the first country to ... of marijuana for recreational use. ... all drug possession by Portugal in 2001 is held up as a .... The World's Best Drug Laws ... In 2001 Portugal became the first country in the European ... Sixteen million Americans took a prescription drug for recreational .... Drug use became part of the culture of ... and drug use became a crisis. At first, ... But by 2001, the country decided to decriminalize possession and use of .... ... trends in adult drug use, 2001 ... In 2013 Uruguay became the first country in the ... have legalised the recreational use of cannabis putting .... Will Hawaii be the first state to decriminalize ... The country decriminalized all drug ... cocaine for recreational use. | Photo credit: U.S. Drug Enforcement .... BuzzFeed News takes a look at ... to legalize recreational use of the drug. ... became the first U.S. state to decriminalize the possession .... Spain takes a prohibition view on ... In 2001, Portugal became the first country in Europe to decriminalize ... the most recent report on drug use, .... Portugal decriminalised the use of all drugs in 2001. ... the first country in the world to decriminalize the ... became the first in the country to legalise .... In 2001, Portugal became the first country in the world to decriminalize the use of all drugs, and started treating drug ... The US state became the first in the .... WHO Demands Drug Decriminalization. By ... Colorado and Washington have legalized marijuana for recreational use here ... Uruguay became the first country .... Ecuador could become first country in ... first in the Americas— to decriminalize the personal use of ... 2001 radically shifted its drug policy from .... ... some countries around the world in regards to drug ... In 2001, Portugal became the first European ... Decriminalize All Drugs; UN Drug .... Home / World Marijuana News / 3 Countries with the Best Drug ... In 2001, Portugal became the first European ... marijuana use. These countries have set the .... Home / World Marijuana News / 3 Countries with the Best Drug ... In 2001, Portugal became the first European ... marijuana use. These countries have set the .... 10 Countries That Could Be the Next to ... Uruguay became the first country in history to ... all drugs in 2001 and has since been treating drug addiction as a .... ... recreational use of marijuana and decriminalize the drug at ... became the first state to decriminalize ... the recreational use of .... The statistics of drug ... as many different countries in the world have also decriminalized the recreational use of the drug. ... Uruguay became the first country .... The United States is far behind some countries around the world in regards to drug ... In 2001, Portugal became the first ... use. These countries have .... Drug warriors often contend that drug use would skyrocket if we were to legalize or decriminalize drugs ... to decriminalise drug use and treat .... Home / World Marijuana News / 3 Countries with the Best Drug ... In 2001, Portugal became the first European ... marijuana use. These countries have set the .... Home / World Marijuana News / 3 Countries with the Best Drug ... In 2001, Portugal became the first European ... marijuana use. These countries have set the .... Should the US Consider Decriminalizing ... 2001, Portugal became the first country in Europe to decriminalize personal possession of drugs; instead of sentencing .... ... Oregon became the first state to decriminalize ... That compared to 4.1% in 2001 ... and four of those states also allow recreational use of the drug.. A guide to smoking weed around the world. ... it became the first nation in the world to fully legalize the recreational use ... Back in 2001, Portugal became the .... The United States is far behind some countries around the world in regards to drug ... In 2001, Portugal became the first ... use. These countries .... Legal Weed Is Slowly Ending the Drug War. ... (Uruguay became the first, ... The results from Portugal's decriminalization of all drugs in 2001 have been extremely .... The just way to legalize marijuana in Canada. By . John Akpata | January 7, ... overall rates of drug use, ... Uruguay became the first country to legalize .... ... country most associated with liberal drug laws, it has already been ten years since Portugal became the first European nation to ... Drug use of all .... Countries rethink pot laws in wake of U.S., Uruguay Article; ... including a broadly supported 2001 attempt to approve private use of marijuana by adults.. Marijuana Laws and Regulations. Marijuana is a drug used for recreational or medicinal purposes. ... Portugal became one of the first countries to decriminalize .... ... Colorado officially became the first state in the country to ... The first recreational marijuana retail ... for recreational use from .... ... will recreational drug use impact my ... legalized marijuana use, in response to a vote to decriminalize and ... became the first state to allow .... Colorado and Washington became the first U.S. states to legalize ... of marijuana for recreational use on ... Reuters is the news and media .... State Department Official Gives Green Light for Countries to Decriminalize ... legislation in 2001, drug use rates ... US states legalized recreational marijuana .... THE EFFECTS OF DECRIMINALIZATION OF DRUG USE IN PORTUGAL ... relative to other European countries. Drug use ... DRUG 2001 2002 2003 2004 2005. German Marijuana Laws. ... Marijuana was become an increasingly ... Portugal became one of the first countries to decriminalize marijuana. .... ... everyone with the Cannabis Digest will be proud to be ... became the first Caribbean country to decriminalize ... Medical and Recreational .... ... we must decriminalize personal drug use. ... And Canada looks likely to become the first G7 country to regulate the sale of cannabis ... In 2001, he .... Hawai`i May Become First State in US To Decriminalize All ... the first state in the U.S. to decriminalize all drugs ... crime and drug use .... ... create drug-use facilities, ... Md. legislation would create drug-use facilities, decriminalize ... In 2001, Portugal became the first country to .... Uruguay became the first country to fully ... lifted bans on the recreational pot use, ... to fully legalize cannabis use, after allowing medical use in 2001.. These are the Best Places in the ... Since it became the first American country to ... Portugal was one of the first countries in Europe to decriminalize the .... State Marijuana Laws Map ... Four states and the District of Columbia have legalized marijuana for recreational use. ... Nevada could become the fifth state to .... The United States is far behind some countries around the world in regards to drug ... In 2001, Portugal became the first ... use. These countries .... Although the Netherlands is the European country most associated with liberal drug ... What Happened When Portugal Decriminalized ... became the first .... On July 1, 2001, Portugal ... to cocaine, to heroin. Some thought Lisbon would become a drug tourist haven, ... In a country like America, .... “Italy has rarely if ever provided leadership in Europe on drug policy ... for recreational use ... became the first country in the .... ... Hawai`i could become the first state in the U.S. to ... which became law on July 1, 2001, ... (Hawai`i May Become First State in US To Decriminalize All ...\n",
            "\n",
            "\n",
            "Question: \n",
            " Which country in 2001 became the first to decriminalize recreational drug use?\n",
            "result: \n",
            "Reference Answer: Portugal\n",
            "Predicted Answer: Portugal\n",
            "BLEU Score:       {'google_bleu': 1.0}\n",
            "----------------------------------------------\n",
            "Context: \n",
            " Rio grande river separates what Texas city from Mexico starts with E. There are several cities in Texas that are separated from Mexico by the Rio Grande. ... Which Texas city does the Rio Grande river separate from Mexico? A:. Articles Search Results for which famous river separates texas from mexico. Which river separates Mexico from Texas? Posted in Trivia Crack By emoji On January 17, 2015. Question: Which river separates Mexico from Texas? Options: Sabine .... Whether it's the shallow river that separates Texas and Mexico, ... to follow the course of the river as he sought an overland passage from Texas to Mexico .... What Rivers Border Texas?. ... The international border between Texas and Mexico is the Rio Grande. Other People Are Reading. What Is the Longest River in Texas?. ___ Grande (river that separates Texas from Mexico) Let's find possible answers to \"___ Grande (river that separates Texas from Mexico)\" crossword clue.. Rio grande river separates what Texas city from Mexico ... Rio grande river separates what Texas city from Mexico starts with E by Clownfish918 01/26/2014.. Study online flashcards and notes for Social Studies 100 Facts including What Are ... Which River Separates Texas From ... What River Separates Texas From Mexico?. The Rio Grande River separates Laredo, Texas, left, and Nuevo Laredo, Mexico. ... Texas, left, and Nuevo Laredo, Mexico. (Michael Robinson Chavez / Los Angeles Times). ... both Texas and Mexico claimed the territory between the Nueces and the Rio ... gives it remarkably clear water and makes it one of the steadiest of Texas rivers.. Enriques Journey Question. ... What river separates Mexico from the United States that Enrique must swim across to get into Texas?. Rio Grande , river, ... then coursing generally southeast as the border between Texas and Mexico, making a big bend (see Big Bend National Park), .... DG Final Exam Weeks 17-24 ... boundary separates Texas from Mexico? Rio Grande River: ... passes and that also has a coastline on the Gulf of Mexico? Austin, Texas:. ... which separates Mexico from the United States.The Rio Grande Valley is not a valley, ... The Rio Grande Valley ... Rio Grande Valley Texas .... ... Mexico. by \"Junior Scholastic\"; ... nearly three times the size of Texas. POPULATION: ... What river separates Texas and Mexico? .... Virginia's Rivers 1. ... the continental divide separates the New River from the Roanoake and James ... • The rivers that flow toward the Gulf of Mexico are: .... The United States–Mexico border is the ... in the west to Matamoros, Tamaulipas, and Brownsville, Texas, in ... Then it crosses the Colorado River .... The Mexican War, Lesson 1 ... Why was it so important to Mexico that the Nueces River ... Mexico claimed one river marked the boundary between Texas and Mexico. Texas .... The Rio Grande separates Del Rio, Texas, ... graduate of Texas A&M University. But he is Mexican, ... of Del Rio is a bridge that goes over that river.. ... from source to mouth and constitutes the border with Mexico; the Red River, which partly separates Texas from ... distance between Texas and Mexico .... The Geography of Texas. Click here for a few definitions. ... The Rio Grande, which marks the border between Texas and Mexico, The Red River, The Brazos River:. Valleys and Deserts in Texas. ... The river course, which follows the Rio Grande and separates the U.S. from Mexico, .... Geography A to Z: The Letter E Read each clue below. ... Rio Grande River separates this Texas City from Mexico _____ 5. Addis Ababa is the capital of .... What US city has the largest population? 2. ... What is the longest river in North America ... What natural boundary separates Texas and Mexico? 3.. Texas Landforms & Waterways. ... Texas's southern border is defined by the Rio Grande River, which separates the U.S. from Mexico, ... Texas » Texas Landforms .... river starts in Texas though. Because of this, choice (A) is not correct. The passage never mentions New Mexico. ... the Rio Grande separates Texas and Mexico.. ... the Gulf of Mexico, the San Juan River and ... of water in Texas? What are the major landforms in Mexico? ... because it separates the California peninsula .... The Rio Grande separates Texas and Mexico across a stretch of more than 1,200 ... » Texas Border Tour ... Just across the river, .... Caption A new surge in illegal immigration? ... The Rio Grande river separates Nuevo Laredo, Mexico, ... Mexico, right, and Laredo, Texas.. ... to El Paso,Texas. Juarez, El Paso's Mexican sister ... The Border wall that separates the city of El Paso, Texas from border city ... Secure Border? El Paso Says .... General Facts about the Gulf of Mexico. ... Mississippi, Louisiana, Texas), six Mexican states to ... The Florida Escarpment separates the Florida Platform from .... ... Great Britain insisted that the northern border be drawn west to the Columbia River and then follow that ... The Annexation of Texas, the Mexican .... Rio Grande, Spanish Río Grande del Norte or (in Mexico) Río Bravo or Río Bravo del Norte , Mexico: Rio Grande River Encyclopædia Britannica, Inc. fifth longest .... It is the last of the rescued Texas River Tracing posts. ... Lower Red River all that separates Texas and Oklahoma. May 30, 2016 ... a Mexican food restaurant and, .... The author is a Forbes ... For the Colorado River, the U.S.-Mexico border is likely less relevant to the competition for the river’s resources .... Originating in New Mexico, the Red River's tributaries travel some 200 miles across the Panhandle ... it then separates Texas and Arkansas for 40 miles before leaving .... Rivers of North America. ... Texas River begins in the northern part of the state in Stonewall County, and flows southeast into Brazoria County and the Gulf of Mexico.. Earth's water: Rivers and the landscape. Rivers and streams begin ... flows downhill into rivers (and lakes). What separates two watersheds from ... of Mexico. The .... ... shows flooding where the river separates Texas and Oklahoma. ... Red River Continues to Flood at Texas ... Timelapse Shows Fog Engulf Central Mexican Town .... ... and the Rio Grande carves a shallow channel that separates Texas from Mexico to the southwest. ... Matamoros Dand8282 The most important river in Texas is the Rio ...\n",
            "\n",
            "\n",
            "Question: \n",
            " What river separates Texas and Mexico?\n",
            "result: \n",
            "Reference Answer: Rio Grande\n",
            "Predicted Answer: AUSTIN\n",
            "BLEU Score:       {'google_bleu': 0.0}\n",
            "----------------------------------------------\n",
            "Context: \n",
            " United States; Calls for abolition; ... Emigration; Garrison and immediate emancipation; ... Abolition of slavery: Wikis: Note: ...\n",
            "\n",
            "\n",
            "Question: \n",
            " Between 1783 and 1865, Englishmen William Wilberforce, Sir Cecil Wray and Dr Beilby Porteus, Africans Olaudah Equiano and Ignatius Sancho and, in the USA, William Lloyd Garrison, John Greenleaf Whittier, Harriet Beecher Stowe, Frederick Douglass, Charles Henry Langston and John Mercer Langston were leading figures in which movement?\n",
            "result: \n",
            "Reference Answer: Abolition of the slave trade\n",
            "Predicted Answer: ENGLAND\n",
            "BLEU Score:       {'google_bleu': 0.0}\n",
            "----------------------------------------------\n",
            "Context: \n",
            " Cullinan diamond, world’s largest ... the colourless stone was purchased by the Transvaal government and was presented (1907) to the reigning British monarch, .... The Cullinan Diamond is the largest rough ... The Transvaal government bought the rough diamond from the mine ... much bitterness between the Boers and the British.. The Cullinan diamond ... stone was bought by the Transvaal government and presented to en1907 reigning British monarch, ... cut from the Cullinan diamond, .... The Cullinan diamond was ... the Cullinan rough diamond was purchased from Sir Thomas Cullinan, by the Transvaal Government ... the present British Monarch, .... The largest diamond in the world ... Cullinan Diamond Transvaal government bought for the ruling British monarch King Edward VII, .... It was named after Thomas Cullinan, the head of the Transvaal mine in ... and was presented (1907) to the reigning British ... the Cullinan diamond, .... Gallery Diamond, Thessaloníki ... The Cullinan mine is where a 3,106-carat diamond was discovered in 1905. It was presented to the British monarch King Edward VII .... It is called the Cullinan I because it's the largest of the 9 large stones cut from the Cullinan Diamond, ... Cullinan rough was presented to ... the British Crown .... ... the colourless stone was purchased by the Transvaal government and was presented ... British monarch, ... britannica.com/topic/IJ-Asscher-and-Company >.. The Worlds Largest Diamond Was Found. ... This diamond was found in the British province Transvaal ... The Cullinan diamond was presented to the reigning British .... It was presented to the British monarch King Edward VII and ... People Stop Taking Your Calls After ... blue diamond British Crown Jewels Cullinan Dream .... The Centenary diamond gets its ... This massive colorless diamond was purchased by the Transvaal Government, and presented in 1907 to the reigning British Monarch, .... The World's Largest Diamond Was ... was found in the British province Transvaal ... diamond was presented to the reigning British monarch, .... Gemstones: Diamond: ... Cullinan diamond, world's largest gem diamond, ... (1907) to the reigning British monarch, King Edward VII.. Before now the largest diamond in the world was the Cullinan diamond. ... was presented to the reigning British monarch, ... Largest Diamond Was Found .... Our Heritage; The Cullinan Dream ... the Cullinan diamond ... the two largest cut diamonds in the British Crown Jewels. Cullinan is known as the source of very large, .... Before now the largest diamond in the world was the Cullinan diamond. ... diamond was presented to the reigning British monarch, ... am The biggest diamond in the .... What is the problem? The Cullinan Diamond is the ... to the reigning British monarch by ... stones that once constituted the Cullinan Diamond is .... ... Queen Elizabeth the present UK monarch ... We now know that the birthstone for April is diamond and as ... of Transvaal, which was at the time a British .... Explore Margie C's board \"Jewels, stones, silver...\" on Pinterest, the world's catalog of ideas. | See more about Diamonds, Africa and Rubies And Diamonds.. 'Blue Moon' diamond unveiled in LA. AFP ... bought the rough diamond for $26 million. The Cullinan mine is where a 3,106 ... presented to the British monarch King .... Top ten largest diamonds, ... Diamond “Cullinan II” adorns the crown of the ... the Transvaal government presented a diamond as a gift to the British King Edward .... ... Famous Diamonds ... Cullinan Diamond. This huge colorless diamond was acquired by the Transvaal Government and offered in 1907 to the supremacy British Monarch, .... 'Blue Moon' Diamond Unveiled in Los Angeles . ... the rough diamond for $26 million. The Cullinan mine is where ... presented to the British monarch King .... The Cullinan is the largest gem-quality diamond ever ... Minister of Transvaal suggested that it be presented to King ... royal scepter of the British monarch.. Anslagstavlor > Localities > Africa > South Africa > General > Cullinan, Tregidga, Mossop research. ... reigning British monarch, ... cut from the Cullinan diamond, .... The nine Cullinan Diamonds South Africa 1905 White ... Diamond People, Cullinan Diamonds South, ... the present British Monarch, .... The Cullinan mine is where a 3,106-carat diamond was discovered in 1905. It was presented to the British monarch King ... (4263) Catwalks (6398) Design (2738) People .... People. Travel; Environment; Art ... The Cullinan mine is where a 3,106-carat diamond was discovered in 1905. It was presented to the British monarch King Edward VII .... The Cullinan mine is where a 3,106-carat diamond was discovered in 1905. It was presented to the British monarch ... which is in the crown that the British monarch .... Canada 2016 Queen Elizabeth II Longest Reigning British Monarch 4 ... intact Cullinan Diamond ... The stone was bought by the Transvaal government and presented .... Mining company in South Africa finds rare blue diamond. ... mine in 1905 and was presented to the British monarch ... that led to the deaths of 265 people, .... ... intact Cullinan Diamond was found ... The stone was bought by the Transvaal government and presented to King ... Longest Reigning British Monarch .... People; Results; Management; Start-ups ... The Cullinan mine is where a 3,106-carat diamond was discovered in 1905. It was presented to the British monarch King .... The Cullinan mine is where a 3,106-carat diamond was discovered in 1905. It was presented to the British monarch ... which is in the crown that the British monarch .... Diamonds to sparkle at diamond jubilee of British Queen ... It was a wedding present to Princess ... the only other British monarch to celebrate a Diamond .... The Cullinan mine is where a 3,106-carat diamond was discovered in 1905. It was presented to the British monarch King ... (4302) Catwalks (6414) Design (2762) People .... The Cullinan mine is where a 3,106-carat diamond was discovered in 1905. It was presented to the British monarch King ... (4285) Catwalks (6408) Design (2760) People .... The Cullinan mine is where a 3,106-carat diamond was discovered in 1905. It was presented to the British monarch King ... (4178) Catwalks (6292) Design (2709) People .... THE DIAMOND JUBILEE OF THE QUEEN OF DIAMONDS ... the Cullinan Diamond ... includes two impressive jewels presented to the Queen by the Sultan of Turkey.. Diamond found in SA unveiled ... bought the rough diamond for $26 million. The Cullinan mine is where a 3 ... presented to the British monarch King .... Canada 2016 Queen Elizabeth II Historic Reign 5 Coin Silver Maple ... II as the longest reigning British monarch with yellow ... Cullinan Diamond was found .... ... The world's largest diamonds. ... was presented to the reigning British monarch, ... and the centre of a diamond brooch. The Cullinan .... The Delaware Gemological Laboratory is ... The largest ever rough gem diamond was discovered at the Cullinan mine in 1905 and was presented to the British monarch .... The Cullinan Diamond was a ... the diamond be presented to King Edward VII as \"a token of the loyalty and attachment of the people of Transvaal to .... Cora International Unveils “The Blue Moon ... gem diamond was discovered at the Cullinan mine in South Africa in 1905, and was presented to the British monarch ...\n",
            "\n",
            "\n",
            "Question: \n",
            " The Cullinan Diamond was presented to which British monarch from the people of the Transvaal?\n",
            "result: \n",
            "Reference Answer: Edward the Seventh\n",
            "Predicted Answer: King George VI\n",
            "BLEU Score:       {'google_bleu': 0.0}\n",
            "----------------------------------------------\n",
            "Context: \n",
            " Metro-Goldwyn-Mayer. Website. MGM. ... the former Goldwyn mascot Leo the Lion (which replaced Metro's parrot symbol), and the corporate motto Ars Gratia Artis .... Definitions of METRO GOLDWYN MAYER, ... the former Goldwyn mascot Leo the Lion ... The two companies disagreed over splitting these costs, .... ... also known as Metro-Goldwyn-Mayer Pictures , Metro-Goldwyn-Mayer or Metro ) ... motto. The logo, which features Leo the Lion, ... MGM Pictures and former .... Metro-Goldwyn-Mayer (commonly known as MGM and also known as ... Loew gained control of Metro Pictures, Goldwyn Pictures ... over and MGM downsized; 3.4 MGM/UA .... Metro-Goldwyn-Mayer Pictures, Inc. Type: Private: ... the former Goldwyn mascot Leo the Lion ... The two companies disagreed over splitting these costs, .... ... also known as Metro-Goldwyn-Mayer Pictures, Metro-Goldwyn-Mayer or Metro) ... motto. The logo, which features Leo the Lion, ... MGM Pictures and former .... Metro-Goldwyn-Mayer, Metro-Goldwyn-Mayer Pictures ... the former Goldwyn mascot Leo the Lion ... and the Goldwyn corporate motto Ars Gratia Artis .... Metro-Goldwyn-Mayer 'MGM' redirects here. For other uses, see MGM ... also known as Metro-Goldwyn-Mayer Pictures, Metro-Goldwyn-Mayer or Metro) .... ... (commonly known as MGM and also known as Metro-Goldwyn-Mayer Pictures ... with the studio's motto. The logo, which features Leo the Lion, ... over two weeks, and .... History of Metro-Goldwyn-Mayer: ... (abbreviated as MGM or M-G-M, also known as Metro-Goldwyn-Mayer Pictures, .... Search. Log in; Journals; Conferences; Open Access. ... (metro-goldwyn-mayer pictures) ... inscribed with the studio's motto. The logo, which features Leo the Lion , ... MGM Pictures and former Warner Bros .... ... also known as Metro-Goldwyn-Mayer Pictures, Metro-Goldwyn-Mayer or Metro) ... motto. The logo, which features Leo the Lion, ... MGM Pictures and former .... ... was a corporation so the other two companies were ... mascot Leo the Lion (which replaced Metro's parrot symbol), and the Goldwyn corporate motto Ars .... ... was a corporation so the other two companies were ... Loew gained control of Metro Pictures, Goldwyn Pictures ... former Goldwyn mascot Leo the Lion .... The \"Leo the Lion\" trademark was adopted by MGM, ... World Pictures, whose corporate motto was \"Quality Not Quantity,\" released ... Metro-Goldwyn-Mayer sachem .... ... was a corporation so the other two companies were ... Loew gained control of Metro Pictures, Goldwyn Pictures ... former Goldwyn mascot Leo the Lion .... ... Loew gained control of Metro Pictures, Goldwyn Pictures ... former Goldwyn mascot Leo the Lion ... was a corporation so the other two companies were .... California Part II – 12 September – 18 September ... that Warner took over First National Pictures ... MGM’s mascot Leo the Lion. MGM released .... World Pictures, whose corporate motto was \"Quality Not ... he got a proofreaders job at Metro-Goldwyn ... The \"Leo the Lion\" trademark was adopted by MGM, .... Design Evolution of 40 Famous Corporate Company Logos via ... When Goldwyn Pictures merged with Metro Pictures ... fourth lion, MGM settled on Leo, .... Metro Goldwin Mayer (MGM) ... Quinze jours ailleurs (Two Weeks in Another Town) de Vincente Minnelli; ... Le Lion et le Vent de John Milius;. Jews Exercise Extreme Power While ... Loew gained control of Metro Pictures, Goldwyn Pictures ... former Goldwyn mascot Leo the Lion .... 3 Sanderson children adopted by Isiah and Grace Edwards: ... (Had one leg shorter than the other. Episode: Town party, ... (by two separate people) .... Other Castle Travel Films - Hawaii, America, Canada, London, Paris. Castle Films was a home-movie distributor founded in California by former ... movies. Castle Films .... Instead I have a question which is appropriate at this time of year and one which may even unite some of us against the evil Yanks. Was 911 a set-up job? of course it .... Instead I have a question which is appropriate at this time of year and one which may even unite some of us against the evil Yanks. Was 911 a set-up job? of course it .... The Manx motto, associated with the ... 2001. The other two instruments are a thermal ... noun whose plural form is identical with the singular form. If there is any .... ... 1924 - Metro Pictures, Goldwyn Pictures, ... formed Metro-Goldwyn-Mayer (MGM); ... \"Leo the lion\" logo .... It shared the Square with residences and two other large ... In 1870 Leopold Harris took over a Main Street stationary ... The club adopted as its motto, .... A Short History of Film.pdf ... and the Metro Pictures Corporation create MGM. ... group to form the eponymous Goldwyn Pictures. and ﬁnancial wizard .... This Day in Branding. ... MGM, or Metro-Goldwyn-Mayer Inc., was founded on April 16th, ... Goldwyn Pictures and Louis B. Mayer Pictures.. ... and the Metro Pictures Corporation create MGM. his ... F. Metro Goldwyn Mayer (MGM). ... picture as an art form. The major French companies. and .... Symbols and patterns that appear to last throughout the course of time. Identifying the trends of core concepts that occur frequently throughout history and in places .... Liberals’ Ten Commandments (Post-9/11) ... monuments that are well over two hundred years old: ... in other words the ingrained two-party system which does not .... Search the history of over 498 billion pages on the Internet. search Search the Wayback Machine. Featured texts All Texts latest This Just In .... Search the history of over 491 billion pages on the Internet. search Search the Wayback Machine. Featured texts All Texts latest This Just In ... See other formats .... Theatres and Metro-Goldwyn-Mayer (MGM). ... the former Goldwyn mascot Leo the Lion ... corporation so the other two companies were merged into Paramount.. MGM – Metro Goldwyn Mayer ... When Goldwyn Pictures merged with Metro Pictures Corporation and Louis B. Mayer Pictures, ... fourth lion, MGM settled on Leo, .... MGM – Metro Goldwyn Mayer ... When Goldwyn Pictures merged with Metro Pictures Corporation and Louis B. Mayer Pictures, ... fourth lion, MGM settled on Leo, .... In 1964 Brother Des Walsh arrived and took over ... Wong was working at Hollywood's Ville de Paris department store when Metro Pictures ... Metro-Goldwyn -Mayer .... ... Irish Film & TV Online, Trinity College Dublin. ... the other two best known books are Peig Sayers' autobiography Peig ... Metro Pictures: Keywords: Troubles. Discerning the Demiurge in the Age of ... The roaring lion was adopted when MGM was created in 1924 by merging Metro Pictures, Goldwyn Pictures Corporation .... A Short History of Film. A Short History of Film. Login JOIN. UPLOAD Menu. Categories. Art & Photos; Automotive; Business; Career; Data & Analytics; Design; Devices .... Best Building Occupant of All Time ... It originally took the form ... Kay Kimbell was a wealthy Fort Worth businessman who built an empire of over 70 companies in .... ... Pictures, Metro-Goldwyn-Mayer or Metro) ... Leo logo and mottos[edit] MGM Tower, former ... the studio's motto. The logo, which features Leo the Lion, .... ... which took over Monogram (and several other ﬁlm companies) and formed Republic Pictures. ... two other performances during the 1930s also showed him at the top .... the encyclopedia ofhollywood second edition the encyclopedia of hollywood second edition scott siegel and ba...\n",
            "\n",
            "\n",
            "Question: \n",
            " \"When Metro Pictures took over two other companies to form MGM, MGM adopted the former Goldwyn mascot \"\"Leo the Lion\"\" and what Goldwyn corporate motto?\"\n",
            "result: \n",
            "Reference Answer: Ars Gratia Artis\n",
            "Predicted Answer: MGM\n",
            "BLEU Score:       {'google_bleu': 0.0}\n",
            "----------------------------------------------\n",
            "Context: \n",
            " The 1997 Constitution was the first constitution to be ... rest with the democratically elected ... and incentives of Prime Minister Thaksin Shinawatra, .... ... of elected Prime Minister Yingluck Shinawatra and ... of a new constitution under a popularly elected ... they have until Thaksin’s first .... Yingluck Shinawatra is the youngest of nine children of Loet and Yindi. Her father was a member of parliament for Chiang Mai. She is a descendant of a former monarch .... ... of Thailand 1997 (‘the 1997 Constitution ... elected Prime Minister Thaksin Shinawatra was ... sister Yingluck Shinawatra, the leader of .... Former prime minister Yingluck Shinawatra ... Thailand's first female prime minister filed ... lacks a democratically elected legislature. They .... Thailand protests: an on-stage ‘duel ... series of protests designed to topple Prime Minister Yingluck Shinawatra. ... Yingluck comes from a democratically elected .... He was the first democratically-elected prime minister of ... Thaksin Shinawatra was the first prime ... Elections in Thailand under the 1997 Constitution.. Recall that the electoral system Thailand used in 2011 was a mixed ... elected from a single national ... (rejected by the National Reform Council last .... ... Prime Minister Yingluck Shinawatra and ... democratically. Neither do they really ... and Yingluck was fairly elected and that Thaksin .... ... Thailand was governed under a constitution ... made Thaksin the first prime minister in Thailand's ... in the last boom years, 1996 and 1997, .... ... the first democratically elected prime minister of ... was the rise of Thaksin Shinawatra. ... Yingluck entered office, the 2011 Thailand floods .... Illiberal Democrats versus Undemocratic Liberals: ... former Prime Minister Thaksin Shinawatra's ... asia/thailand/3542674/Thailands-prime-minister .... Thailand’s Big Brother Drama By William Pesek Nov 8, 2013 5:19 AM GMT+0700 “Welcome to the Republic of Thaksin.” You won’t see these words displayed in the .... Simplifying UPSC IAS Preparation. Home; Doubts/Feedback. Your Doubts; Your Feedback; IAS Myths; Toppers; Current Events. CURRENT AFFAIRS National Issues 12 ... • The Prime Minister has been brought under the purview of the Lokpal ... 1997 with focus on the poor. Under the TPDS, .... ... Chronik Thailands ... distrusted democracy and democratically elected ... Prime Minister Thaksin Shinawatra has kept former .... New Mandala New perspectives on ... Thailand through the prism ... the official political process threaten the survival of the government in the wake of its .... Some Observations on Democracy in Thailand. Uploaded by. Michael H. Nelson .... Thais have democratically elected a PT govt ... even by the 1997 constitution and the ... Even if he had a mandate to rule as Prime Minister he would never .... Thailand's Uneasy Passage Thitinan ... but popularly elected premier Thaksin Shinawatra and ... sent to Prime Minister Yingluck urging .... ... Ayaz Ahmed Khan, Name: air_2012_full_en, Length: 444 pages, Published: 2014-01-19T00:00:00.000Z . issuu company logo Explore Publisher Plans See Plans .... Back to Thailand’s future. By Nicholas Farrelly ... He was a senior government minister (it was the second Chuan Leekpai administration, for those keeping score) .... ... Author: Ye Lay, Name: 5_nov_15_gnlm ... leader Yingluck Shinawatra and her exiled ... the country’s first democratically elected .... ... first elected in 2010, ... They oppose Yingluck, a political newcomer who is the sister of exiled and deposed Prime Minister Thaksin Shinawatra .... current affairs / current events / daily answer writing / ias / insights / questions for mains .... Post Today: Military source says there will be no constitution referendum Bangkok Pundit Jun 20, ... View Full Version : Thailand’s Constitution: An Empty Text. Mid.. ... Human rights and encounters with modernity Mary Edmunds Download this book; First page; Cover; Title page; ... Thailand; 2. Continuities and .... Southeast Asia Program. ... CSIS will feature for the first time a panel discussing the environmental costs of recent military developments on the ecosystem of the .... Joishthya 13, 1421. Rajab 27, 1435 Regd. No. DA 6238 Vol 2, No 57 . TUESDAY, MAY 27, 2014 | www.dhakatribune.com | SECOND EDITION . TMAG | PRESENTS THE .... What happened in Kunming was not the first time ... Larger-than-life political figures such as the late Singapore prime minister Lee ... Singapore, and Thailand .... Prime Minister Yingluck Shinawatra has ... resulted in the first democratically elected government since ... India related issues if they ever did .... Public reporting burden for this collection of information is estimated to average 1 hour per response, including the time for reviewing instruction, searching .... Home :: Military :: Library :: Congress :: 2012 Hearings :: SITREP; Military Menu ; Introduction; Systems; Facilities; Agencies; Industry; Operations; Countries .... ... section.PREFACE The Current Affairs January 2014 eBook covers ... Thaksin was the prime minister of Thailand from 2001 ... to force Yingluck Shinawatra.. So it comes as a surprise to some westerners when they hear that the majority of the youth in China today, if not completely unaware of the incident, .... ... former senior statesman of Thailand and leader of the Free ... the democratically chosen prime minister and cabinet ... first as early as 1997, .... ... Labour issues Land Languages of Burma/Myanmar Law and Constitution Mae Sot library catalogue (under ... search engines etc. Social issues (under ... Prime .... Travel Update & Travel Alerts; USA ESTA ... Malian Prime Minister Moussa Mara had travelled to Kidal to meet with ... when they came under attack near the .... Israeli Prime Minister Benjamin Netanyahu ... Tsipras was not the first Greek leader to invoke the Nazi ... under GPV 2011–20 the army was to begin to .... What's the last date I can post this to to arrive in time for ... are passed and the provider has elected ... 9.4 percent, nearly two pointsabove the .... Fayadh has previously posted a video online of a public lashing by religious police. Mona Kareem, an activist from Kuwait calling for Fayadh’s release, said “some .... Share cst-sept-2011. ... CURRENT INTERNATIONAL Thailand Elections, the new PM Yingluck Shinawatra fter ... Thaksin Shinawatra as the new Prime Minister of .... Please contact the list owner of subscription and unsubscription at: editorial@samarth.co.in. media watch with peoples input an organization of rastriya .... COWED DOWN BY THE PRIME MINISTER ... Thaksin Shinawatra. The battle for Thailand continues to be ... It says they are \"clearly under pressure to protect .... TurkeyвЂ™s Prime Minister Recep Tayyip ... of a requirement under the new constitution. ... versus the newly democratically elected Islamic parties .... No Agenda Episode 624 ... including in 2011 under his younger sister Yingluck ... later party leader in Denmark. Current job Prime Minister of Denmark '' the .... Interview with Paras Khadka. ... Ablyazov thanked the \\\"Italian people\\\" and Prime Minister Enrico ... are contingent on a democratically elected government .... associazione asia Maior Steering Committe: Marzia Casolari (President), Enrica Garzilli, Nicola Mocci (Vice President), Riccardo Redaelli, Michelguglielmo Torri ...\n",
            "\n",
            "\n",
            "Question: \n",
            " Yingluck Shinawatra, the last democratically elected Prime Minister of Thailand (in 2011), is nearly related to Thaksin Shinawatra, the first democratically elected leader under Thailand's 1997 constitution; what relation are they?\n",
            "result: \n",
            "Reference Answer: Brother and sister\n",
            "Predicted Answer: YINGLOCK SKINWATRA\n",
            "BLEU Score:       {'google_bleu': 0.0}\n",
            "----------------------------------------------\n",
            "Context: \n",
            " Discover facts about World War One prime minister David Lloyd George ... reforming British ... minister from 1916 to 1922. David Lloyd George was born .... ... (born October 9, 1966, London, England) British Conservative Party leader who served as prime minister of the United Kingdom ... became deputy prime minister.. Prime Ministers and Politics Timeline. ... Wilson became prime minister for the third time at the head of a minority ... Lloyd George resigned in October 1922.. British Prime Minister David Cameron is to resign ... David Cameron to resign Wednesday as Theresa May to become British PM. ... chair of the 1922 .... Prime Minister of the United Kingdom; ... The issue became \"explosive\", dividing the British ... Prime Minister of the United Kingdom 23 October 1922 .... Egyptians campaign for independence, 1919-1922 ... Egypt became a British protectorate on December 14, ... Zaghlul also became Prime Minister.. Find out more about the history of David Lloyd George, ... was a liberal British statesman who became prime minister during World War I. ... He resigned that October.. World War Two Leaders. ... Chamberlain resigned and Winston Churchill became prime minister. ... Prime minister of Japan (October 1941 .... Past Prime Ministers. ... but in October 1922 he played a leading part in a Conservative ... He became Prime Minister of the national government in June .... Prime Minister (1922–1995 ... and also attended the British Staff College. By 1964, he had become chief of ... new government and became prime minister of the .... As prime minister, Sir Winston Churchill ... Churchill had become a staunch critic of British Prime Minister Neville ... and became prime minister in October .... Why Did Mussolini become Prime Minister in 1922? ... post the King offered it to Mussolini who accepted and on the 29th of October 1922 became Prime Minister of .... British Prime Ministers - 1922-1945; ... in another general election in October 1924, Baldwin returned as prime ... became Prime Minister on May .... ... was Mussolini appointed Prime Minister ... Prime Minister of Italy in October 1922? There is no straightforward answer to why Mussolini became Prime Minister of .... Prime minister of United Kingdom. ... In October 1922, ... Nazism first became recognized as an international threat.. A timeline showing the Prime Ministers of the United Kingdom from ... where the person has become Prime Minister by succeeding to the post due ... October 1922 .... He is the only Prime Minister to have spoken Welsh as his ... David Lloyd George was one of the 20th century’s most ... and became recognised as a very able .... ... Party MPs to become the next Prime Minister. ... 1922 Committee, said the ... held in the first week of October. Increasingly British politics has come .... The history and complete text of the 1917 Balfour Declaration, ... became prime minister and Balfour was ... of the October 31, 1917 British .... British Prime Ministers - 1892-1922; British Prime Ministers - 1922-1945; ... By the time he became prime minister for the third and final time in 1895, .... ... which was adopted on October 11, 1922. ... and De Valera became prime minister. ... as president of Ireland. Haughey resigned as prime minister and leader of .... 9 Things You May Not Know About Mussolini. Author. Jesse Greenspan. ... on October 24, 1922, ... Though Prime Minister Luigi Facta knew of these plans, .... The Year 1922 News, Events, Technology and ... United Kingdom Prime Minister David Lloyd George until 19 October United Kingdom Prime Minister Andrew Bonar .... 27th Prime Minister of Italy; In office 31 October 1922 – 25 July 1943: ... and made him prime minister. ... Mussolini wanted Italy to become a new Roman Empire.. ... C N Trueman \"David Lloyd George\" ... Lloyd George was the major British politician ... Lloyd George resigned as Prime Minister in October 1922 and 1922 is .... Welcome to History of government ... Benjamin Disraeli remains one of the most intriguing of British prime ministers. ... he became famous through his novels and .... After his electoral defeat in 1922, Winston Churchill left the Liberal ... he was the most dominant figure in British ... In October 1951, he became Prime Minister .... Prime Ministers of Britain. By ... The Prime Minister is the political leader of the United Kingdom and is the head of the Government.. Italian Prime Minister Benito Mussolini's ... power after ousting Italian Prime Minister Luigi Facta in October 1922. ... British Prime Minister Neville .... ... Free State became British colonies. October 11, 1939 ... October 24, 1922 ... became Britain's prime minister for .... Mussolini & the Fascists in WW2 1922 ... by the King to step into the position of Prime Minister. ... The British waited to see what would become of the campaign .... Biographies of 38 British Prime Ministers ... Subscribe to our Spartacus Newsletter and keep up to date with the latest articles.. MUSSOLINI AND FASCIST ITALY. ... Finally at a mass rally in Naples on 24 October 1922 the Fascists demanded a ... Instead he summoned Mussolini to be Prime Minister.. ... gained power during his March on Rome in 1922, then became an ... Prime Minister from 1922 ... October 31, 1922, at the age of 39, Mussolini was .... A brief history of England from the Celts to the ... In October Israeli ... In 1987 Thatcher became the first British prime minister in more than 150 .... Great Britain and the United Kingdom. ... The UK became the United Kingdom of Great Britain and Northern ... Prime Minister Pitt intended to follow the Act of .... Famous White Papers issued during the British ... Issued on October ... British Prime Minister Ramsay MacDonald sent a letter to Dr. Weizmann in an .... Margaret Thatcher was born on October 13, ... longer than any other British Prime Minister in the 20th Century. ... which became Section 28] .... THERESA MAY WILL BECOME PRIME MINISTER ON ... Theresa May will become the next prime minister of the United Kingdom on ... the Tories' backbench 1922 .... Territory of the United Kingdom of Great Britain and Ireland until 1922: ... Prime Minister ... majority of Ireland left the UK in 1922 and became the sovereign .... General Hideki Tojo - Prime minister of Japan (October 1941 ... was the prime minister of Italy (1922-1943). ... Churchill became prime minister on May 10, .... Prime Minister David Cameron is to step down by October after the UK voted to leave the European Union. Speaking outside 10 Downing Street, he said \"fresh leadership .... Prime Minister for the 3rd time Alfred Deakin became Prime Minister for the third time ... to 6 October 1920. Joseph Cook ... became the first British Prime Minister .... Theresa May is set to become Britain's next Prime Minister after her ... United Kingdom’s Home ... It then fell to the 1922 committee of .... ... resigned as prime minister in October 1915 Hughes was ... From this came the Washington Treaty of 1922, ... along with Lyons who became prime minister in .... Spencer Perceval, only British Prime Minister to have been assassinated, served in that office from 4 October 1809 to 11 May 1812. He was born on 1 November 1762, the .... British Prime Ministers Since 1770. ... and political party affiliation of every British Prime Minister from 1770 to the present. Name Term; ... 1916–1922: Andrew ...\n",
            "\n",
            "\n",
            "Question: \n",
            " Who became British Prime Minister in October 1922?\n",
            "result: \n",
            "Reference Answer: Andrew Bonar Law\n",
            "Predicted Answer: David Lloyd George\n",
            "BLEU Score:       {'google_bleu': 0.0}\n",
            "----------------------------------------------\n",
            "Context: \n",
            " A list of all the characters in Persuasion. The Persuasion characters covered include: Anne Elliot, Captain Frederick Wentworth ... characters in the novel, Anne .... Anne Elliot/Frederick Wentworth; Original Characters; Anne Elliot; ... A peek into Anne Elliot's life before we meet her at the ... Anne Elliot/Frederick Wentworth .... Persuasion (Barnes & Noble Classics Series) ... Austen's last novel, Persuasion, we meet the Elliot family: ... years ago Anne became engaged to Frederick Wentworth, .... Transcript of Connections of Romanticism to Jane Austen’s Persuasion ... Anne Elliot 2. Captain Frederick Wentworth 3. ... As quoted from the novel, .... Captain Frederick Wentworth's Letter to Anne Elliot ... In 1816, in declining health ... Meet Jane's relation & hear a talk by her .... ... and various in-laws, friends, suitors, and other characters, In Anne Elliot, ... Frederick Wentworth, a navy man Anne met ... novel, did something we .... Persuasion [Jane Austen] on Amazon.com. *FREE* shipping on qualifying offers. Eight years ago, Anne Elliot and Frederick Wentworth fell head over heels in love. But .... ... between Anne Elliot and Captain Frederick Wentworth and in ... Wentworth and Anne when they meet ... the characters. Elliot react? What do we .... Captain Frederick Wentworth ; Characters / ... When the paths of Wentworth and Anne do cross again he goes ... what we have by the time the novel itself begins is a .... Learn and talk about Anne Elliot , and check out ... completed novel, Persuasion (1818). Anne Elliot ... with Frederick Wentworth, .... ... Anne Elliot fell in love with a poor but ambitious young naval officer, Frederick Wentworth. ... Main characters Sir Walter Elliot, Bt.. The characters Austen creates are ... Sir Walter does. In Persuasion we meet Anne Elliot, ... Anne not to marry Frederick Wentworth on the grounds that .... Austen’s last completed novel concerns Anne Elliot who was ... Persuasion (Chap. 1) ... he had gone so far even as to say, \"Can we retrench? Does it occur to you .... Jane Austen. Destiny Grooms by Destiny Grooms on 28 September 2012 Tweet. Comments (0) Please log in to add your comment. Report .... ... 1816. During this time, Jane Austen began to ... It was he who chose the title for this novel, and unfortunately, we can never know ... Frederick and Anne meet .... What do we learn of ... the reawakening of love between Anne Elliot and Captain Frederick Wentworth, ... it is with Jane Austen that the novel takes on its .... ... Why did Anne Elliot turn down Charles ... why did Anne Elliot turn ... As Louisa explains to Captain Wentworth: \"I wish she had accepted him. We should all .... ... Anne Elliot has longed for the words of Frederick Wentworth’s letter, and we ... Frederick Wentworth overhears Anne Elliot ... Wentworth throughout the novel .... In Jane Austen's last novel, Persuasion, we meet the Elliot ... Anne became engaged to Frederick Wentworth, ... and Captain Wentworth among other characters is .... Anne Elliot's heartfelt words strike the keynote of Jane Austen's last completed novel. ... characters, In Anne Elliot, ... Frederick Wentworth, a navy man Anne .... ... sent what appears to be a first edition of Jane Austen’s novel ... Anne Elliot and Frederick Wentworth fell ... and Characters Tags: Anne Elliot, .... ... Frederick Wentworth, ... the Elliot estate. All the tension of the novel revolves around one ... What does Anne’s relationship with Mrs. Smith suggest to you .... Jane Austen Study Questions. Al ... How does Captain Frederick Wentworth behave towards Anne when he visits ... film production captures the novel's characters, .... In 1816 there was a second edition of ... the reawakening of love between Anne Elliot and Captain Frederick Wentworth, ... we do not allow links to external .... Notable Characters: Anne Elliot, Frederick Wentworth, ... final completed novel. The heroine is a young woman, Anne ... Bath to meet her father. Anne .... ... Why did Mr. Elliot stay in Bath to meet ... Anne from Frederick Wentworth in the first place, so we aren't ... Persuasion (1818 novel): Why did Anne .... Posts about Jane Austen’s Persuasion ... engagement between Anne Elliot and Frederick Wentworth, ... novel was written between 1815 and 1816, .... Read our student reviewer's opinion of Captain Wentworth's Diary review by MW. ... (We recommend that you use FireFox or Google Chrome as your browser for LitPick.). GENE KOPPEL. Department of ... In Persuasion Anne Elliot and Frederick Wentworth are the perfect couple, ... the real Frederick Wentworth, when we meet him, .... KATHLEEN ANDERSON and TIFFANY ... in the progression of Anne Elliot and Captain Wentworth’s ... Anne Elliot’s displacement from multiple .... Books Advanced Search Best Sellers Top New Releases Deals in Books Best Books of the Month School Books Textbooks Books Outlet Children's Books Calendars & Diaries. It is at the Muskgrove estate that Anne meets Frederick Wentworth again, ... It is a novel of second chances. Anne Elliot, ... When we meet her, .... Anne Elliot, the middle daughter ... she was engaged to be married to Captain Frederick Wentworth, ... Have a novel take or think we left something out?. ... courtship between Anne Elliot and Frederick Wentworth. We are given ... Captain Wentworth's ... in 1806 when Wentworth and Miss Anne Elliot first meet .... ... major themes, characters, and a full summary and analysis. ... We see that Anne ... the company of Captain Wentworth. For more on Anne Elliot's relation .... ... Anne Elliot who broke off the engagement with Frederick Wentworth 8 years ... I have to do a seminar paper on Persuasion with connection to the Romantic .... Persuasion (Enriched Classics) eBook: ... excels in portraying her characters. Anne and Captain Wentworth are full ... When the novel opens, Anne Elliot faces the .... Anne Elliot is a more mature heroine than in ... When Anne and Frederick meet ... but delightful characters (Anne is a restrained character in comparison to .... If given the chance to share her feelings with Wentworth, will Anne have the courage to do ... Frederick Wentworth ... characters. In addition, we meet the .... Each novel has a unique cast of characters to ... as Anne Elliot and Frederick Wentworth grapple ... as a personalized novel. Fly off to Neverland to meet .... Anne was loved by Frederick Wentworth, a handsome ... characters. For a young woman ... Anne Elliot is a typical Austen heroine, .... Community Groups; Quotes; Ask the Author; Trivia; Quizzes; Creative Writing ... Sign In; Join. Persuasion / Characters / ... Anne Elliot; Captain Frederick Wentworth; William Walter Elliot, Esq. ... When we first meet Louisa, .... ... family compel her to decline marriage to Frederick Wentworth, ... treatment of her characters means that as readers, we get to ... we observe Anne Elliot, .... Anne Elliot fell deeply in love with handsome young naval officer Frederick Wentworth at the age of ... considering Austen’s novel was first published in 1816, .... Book Review: Persuasion. ... Anne and Captain Wentworth meet again due to ... perhaps she longed for that second chance that she gave to Anne Elliot….we’ll never .... ... Anne Elliot, heroine of Austen s last novel, did ... heroine of Austen's last novel, did something we ... and that Anne could do better. The novel .... RPF Book Club February: Persuasion ... and other characters, In Anne Elliot, ... romance with Captain Frederick Wentworth, a navy man Anne met and fell in ...\n",
            "\n",
            "\n",
            "Question: \n",
            " In which 1816 novel do we meet the characters Anne Elliot and Frederick Wentworth?\n",
            "result: \n",
            "Reference Answer: Persuasion\n",
            "Predicted Answer: Persuasion\n",
            "BLEU Score:       {'google_bleu': 1.0}\n",
            "----------------------------------------------\n",
            "Context: \n",
            " Kenny McCormick; South Park character: ... is a main character in the animated adult television series South Park, ... Kenny is given his first name, .... List of South Park families ... The following are fictional characters in the American animated television series South Park ... Token's last name in the series was .... ... TV Guide ranked South Park the tenth Greatest TV ... Kenny's muffled lines are ... South Park won the CableACE Award for Best Animated Series in 1997 .... ... dysfunctional town of South Park, ... Taking One Last Shot at Trump's Election ... Favourite long running animated TV comedy show; Top 35 Shows By Number of Votes;. Kenny McCormick is one of the four central characters in the animated television series South Park. How to install Kenny Skin First,download Kenny Skin Go. Kenny .... ... Kenny, Stan and Kyle in all ... create an avatar and go behind-the-scenes of Trey and Matt's award winning series. Watch Cartman, ... South Park and all related .... Kenny's Death was a running gag in South Park. Kenny's ... In the episode \"In Sickness and in Hell\" of the TV series ... (another Comedy Central animated series .... Kenneth \"Kenny\" McCormick, ... two in the early animated shorts, six in other authorized TV parodies, ... Kenny's first South Park appearance within the series was .... South Park; Format: Animated ... South Park is an American animated television comedy series about the lives ... Cartman often insults Kyle for being Jewish and Kenny .... South Park is an American animated ... South Park is an American animated educational television series ... Kenny has returned to South Park .... Anime South Park. animated series created by Trey ... He's considered as the most revolved character on television. Kenny ... Anime South Park Wiki is a Fandom TV .... Create and view South Park news ... creators of the popular animated series South Park, ... Cartman, and Kenny to go away with a black screen for .... The Official South Park Studios Wiki. List of Characters ... Long Blonde Wig Kenny (Cartman Joins NAMBLA) Lorde. Marjorine .... Kenny McCormick is a fictional character from the popular animated television show South Park.. Download South Park (Season 07) shows to watch TV ... I really liked how they killed Kenny for the last ... but i don't care!! this is the best goddamn animated .... Best Kenny Episodes of South Park \"Major Boobage,\" Season 12 Kenny starts ... South Park. Voice. Kenny McCormick on South Park ... Animated TV Shows .... ... for the Trey Parker and Matt Stone’s animated series has changed ... TV ... South Park,” complete with Kenny’s .... Kenneth \"Kenny\" McCormick, ... Kenny's first South Park appearance within the series was alongside Kyle, ... in the last few minutes it shows his funeral scene, .... South Park pictures of characters ... The iconic animated series put Comedy ... Eric Cartman's Best Episodes on 'South Park' 'South Park' Pictures; Our .... Kenneth Jay \"Kenny\" Hotz is an ... He is best known as being the creator of the animated TV series South Park, Kenny vs ... his last name was .... \"Black Friday\" is the seventh episode of the seventeenth season of the animated series South Park. ... In South Park, Black Friday is ... The TV series even .... ... up that he resembled Kenny, who always shows up on “South Park ... his name. “He will forever ... about the animated comedy show “South Park .... South Park is a subversive animated series featuring four boys who live ... primetime cable scripted series on television, ... contain what Kenny is actually .... \"Volcano\" is the second episode of the American animated television series South Park. ... Kyle, Cartman and Kenny go on a hunting ... (South_Park) foaf:name: Volcano. Sign up for a Verizon Fios account and get access to thousands of movies & TV shows and watch ... South Park . 20 Seasons . The animated series is not for ... Kenny .... South Park on MUCH.com ... he's usually referred to only by his last name ... animated series, “South Park,” created by comic geniuses Trey Parker and Matt Stone, .... ... Kyle, Cartman, and Kenny, we narrowed down South Park’s 257 ... The Top 10 Episodes of ‘South Park ... and loves her cat and TV shows more than some .... Happy Birthday, South Park: Celebrating 16 Years Of Kenny McCormick’s Most Glorious Death Scenes. Looking for Kenny ? ... My name is Kenny da Lima-365 i live in ... Kenneth \"Kenny\" McCormick is a main character in the animated adult television series South Park, .... Best South Park Characters. ... 1Eric Cartman Eric Theodore Cartman is one of the main characters in the animated television series South Park, ... 4Kenny McCormick.. ... I thought it might be just the time to take a look back on the animated series ... TV » Shows » The 14 Greatest South Park ... South Park series is .... Trailers that tell you the TRUTH about your favorite movies and TV shows. ... South Park's 13 Most Twisted Kenny ... arrive in South Park, they find Kenny’s .... Trey Parker and Matt Stone bring the colorful citizens of South Park to the big ... South Park: Bigger, Longer & Uncut stars Kenny ... Central series, South Park: .... Premise: The animated series is not for children. ... Oh, and Kenny is killed in many episodes. ... South Park News.. Comedy Central TV 'South Park ' Turns 17 ... animated series \"South Park\" was a real ... aired 17 years ago last night. In honor of \"South Park\"'s big .... ... What does kenny say in the south park theme song? ... Your name: What does kenny say ... is a main character in the animated television series South Park.. Comedy Central renews 'South Park' through ... They're never killing Kenny! Comedy Central renews 'South Park ... extending a deal last year that covered the .... In tackling gentrification, South Park comments on ... and mixing the real actors with the animated versions of Kenny’s family only adds to ... TV, South Park, .... 'South Park visits the Hawaiian Islands this week to poke fun at its 'indigenous people.' ... ‘South Park’ Season 16, Episode 11: ... Kenny, on his journey of .... An animated adult series about foul-mouthed primary school children living in a ... Matt Stone as Kyle/Kenny. ... Discuss South Park on our TV talk forum! Go to .... \"South Park\" Biography, History: South Park is a ... feeding tube from Kenny McCormick. Series history South Park got ... on the South Park television series and .... ... South Park creators Trey Parker and Matt Stone, who marked the upcoming 20th anniversary of the groundbreaking animated Comedy Central series ... last .... South Park,secrets,mistakes. ... T&P FLIP TO SOUTH PARK ON THEIR TELEVISION!!!!! ... and Ned's last name is \"Gurblanski\". South Park is a poorly drawn cartoon series created by Trey Parker ... stupid and unfunny television. Kenny. ... South Park is part of animated shows, .... Last Name. Phone Number. ... Voted “The Greatest Animated TV Series” in a poll conducted by Entertainment ... Much Shows. The Vampire Diaries; South Park; Kingdom .... Watch full episodes of South Park by season. ... The animated series is not for children. ... Kyle, Kenny and Cartman.\n",
            "\n",
            "\n",
            "Question: \n",
            " What is Kenny's last name on the animated TV series South Park?\n",
            "result: \n",
            "Reference Answer: McCormick\n",
            "Predicted Answer: McCormick\n",
            "BLEU Score:       {'google_bleu': 1.0}\n",
            "----------------------------------------------\n"
          ]
        }
      ]
    },
    {
      "cell_type": "markdown",
      "source": [
        "## end of T5 --------------------------------"
      ],
      "metadata": {
        "id": "o-WUXg_jNx3d"
      }
    },
    {
      "cell_type": "markdown",
      "metadata": {
        "id": "_lxRQuKOwf2n"
      },
      "source": [
        "## Prepare the Data for the Model"
      ]
    },
    {
      "cell_type": "markdown",
      "metadata": {
        "id": "LvvXBnqZWCi9"
      },
      "source": [
        "## Save the Model"
      ]
    },
    {
      "cell_type": "code",
      "execution_count": null,
      "metadata": {
        "id": "kANN6v4d10Oh"
      },
      "outputs": [],
      "source": [
        "import pickle"
      ]
    },
    {
      "cell_type": "code",
      "execution_count": null,
      "metadata": {
        "colab": {
          "base_uri": "https://localhost:8080/"
        },
        "id": "5c0TAVGH5i4Q",
        "outputId": "5266caf8-e2ee-4ac7-a031-fc8ef794ac21"
      },
      "outputs": [
        {
          "name": "stderr",
          "output_type": "stream",
          "text": [
            "WARNING:absl:You are saving your model as an HDF5 file via `model.save()` or `keras.saving.save_model(model)`. This file format is considered legacy. We recommend using instead the native Keras format, e.g. `model.save('my_model.keras')` or `keras.saving.save_model(model, 'my_model.keras')`. \n"
          ]
        }
      ],
      "source": [
        "\n",
        "# Save the entire model to a file\n",
        "combined_model.save(path_base + 'qa_model.h5')\n",
        "\n",
        "# Save the history to a file\n",
        "with open(path_base + 'training_history.pkl', 'wb') as file:\n",
        "    pickle.dump(history.history, file)"
      ]
    },
    {
      "cell_type": "code",
      "execution_count": null,
      "metadata": {
        "id": "9Xv3dMaE_wHL"
      },
      "outputs": [],
      "source": [
        "lstm_model = combined_model\n",
        "lstm_model = history"
      ]
    },
    {
      "cell_type": "code",
      "execution_count": null,
      "metadata": {
        "colab": {
          "base_uri": "https://localhost:8080/"
        },
        "id": "EAled9E-2Eq-",
        "outputId": "d65c291f-0faf-42bd-fe67-7307f560bd9c"
      },
      "outputs": [
        {
          "name": "stdout",
          "output_type": "stream",
          "text": [
            "{'loss': [73772.09375, 71039.796875, 71043.03125, 71025.5, 71035.09375], 'accuracy': [0.00013821541506331414, 0.0001036615576595068, 0.0001036615576595068, 0.0001036615576595068, 0.0001036615576595068], 'val_loss': [85928.296875, 86220.9296875, 86047.140625, 86139.6015625, 86175.734375], 'val_accuracy': [0.0, 0.0, 0.0, 0.0, 0.0]}\n"
          ]
        }
      ],
      "source": [
        "from tensorflow.keras.models import load_model\n",
        "# Load the model from the file\n",
        "lstm_model = load_model(base_address_file + 'qa_model.h5')\n",
        "\n",
        "# Load the training history from the file\n",
        "with open(base_address_file + 'training_history.pkl', 'rb') as file:\n",
        "    lstm_model = pickle.load(file)\n",
        "\n",
        "# If you want to access history data\n",
        "print(history)"
      ]
    },
    {
      "cell_type": "markdown",
      "metadata": {
        "id": "rRc09zmn_WT8"
      },
      "source": [
        "# Create model with Transformer"
      ]
    },
    {
      "cell_type": "markdown",
      "metadata": {
        "id": "Ussm8oFM_jDp"
      },
      "source": [
        "## Install Required Libraries"
      ]
    },
    {
      "cell_type": "markdown",
      "metadata": {
        "id": "rktv_T_X_yaW"
      },
      "source": [
        "## Prepare Data for Transformer"
      ]
    },
    {
      "cell_type": "markdown",
      "metadata": {
        "id": "shefwBNFsL3p"
      },
      "source": [
        "## Define the Transformer Model"
      ]
    },
    {
      "cell_type": "code",
      "execution_count": null,
      "metadata": {
        "id": "9bdG8y6LNOqI"
      },
      "outputs": [],
      "source": [
        "from tensorflow.keras.layers import Input, Embedding, MultiHeadAttention, LayerNormalization, Dropout, Dense\n",
        "from tensorflow.keras.models import Model\n",
        "from tensorflow.keras.layers import GlobalAveragePooling1D, Add\n",
        "import torch\n",
        "import torch.nn as nn\n",
        "import torch.optim as optim\n",
        "import torch.utils.data as data\n",
        "import math\n",
        "import copy\n",
        "from torch.utils.data import DataLoader, TensorDataset"
      ]
    },
    {
      "cell_type": "code",
      "execution_count": null,
      "metadata": {
        "id": "tTlQJWTPczFS"
      },
      "outputs": [],
      "source": []
    },
    {
      "cell_type": "code",
      "execution_count": null,
      "metadata": {
        "id": "cqMrTK5bNSfz"
      },
      "outputs": [],
      "source": [
        "# Hyperparameters\n",
        "# embedding_dim = 64  # Dimension for embedding layer\n",
        "# num_heads = 4       # Number of attention heads\n",
        "# ff_dim = 128        # Dimension for feedforward network\n",
        "# dropout_rate = 0.1  # Dropout rate\n",
        "# max_question_length = 100  # Maximum length for questions\n",
        "src_vocab_size = len(tokenizer.word_index) + 1#len(X_train)\n",
        "tgt_vocab_size = len(tokenizer.word_index) + 1#len(y_train)\n",
        "d_model = 512\n",
        "num_heads = 1 #8\n",
        "num_layers = 3#6\n",
        "d_ff = 1024#2048\n",
        "max_seq_length = max(max_question_length, max_answer_length)\n",
        "dropout = 0.1\n",
        "batch_size = 200  # Use smaller batches"
      ]
    },
    {
      "cell_type": "markdown",
      "metadata": {
        "id": "CNYhZGlWsS1u"
      },
      "source": [
        "## Create Transformer block"
      ]
    },
    {
      "cell_type": "markdown",
      "metadata": {
        "id": "84_6Tw9QFjVL"
      },
      "source": [
        "### MultiHeadAttention"
      ]
    },
    {
      "cell_type": "code",
      "execution_count": null,
      "metadata": {
        "id": "Uqavr2kNFk1W"
      },
      "outputs": [],
      "source": [
        "class MultiHeadAttention(nn.Module):\n",
        "    def __init__(self, d_model, num_heads):\n",
        "        super(MultiHeadAttention, self).__init__()\n",
        "        # Ensure that the model dimension (d_model) is divisible by the number of heads\n",
        "        assert d_model % num_heads == 0, \"d_model must be divisible by num_heads\"\n",
        "\n",
        "        # Initialize dimensions\n",
        "        self.d_model = d_model # Model's dimension\n",
        "        self.num_heads = num_heads # Number of attention heads\n",
        "        self.d_k = d_model // num_heads # Dimension of each head's key, query, and value\n",
        "\n",
        "        # Linear layers for transforming inputs\n",
        "        self.W_q = nn.Linear(d_model, d_model) # Query transformation\n",
        "        self.W_k = nn.Linear(d_model, d_model) # Key transformation\n",
        "        self.W_v = nn.Linear(d_model, d_model) # Value transformation\n",
        "        self.W_o = nn.Linear(d_model, d_model) # Output transformation\n",
        "\n",
        "    def scaled_dot_product_attention(self, Q, K, V, mask=None):\n",
        "        # Calculate attention scores\n",
        "        attn_scores = torch.matmul(Q, K.transpose(-2, -1)) / math.sqrt(self.d_k)\n",
        "\n",
        "        # Apply mask if provided (useful for preventing attention to certain parts like padding)\n",
        "        if mask is not None:\n",
        "            # attn_scores = attn_scores.masked_fill(mask == 0, -1e9)\n",
        "            attn_scores = attn_scores.masked_fill(mask == 0,float('-inf'))\n",
        "\n",
        "\n",
        "        # Softmax is applied to obtain attention probabilities\n",
        "        attn_probs = torch.softmax(attn_scores, dim=-1)\n",
        "\n",
        "        # Multiply by values to obtain the final output\n",
        "        output = torch.matmul(attn_probs, V)\n",
        "        return output\n",
        "\n",
        "    def split_heads(self, x):\n",
        "        # Reshape the input to have num_heads for multi-head attention\n",
        "        batch_size, seq_length, d_model = x.size()\n",
        "        return x.view(batch_size, seq_length, self.num_heads, self.d_k).transpose(1, 2)\n",
        "\n",
        "    def combine_heads(self, x):\n",
        "        # Combine the multiple heads back to original shape\n",
        "        batch_size, _, seq_length, d_k = x.size()\n",
        "        return x.transpose(1, 2).contiguous().view(batch_size, seq_length, self.d_model)\n",
        "\n",
        "    def forward(self, Q, K, V, mask=None):\n",
        "        # Apply linear transformations and split heads\n",
        "        Q = self.split_heads(self.W_q(Q))\n",
        "        K = self.split_heads(self.W_k(K))\n",
        "        V = self.split_heads(self.W_v(V))\n",
        "\n",
        "        # Perform scaled dot-product attention\n",
        "        attn_output = self.scaled_dot_product_attention(Q, K, V, mask)\n",
        "\n",
        "        # Combine heads and apply output transformation\n",
        "        output = self.W_o(self.combine_heads(attn_output))\n",
        "        return output"
      ]
    },
    {
      "cell_type": "markdown",
      "metadata": {
        "id": "sIL-psOlFsOE"
      },
      "source": [
        "### PositionWiseFeedForward"
      ]
    },
    {
      "cell_type": "code",
      "execution_count": null,
      "metadata": {
        "id": "ev_yibFzFrJr"
      },
      "outputs": [],
      "source": [
        "class PositionWiseFeedForward(nn.Module):\n",
        "    def __init__(self, d_model, d_ff):\n",
        "        super(PositionWiseFeedForward, self).__init__()\n",
        "        self.fc1 = nn.Linear(d_model, d_ff)\n",
        "        self.fc2 = nn.Linear(d_ff, d_model)\n",
        "        self.relu = nn.ReLU()\n",
        "\n",
        "    def forward(self, x):\n",
        "        return self.fc2(self.relu(self.fc1(x)))"
      ]
    },
    {
      "cell_type": "markdown",
      "metadata": {
        "id": "Wglx72AdFybg"
      },
      "source": [
        "### PositionalEncoding"
      ]
    },
    {
      "cell_type": "code",
      "execution_count": null,
      "metadata": {
        "id": "k3qFZs4uFzv2"
      },
      "outputs": [],
      "source": [
        "class PositionalEncoding(nn.Module):\n",
        "    def __init__(self, d_model, max_seq_length):\n",
        "        super(PositionalEncoding, self).__init__()\n",
        "\n",
        "        pe = torch.zeros(max_seq_length, d_model)\n",
        "        position = torch.arange(0, max_seq_length, dtype=torch.float).unsqueeze(1)\n",
        "        div_term = torch.exp(torch.arange(0, d_model, 2).float() * -(math.log(10000.0) / d_model))\n",
        "\n",
        "        pe[:, 0::2] = torch.sin(position * div_term)\n",
        "        pe[:, 1::2] = torch.cos(position * div_term)\n",
        "\n",
        "        self.register_buffer('pe', pe.unsqueeze(0))\n",
        "\n",
        "    def forward(self, x):\n",
        "        return x + self.pe[:, :x.size(1)]"
      ]
    },
    {
      "cell_type": "markdown",
      "metadata": {
        "id": "_Y82sWGnF41H"
      },
      "source": [
        "### Building the Encoder Blocks"
      ]
    },
    {
      "cell_type": "code",
      "execution_count": null,
      "metadata": {
        "id": "nkNqu64cFws9"
      },
      "outputs": [],
      "source": [
        "class EncoderLayer(nn.Module):\n",
        "    def __init__(self, d_model, num_heads, d_ff, dropout):\n",
        "        super(EncoderLayer, self).__init__()\n",
        "        self.self_attn = MultiHeadAttention(d_model, num_heads)\n",
        "        self.feed_forward = PositionWiseFeedForward(d_model, d_ff)\n",
        "        self.norm1 = nn.LayerNorm(d_model)\n",
        "        self.norm2 = nn.LayerNorm(d_model)\n",
        "        self.dropout = nn.Dropout(dropout)\n",
        "\n",
        "    def forward(self, x, mask):\n",
        "        attn_output = self.self_attn(x, x, x, mask)\n",
        "        x = self.norm1(x + self.dropout(attn_output))\n",
        "        ff_output = self.feed_forward(x)\n",
        "        x = self.norm2(x + self.dropout(ff_output))\n",
        "        return x"
      ]
    },
    {
      "cell_type": "markdown",
      "metadata": {
        "id": "Xy2avJi-GP9K"
      },
      "source": [
        "### Building the Decoder Blocks"
      ]
    },
    {
      "cell_type": "code",
      "execution_count": null,
      "metadata": {
        "id": "q7_rt7tdGQzg"
      },
      "outputs": [],
      "source": [
        "class DecoderLayer(nn.Module):\n",
        "    def __init__(self, d_model, num_heads, d_ff, dropout):\n",
        "        super(DecoderLayer, self).__init__()\n",
        "        self.self_attn = MultiHeadAttention(d_model, num_heads)\n",
        "        self.cross_attn = MultiHeadAttention(d_model, num_heads)\n",
        "        self.feed_forward = PositionWiseFeedForward(d_model, d_ff)\n",
        "        self.norm1 = nn.LayerNorm(d_model)\n",
        "        self.norm2 = nn.LayerNorm(d_model)\n",
        "        self.norm3 = nn.LayerNorm(d_model)\n",
        "        self.dropout = nn.Dropout(dropout)\n",
        "\n",
        "    def forward(self, x, enc_output, src_mask, tgt_mask):\n",
        "        attn_output = self.self_attn(x, x, x, tgt_mask)\n",
        "        x = self.norm1(x + self.dropout(attn_output))\n",
        "        attn_output = self.cross_attn(x, enc_output, enc_output, src_mask)\n",
        "        x = self.norm2(x + self.dropout(attn_output))\n",
        "        ff_output = self.feed_forward(x)\n",
        "        x = self.norm3(x + self.dropout(ff_output))\n",
        "        return x"
      ]
    },
    {
      "cell_type": "markdown",
      "metadata": {
        "id": "hOqoCmtgGdlc"
      },
      "source": [
        "### 5.Combining the Encoder and Decoder layers to create the complete Transformer network"
      ]
    },
    {
      "cell_type": "code",
      "execution_count": null,
      "metadata": {
        "id": "0IIJCtmJGfMv"
      },
      "outputs": [],
      "source": [
        "class Transformer(nn.Module):\n",
        "    def __init__(self, src_vocab_size, tgt_vocab_size, d_model, num_heads, num_layers, d_ff, max_seq_length, dropout):\n",
        "        super(Transformer, self).__init__()\n",
        "        self.encoder_embedding = nn.Embedding(src_vocab_size, d_model)\n",
        "        self.decoder_embedding = nn.Embedding(tgt_vocab_size, d_model)\n",
        "        self.positional_encoding = PositionalEncoding(d_model, max_seq_length)\n",
        "\n",
        "        self.encoder_layers = nn.ModuleList([EncoderLayer(d_model, num_heads, d_ff, dropout) for _ in range(num_layers)])\n",
        "        self.decoder_layers = nn.ModuleList([DecoderLayer(d_model, num_heads, d_ff, dropout) for _ in range(num_layers)])\n",
        "\n",
        "        self.fc = nn.Linear(d_model, tgt_vocab_size)\n",
        "        self.dropout = nn.Dropout(dropout)\n",
        "\n",
        "    def generate_mask(self, src, tgt):\n",
        "        src_mask = (src != 0).unsqueeze(1).unsqueeze(2)\n",
        "        tgt_mask = (tgt != 0).unsqueeze(1).unsqueeze(3)\n",
        "        seq_length = tgt.size(1)\n",
        "        nopeak_mask = (1 - torch.triu(torch.ones(1, seq_length, seq_length), diagonal=1)).bool()\n",
        "        tgt_mask = tgt_mask & nopeak_mask\n",
        "        return src_mask, tgt_mask\n",
        "\n",
        "    def forward(self, src, tgt):\n",
        "        src_mask, tgt_mask = self.generate_mask(src, tgt)\n",
        "\n",
        "        src_embedded = self.dropout(self.positional_encoding(self.encoder_embedding(src)))\n",
        "        tgt_embedded = self.dropout(self.positional_encoding(self.decoder_embedding(tgt)))\n",
        "\n",
        "        enc_output = src_embedded\n",
        "        for enc_layer in self.encoder_layers:\n",
        "            enc_output = enc_layer(enc_output, src_mask)\n",
        "\n",
        "        dec_output = tgt_embedded\n",
        "        for dec_layer in self.decoder_layers:\n",
        "            dec_output = dec_layer(dec_output, enc_output, src_mask, tgt_mask)\n",
        "\n",
        "        output = self.fc(dec_output)\n",
        "        return output"
      ]
    },
    {
      "cell_type": "markdown",
      "metadata": {
        "id": "4jGdPHx0G6Wh"
      },
      "source": [
        "### use Transformer"
      ]
    },
    {
      "cell_type": "code",
      "execution_count": null,
      "metadata": {
        "id": "iHVKL7xJG3qS"
      },
      "outputs": [],
      "source": [
        "# Initialize transformer model\n",
        "transformer = Transformer(src_vocab_size, tgt_vocab_size, d_model, num_heads, num_layers, d_ff, max_seq_length, dropout)\n",
        "\n",
        "# Convert the data into a DataLoader\n",
        "src_data = torch.tensor(X_train)#torch.randint(1, src_vocab_size, (64, max_seq_length))  # (batch_size, seq_length)\n",
        "tgt_data = torch.tensor(y_train) #torch.randint(1, tgt_vocab_size, (64, max_seq_length))  # (batch_size, seq_length)"
      ]
    },
    {
      "cell_type": "markdown",
      "metadata": {
        "id": "JGjeHH1csr8L"
      },
      "source": [
        "## Train the Model"
      ]
    },
    {
      "cell_type": "code",
      "execution_count": null,
      "metadata": {
        "colab": {
          "background_save": true,
          "base_uri": "https://localhost:8080/"
        },
        "id": "fuvWVg5DXKqo",
        "outputId": "94f59d10-bf27-4dca-8d23-f0e6c55b729a"
      },
      "outputs": [
        {
          "name": "stdout",
          "output_type": "stream",
          "text": [
            "batch: 1\n",
            "batch: 2\n",
            "batch: 3\n",
            "batch: 4\n",
            "batch: 5\n",
            "batch: 6\n",
            "batch: 7\n",
            "batch: 8\n",
            "batch: 9\n",
            "batch: 10\n",
            "batch: 11\n",
            "batch: 12\n",
            "batch: 13\n",
            "batch: 14\n",
            "batch: 15\n",
            "batch: 16\n",
            "batch: 17\n",
            "batch: 18\n",
            "batch: 19\n",
            "batch: 20\n",
            "batch: 21\n",
            "batch: 22\n",
            "batch: 23\n",
            "batch: 24\n",
            "batch: 25\n",
            "Epoch: 1, Loss: nan\n",
            "batch: 1\n",
            "batch: 2\n",
            "batch: 3\n",
            "batch: 4\n",
            "batch: 5\n",
            "batch: 6\n",
            "batch: 7\n",
            "batch: 8\n",
            "batch: 9\n",
            "batch: 10\n",
            "batch: 11\n",
            "batch: 12\n",
            "batch: 13\n",
            "batch: 14\n",
            "batch: 15\n",
            "batch: 16\n",
            "batch: 17\n",
            "batch: 18\n",
            "batch: 19\n",
            "batch: 20\n",
            "batch: 21\n",
            "batch: 22\n",
            "batch: 23\n",
            "batch: 24\n",
            "batch: 25\n",
            "Epoch: 2, Loss: nan\n",
            "batch: 1\n",
            "batch: 2\n",
            "batch: 3\n",
            "batch: 4\n",
            "batch: 5\n",
            "batch: 6\n",
            "batch: 7\n",
            "batch: 8\n",
            "batch: 9\n",
            "batch: 10\n",
            "batch: 11\n",
            "batch: 12\n",
            "batch: 13\n",
            "batch: 14\n",
            "batch: 15\n",
            "batch: 16\n",
            "batch: 17\n",
            "batch: 18\n",
            "batch: 19\n",
            "batch: 20\n",
            "batch: 21\n",
            "batch: 22\n",
            "batch: 23\n",
            "batch: 24\n",
            "batch: 25\n",
            "Epoch: 3, Loss: nan\n",
            "batch: 1\n",
            "batch: 2\n",
            "batch: 3\n",
            "batch: 4\n",
            "batch: 5\n",
            "batch: 6\n",
            "batch: 7\n",
            "batch: 8\n",
            "batch: 9\n",
            "batch: 10\n",
            "batch: 11\n",
            "batch: 12\n",
            "batch: 13\n",
            "batch: 14\n",
            "batch: 15\n",
            "batch: 16\n",
            "batch: 17\n",
            "batch: 18\n",
            "batch: 19\n",
            "batch: 20\n",
            "batch: 21\n",
            "batch: 22\n",
            "batch: 23\n",
            "batch: 24\n",
            "batch: 25\n",
            "Epoch: 4, Loss: nan\n",
            "batch: 1\n",
            "batch: 2\n",
            "batch: 3\n",
            "batch: 4\n",
            "batch: 5\n",
            "batch: 6\n",
            "batch: 7\n",
            "batch: 8\n",
            "batch: 9\n",
            "batch: 10\n",
            "batch: 11\n",
            "batch: 12\n",
            "batch: 13\n",
            "batch: 14\n",
            "batch: 15\n",
            "batch: 16\n",
            "batch: 17\n",
            "batch: 18\n",
            "batch: 19\n",
            "batch: 20\n",
            "batch: 21\n",
            "batch: 22\n",
            "batch: 23\n",
            "batch: 24\n",
            "batch: 25\n",
            "Epoch: 5, Loss: nan\n"
          ]
        }
      ],
      "source": [
        "# Create TensorDataset and DataLoader\n",
        "dataset = TensorDataset(src_data, tgt_data)\n",
        "dataloader = DataLoader(dataset, batch_size=batch_size, shuffle=True)\n",
        "\n",
        "# Define loss and optimizer\n",
        "criterion = nn.CrossEntropyLoss(ignore_index=0)\n",
        "optimizer = optim.Adam(transformer.parameters(), lr=0.0001, betas=(0.9, 0.98), eps=1e-9)\n",
        "\n",
        "transformer.train()\n",
        "\n",
        "for epoch in range(5):\n",
        "    epoch_loss = 0\n",
        "    batch_index = 0\n",
        "    for batch in dataloader:\n",
        "        src_batch, tgt_batch = batch\n",
        "        optimizer.zero_grad()\n",
        "        output = transformer(src_batch, tgt_batch[:, :-1])\n",
        "        loss = criterion(output.contiguous().view(-1, tgt_vocab_size), tgt_batch[:, 1:].contiguous().view(-1))\n",
        "        loss.backward()\n",
        "        optimizer.step()\n",
        "        batch_index = batch_index + 1\n",
        "        print(f\"batch: {batch_index}\")\n",
        "        epoch_loss += loss.item()\n",
        "    print(f\"Epoch: {epoch+1}, Loss: {epoch_loss / len(dataloader)}\")"
      ]
    },
    {
      "cell_type": "code",
      "execution_count": null,
      "metadata": {
        "colab": {
          "base_uri": "https://localhost:8080/",
          "height": 1000
        },
        "id": "DjtGRXLMHJIr",
        "outputId": "9151c0de-75d6-4f32-a143-d22d52159669"
      },
      "outputs": [
        {
          "name": "stdout",
          "output_type": "stream",
          "text": [
            "batch: 1, Loss: nan\n",
            "batch: 2, Loss: nan\n",
            "batch: 3, Loss: nan\n",
            "batch: 4, Loss: nan\n",
            "batch: 5, Loss: nan\n",
            "batch: 6, Loss: nan\n",
            "batch: 7, Loss: nan\n",
            "batch: 8, Loss: nan\n",
            "batch: 9, Loss: nan\n",
            "batch: 10, Loss: nan\n",
            "batch: 11, Loss: nan\n",
            "batch: 12, Loss: nan\n",
            "batch: 13, Loss: nan\n",
            "batch: 14, Loss: nan\n",
            "batch: 15, Loss: nan\n",
            "batch: 16, Loss: nan\n",
            "batch: 17, Loss: nan\n",
            "batch: 18, Loss: nan\n",
            "batch: 19, Loss: nan\n",
            "batch: 20, Loss: nan\n",
            "batch: 21, Loss: nan\n",
            "batch: 22, Loss: nan\n",
            "batch: 23, Loss: nan\n",
            "batch: 24, Loss: nan\n",
            "batch: 25, Loss: nan\n",
            "batch: 26, Loss: nan\n",
            "batch: 27, Loss: nan\n",
            "batch: 28, Loss: nan\n",
            "batch: 29, Loss: nan\n",
            "batch: 30, Loss: nan\n",
            "batch: 31, Loss: nan\n",
            "batch: 32, Loss: nan\n",
            "batch: 33, Loss: nan\n",
            "batch: 34, Loss: nan\n",
            "batch: 35, Loss: nan\n",
            "batch: 36, Loss: nan\n",
            "batch: 37, Loss: nan\n",
            "batch: 38, Loss: nan\n",
            "batch: 39, Loss: nan\n",
            "batch: 40, Loss: nan\n",
            "batch: 41, Loss: nan\n",
            "batch: 42, Loss: nan\n",
            "batch: 43, Loss: nan\n",
            "batch: 44, Loss: nan\n",
            "batch: 45, Loss: nan\n",
            "batch: 46, Loss: nan\n",
            "batch: 47, Loss: nan\n",
            "batch: 48, Loss: nan\n",
            "batch: 49, Loss: nan\n",
            "batch: 50, Loss: nan\n",
            "batch: 51, Loss: nan\n",
            "batch: 52, Loss: nan\n",
            "batch: 53, Loss: nan\n",
            "batch: 54, Loss: nan\n",
            "batch: 55, Loss: nan\n",
            "batch: 56, Loss: nan\n",
            "batch: 57, Loss: nan\n",
            "batch: 58, Loss: nan\n",
            "batch: 59, Loss: nan\n",
            "batch: 60, Loss: nan\n",
            "batch: 61, Loss: nan\n",
            "batch: 62, Loss: nan\n",
            "batch: 63, Loss: nan\n",
            "batch: 64, Loss: nan\n",
            "batch: 65, Loss: nan\n",
            "batch: 66, Loss: nan\n",
            "batch: 67, Loss: nan\n",
            "batch: 68, Loss: nan\n",
            "batch: 69, Loss: nan\n",
            "batch: 70, Loss: nan\n",
            "batch: 71, Loss: nan\n",
            "batch: 72, Loss: nan\n",
            "batch: 73, Loss: nan\n",
            "batch: 74, Loss: nan\n",
            "batch: 75, Loss: nan\n",
            "batch: 76, Loss: nan\n",
            "batch: 77, Loss: nan\n",
            "batch: 78, Loss: nan\n",
            "batch: 79, Loss: nan\n",
            "batch: 80, Loss: nan\n",
            "batch: 81, Loss: nan\n",
            "batch: 82, Loss: nan\n",
            "batch: 83, Loss: nan\n",
            "batch: 84, Loss: nan\n",
            "batch: 85, Loss: nan\n",
            "batch: 86, Loss: nan\n",
            "batch: 87, Loss: nan\n",
            "batch: 88, Loss: nan\n",
            "batch: 89, Loss: nan\n",
            "batch: 90, Loss: nan\n",
            "batch: 91, Loss: nan\n",
            "batch: 92, Loss: nan\n",
            "batch: 93, Loss: nan\n",
            "batch: 94, Loss: nan\n",
            "batch: 95, Loss: nan\n",
            "batch: 96, Loss: nan\n",
            "batch: 97, Loss: nan\n",
            "batch: 98, Loss: nan\n",
            "batch: 99, Loss: nan\n",
            "batch: 100, Loss: nan\n",
            "batch: 101, Loss: nan\n",
            "batch: 102, Loss: nan\n",
            "batch: 103, Loss: nan\n",
            "batch: 104, Loss: nan\n",
            "batch: 105, Loss: nan\n",
            "batch: 106, Loss: nan\n",
            "batch: 107, Loss: nan\n",
            "batch: 108, Loss: nan\n",
            "batch: 109, Loss: nan\n",
            "batch: 110, Loss: nan\n",
            "batch: 111, Loss: nan\n",
            "batch: 112, Loss: nan\n",
            "batch: 113, Loss: nan\n",
            "batch: 114, Loss: nan\n",
            "batch: 115, Loss: nan\n",
            "batch: 116, Loss: nan\n",
            "batch: 117, Loss: nan\n",
            "batch: 118, Loss: nan\n",
            "batch: 119, Loss: nan\n",
            "batch: 120, Loss: nan\n",
            "batch: 121, Loss: nan\n",
            "batch: 122, Loss: nan\n",
            "batch: 123, Loss: nan\n",
            "batch: 124, Loss: nan\n",
            "batch: 125, Loss: nan\n",
            "batch: 126, Loss: nan\n",
            "batch: 127, Loss: nan\n",
            "batch: 128, Loss: nan\n",
            "batch: 129, Loss: nan\n",
            "batch: 130, Loss: nan\n",
            "batch: 131, Loss: nan\n",
            "batch: 132, Loss: nan\n",
            "batch: 133, Loss: nan\n",
            "batch: 134, Loss: nan\n",
            "batch: 135, Loss: nan\n",
            "batch: 136, Loss: nan\n",
            "batch: 137, Loss: nan\n",
            "batch: 138, Loss: nan\n",
            "batch: 139, Loss: nan\n",
            "batch: 140, Loss: nan\n",
            "batch: 141, Loss: nan\n",
            "batch: 142, Loss: nan\n",
            "batch: 143, Loss: nan\n",
            "batch: 144, Loss: nan\n",
            "batch: 145, Loss: nan\n",
            "batch: 146, Loss: nan\n",
            "batch: 147, Loss: nan\n",
            "batch: 148, Loss: nan\n",
            "batch: 149, Loss: nan\n",
            "batch: 150, Loss: nan\n",
            "batch: 151, Loss: nan\n",
            "batch: 152, Loss: nan\n",
            "batch: 153, Loss: nan\n",
            "batch: 154, Loss: nan\n",
            "batch: 155, Loss: nan\n",
            "batch: 156, Loss: nan\n",
            "batch: 157, Loss: nan\n",
            "batch: 158, Loss: nan\n",
            "batch: 159, Loss: nan\n",
            "batch: 160, Loss: nan\n",
            "batch: 161, Loss: nan\n",
            "batch: 162, Loss: nan\n",
            "batch: 163, Loss: nan\n",
            "batch: 164, Loss: nan\n",
            "batch: 165, Loss: nan\n",
            "batch: 166, Loss: nan\n",
            "batch: 167, Loss: nan\n",
            "batch: 168, Loss: nan\n",
            "batch: 169, Loss: nan\n",
            "batch: 170, Loss: nan\n",
            "batch: 171, Loss: nan\n",
            "batch: 172, Loss: nan\n",
            "batch: 173, Loss: nan\n",
            "batch: 174, Loss: nan\n",
            "batch: 175, Loss: nan\n",
            "batch: 176, Loss: nan\n",
            "batch: 177, Loss: nan\n",
            "batch: 178, Loss: nan\n",
            "batch: 179, Loss: nan\n",
            "batch: 180, Loss: nan\n",
            "batch: 181, Loss: nan\n",
            "batch: 182, Loss: nan\n",
            "batch: 183, Loss: nan\n",
            "batch: 184, Loss: nan\n",
            "batch: 185, Loss: nan\n",
            "batch: 186, Loss: nan\n",
            "batch: 187, Loss: nan\n",
            "batch: 188, Loss: nan\n",
            "batch: 189, Loss: nan\n",
            "batch: 190, Loss: nan\n",
            "batch: 191, Loss: nan\n",
            "batch: 192, Loss: nan\n",
            "batch: 193, Loss: nan\n",
            "batch: 194, Loss: nan\n",
            "batch: 195, Loss: nan\n",
            "batch: 196, Loss: nan\n",
            "batch: 197, Loss: nan\n",
            "batch: 198, Loss: nan\n",
            "batch: 199, Loss: nan\n",
            "batch: 200, Loss: nan\n",
            "batch: 201, Loss: nan\n",
            "batch: 202, Loss: nan\n",
            "batch: 203, Loss: nan\n",
            "batch: 204, Loss: nan\n",
            "batch: 205, Loss: nan\n",
            "batch: 206, Loss: nan\n",
            "batch: 207, Loss: nan\n",
            "batch: 208, Loss: nan\n",
            "batch: 209, Loss: nan\n",
            "batch: 210, Loss: nan\n",
            "batch: 211, Loss: nan\n",
            "batch: 212, Loss: nan\n",
            "batch: 213, Loss: nan\n",
            "batch: 214, Loss: nan\n",
            "batch: 215, Loss: nan\n",
            "batch: 216, Loss: nan\n",
            "batch: 217, Loss: nan\n",
            "batch: 218, Loss: nan\n",
            "batch: 219, Loss: nan\n",
            "batch: 220, Loss: nan\n",
            "batch: 221, Loss: nan\n",
            "batch: 222, Loss: nan\n",
            "batch: 223, Loss: nan\n",
            "batch: 224, Loss: nan\n",
            "batch: 225, Loss: nan\n",
            "batch: 226, Loss: nan\n",
            "batch: 227, Loss: nan\n",
            "batch: 228, Loss: nan\n",
            "batch: 229, Loss: nan\n",
            "batch: 230, Loss: nan\n",
            "batch: 231, Loss: nan\n",
            "batch: 232, Loss: nan\n",
            "batch: 233, Loss: nan\n",
            "batch: 234, Loss: nan\n",
            "batch: 235, Loss: nan\n",
            "batch: 236, Loss: nan\n",
            "batch: 237, Loss: nan\n",
            "batch: 238, Loss: nan\n",
            "batch: 239, Loss: nan\n",
            "batch: 240, Loss: nan\n",
            "batch: 241, Loss: nan\n",
            "batch: 242, Loss: nan\n",
            "batch: 243, Loss: nan\n",
            "batch: 244, Loss: nan\n",
            "batch: 245, Loss: nan\n",
            "batch: 246, Loss: nan\n",
            "batch: 247, Loss: nan\n",
            "batch: 248, Loss: nan\n",
            "batch: 249, Loss: nan\n",
            "batch: 250, Loss: nan\n",
            "batch: 251, Loss: nan\n",
            "batch: 252, Loss: nan\n",
            "batch: 253, Loss: nan\n",
            "batch: 254, Loss: nan\n",
            "batch: 255, Loss: nan\n",
            "batch: 256, Loss: nan\n",
            "batch: 257, Loss: nan\n",
            "batch: 258, Loss: nan\n",
            "batch: 259, Loss: nan\n",
            "batch: 260, Loss: nan\n",
            "batch: 261, Loss: nan\n",
            "batch: 262, Loss: nan\n",
            "batch: 263, Loss: nan\n",
            "batch: 264, Loss: nan\n",
            "batch: 265, Loss: nan\n",
            "batch: 266, Loss: nan\n",
            "batch: 267, Loss: nan\n",
            "batch: 268, Loss: nan\n",
            "batch: 269, Loss: nan\n",
            "batch: 270, Loss: nan\n",
            "batch: 271, Loss: nan\n",
            "batch: 272, Loss: nan\n",
            "batch: 273, Loss: nan\n",
            "batch: 274, Loss: nan\n",
            "batch: 275, Loss: nan\n",
            "batch: 276, Loss: nan\n",
            "batch: 277, Loss: nan\n",
            "batch: 278, Loss: nan\n",
            "batch: 279, Loss: nan\n",
            "batch: 280, Loss: nan\n",
            "batch: 281, Loss: nan\n",
            "batch: 282, Loss: nan\n",
            "batch: 283, Loss: nan\n",
            "batch: 284, Loss: nan\n",
            "batch: 285, Loss: nan\n",
            "batch: 286, Loss: nan\n",
            "batch: 287, Loss: nan\n",
            "batch: 288, Loss: nan\n",
            "batch: 289, Loss: nan\n",
            "batch: 290, Loss: nan\n",
            "batch: 291, Loss: nan\n",
            "batch: 292, Loss: nan\n",
            "batch: 293, Loss: nan\n",
            "batch: 294, Loss: nan\n",
            "batch: 295, Loss: nan\n",
            "batch: 296, Loss: nan\n",
            "batch: 297, Loss: nan\n",
            "batch: 298, Loss: nan\n",
            "batch: 299, Loss: nan\n",
            "batch: 300, Loss: nan\n",
            "batch: 301, Loss: nan\n",
            "batch: 302, Loss: nan\n",
            "batch: 303, Loss: nan\n",
            "batch: 304, Loss: nan\n",
            "batch: 305, Loss: nan\n",
            "batch: 306, Loss: nan\n",
            "batch: 307, Loss: nan\n",
            "batch: 308, Loss: nan\n",
            "batch: 309, Loss: nan\n",
            "batch: 310, Loss: nan\n",
            "batch: 311, Loss: nan\n",
            "batch: 312, Loss: nan\n",
            "batch: 313, Loss: nan\n",
            "batch: 314, Loss: nan\n",
            "batch: 315, Loss: nan\n",
            "batch: 316, Loss: nan\n",
            "batch: 317, Loss: nan\n",
            "batch: 318, Loss: nan\n",
            "batch: 319, Loss: nan\n",
            "batch: 320, Loss: nan\n",
            "batch: 321, Loss: nan\n",
            "batch: 322, Loss: nan\n",
            "batch: 323, Loss: nan\n",
            "batch: 324, Loss: nan\n",
            "batch: 325, Loss: nan\n",
            "batch: 326, Loss: nan\n",
            "batch: 327, Loss: nan\n",
            "batch: 328, Loss: nan\n",
            "batch: 329, Loss: nan\n",
            "batch: 330, Loss: nan\n",
            "batch: 331, Loss: nan\n",
            "batch: 332, Loss: nan\n",
            "batch: 333, Loss: nan\n",
            "batch: 334, Loss: nan\n",
            "batch: 335, Loss: nan\n",
            "batch: 336, Loss: nan\n",
            "batch: 337, Loss: nan\n",
            "batch: 338, Loss: nan\n",
            "batch: 339, Loss: nan\n",
            "batch: 340, Loss: nan\n",
            "batch: 341, Loss: nan\n",
            "batch: 342, Loss: nan\n",
            "batch: 343, Loss: nan\n",
            "batch: 344, Loss: nan\n",
            "batch: 345, Loss: nan\n",
            "batch: 346, Loss: nan\n",
            "batch: 347, Loss: nan\n",
            "batch: 348, Loss: nan\n",
            "batch: 349, Loss: nan\n",
            "batch: 350, Loss: nan\n",
            "batch: 351, Loss: nan\n",
            "batch: 352, Loss: nan\n",
            "batch: 353, Loss: nan\n",
            "batch: 354, Loss: nan\n",
            "batch: 355, Loss: nan\n",
            "batch: 356, Loss: nan\n",
            "batch: 357, Loss: nan\n",
            "batch: 358, Loss: nan\n",
            "batch: 359, Loss: nan\n",
            "batch: 360, Loss: nan\n",
            "batch: 361, Loss: nan\n",
            "batch: 362, Loss: nan\n",
            "batch: 363, Loss: nan\n",
            "batch: 364, Loss: nan\n",
            "batch: 365, Loss: nan\n",
            "batch: 366, Loss: nan\n",
            "batch: 367, Loss: nan\n",
            "batch: 368, Loss: nan\n",
            "batch: 369, Loss: nan\n",
            "batch: 370, Loss: nan\n",
            "batch: 371, Loss: nan\n",
            "batch: 372, Loss: nan\n",
            "batch: 373, Loss: nan\n",
            "batch: 374, Loss: nan\n",
            "batch: 375, Loss: nan\n",
            "batch: 376, Loss: nan\n",
            "batch: 377, Loss: nan\n",
            "batch: 378, Loss: nan\n",
            "batch: 379, Loss: nan\n",
            "batch: 380, Loss: nan\n",
            "batch: 381, Loss: nan\n",
            "batch: 382, Loss: nan\n",
            "batch: 383, Loss: nan\n",
            "batch: 384, Loss: nan\n",
            "batch: 385, Loss: nan\n",
            "batch: 386, Loss: nan\n"
          ]
        },
        {
          "ename": "KeyboardInterrupt",
          "evalue": "",
          "output_type": "error",
          "traceback": [
            "\u001b[0;31m---------------------------------------------------------------------------\u001b[0m",
            "\u001b[0;31mKeyboardInterrupt\u001b[0m                         Traceback (most recent call last)",
            "\u001b[0;32m<ipython-input-32-b70a66c75580>\u001b[0m in \u001b[0;36m<cell line: 11>\u001b[0;34m()\u001b[0m\n\u001b[1;32m     15\u001b[0m         \u001b[0msrc_batch\u001b[0m\u001b[0;34m,\u001b[0m \u001b[0mtgt_batch\u001b[0m \u001b[0;34m=\u001b[0m \u001b[0mbatch\u001b[0m\u001b[0;34m\u001b[0m\u001b[0;34m\u001b[0m\u001b[0m\n\u001b[1;32m     16\u001b[0m         \u001b[0moptimizer\u001b[0m\u001b[0;34m.\u001b[0m\u001b[0mzero_grad\u001b[0m\u001b[0;34m(\u001b[0m\u001b[0;34m)\u001b[0m\u001b[0;34m\u001b[0m\u001b[0;34m\u001b[0m\u001b[0m\n\u001b[0;32m---> 17\u001b[0;31m         \u001b[0moutput\u001b[0m \u001b[0;34m=\u001b[0m \u001b[0mtransformer\u001b[0m\u001b[0;34m(\u001b[0m\u001b[0msrc_batch\u001b[0m\u001b[0;34m,\u001b[0m \u001b[0mtgt_batch\u001b[0m\u001b[0;34m[\u001b[0m\u001b[0;34m:\u001b[0m\u001b[0;34m,\u001b[0m \u001b[0;34m:\u001b[0m\u001b[0;34m-\u001b[0m\u001b[0;36m1\u001b[0m\u001b[0;34m]\u001b[0m\u001b[0;34m)\u001b[0m\u001b[0;34m\u001b[0m\u001b[0;34m\u001b[0m\u001b[0m\n\u001b[0m\u001b[1;32m     18\u001b[0m         \u001b[0mloss\u001b[0m \u001b[0;34m=\u001b[0m \u001b[0mcriterion\u001b[0m\u001b[0;34m(\u001b[0m\u001b[0moutput\u001b[0m\u001b[0;34m.\u001b[0m\u001b[0mcontiguous\u001b[0m\u001b[0;34m(\u001b[0m\u001b[0;34m)\u001b[0m\u001b[0;34m.\u001b[0m\u001b[0mview\u001b[0m\u001b[0;34m(\u001b[0m\u001b[0;34m-\u001b[0m\u001b[0;36m1\u001b[0m\u001b[0;34m,\u001b[0m \u001b[0mtgt_vocab_size\u001b[0m\u001b[0;34m)\u001b[0m\u001b[0;34m,\u001b[0m \u001b[0mtgt_batch\u001b[0m\u001b[0;34m[\u001b[0m\u001b[0;34m:\u001b[0m\u001b[0;34m,\u001b[0m \u001b[0;36m1\u001b[0m\u001b[0;34m:\u001b[0m\u001b[0;34m]\u001b[0m\u001b[0;34m.\u001b[0m\u001b[0mcontiguous\u001b[0m\u001b[0;34m(\u001b[0m\u001b[0;34m)\u001b[0m\u001b[0;34m.\u001b[0m\u001b[0mview\u001b[0m\u001b[0;34m(\u001b[0m\u001b[0;34m-\u001b[0m\u001b[0;36m1\u001b[0m\u001b[0;34m)\u001b[0m\u001b[0;34m)\u001b[0m\u001b[0;34m\u001b[0m\u001b[0;34m\u001b[0m\u001b[0m\n\u001b[1;32m     19\u001b[0m         \u001b[0mloss\u001b[0m\u001b[0;34m.\u001b[0m\u001b[0mbackward\u001b[0m\u001b[0;34m(\u001b[0m\u001b[0;34m)\u001b[0m\u001b[0;34m\u001b[0m\u001b[0;34m\u001b[0m\u001b[0m\n",
            "\u001b[0;32m/usr/local/lib/python3.10/dist-packages/torch/nn/modules/module.py\u001b[0m in \u001b[0;36m_wrapped_call_impl\u001b[0;34m(self, *args, **kwargs)\u001b[0m\n\u001b[1;32m   1530\u001b[0m             \u001b[0;32mreturn\u001b[0m \u001b[0mself\u001b[0m\u001b[0;34m.\u001b[0m\u001b[0m_compiled_call_impl\u001b[0m\u001b[0;34m(\u001b[0m\u001b[0;34m*\u001b[0m\u001b[0margs\u001b[0m\u001b[0;34m,\u001b[0m \u001b[0;34m**\u001b[0m\u001b[0mkwargs\u001b[0m\u001b[0;34m)\u001b[0m  \u001b[0;31m# type: ignore[misc]\u001b[0m\u001b[0;34m\u001b[0m\u001b[0;34m\u001b[0m\u001b[0m\n\u001b[1;32m   1531\u001b[0m         \u001b[0;32melse\u001b[0m\u001b[0;34m:\u001b[0m\u001b[0;34m\u001b[0m\u001b[0;34m\u001b[0m\u001b[0m\n\u001b[0;32m-> 1532\u001b[0;31m             \u001b[0;32mreturn\u001b[0m \u001b[0mself\u001b[0m\u001b[0;34m.\u001b[0m\u001b[0m_call_impl\u001b[0m\u001b[0;34m(\u001b[0m\u001b[0;34m*\u001b[0m\u001b[0margs\u001b[0m\u001b[0;34m,\u001b[0m \u001b[0;34m**\u001b[0m\u001b[0mkwargs\u001b[0m\u001b[0;34m)\u001b[0m\u001b[0;34m\u001b[0m\u001b[0;34m\u001b[0m\u001b[0m\n\u001b[0m\u001b[1;32m   1533\u001b[0m \u001b[0;34m\u001b[0m\u001b[0m\n\u001b[1;32m   1534\u001b[0m     \u001b[0;32mdef\u001b[0m \u001b[0m_call_impl\u001b[0m\u001b[0;34m(\u001b[0m\u001b[0mself\u001b[0m\u001b[0;34m,\u001b[0m \u001b[0;34m*\u001b[0m\u001b[0margs\u001b[0m\u001b[0;34m,\u001b[0m \u001b[0;34m**\u001b[0m\u001b[0mkwargs\u001b[0m\u001b[0;34m)\u001b[0m\u001b[0;34m:\u001b[0m\u001b[0;34m\u001b[0m\u001b[0;34m\u001b[0m\u001b[0m\n",
            "\u001b[0;32m/usr/local/lib/python3.10/dist-packages/torch/nn/modules/module.py\u001b[0m in \u001b[0;36m_call_impl\u001b[0;34m(self, *args, **kwargs)\u001b[0m\n\u001b[1;32m   1539\u001b[0m                 \u001b[0;32mor\u001b[0m \u001b[0m_global_backward_pre_hooks\u001b[0m \u001b[0;32mor\u001b[0m \u001b[0m_global_backward_hooks\u001b[0m\u001b[0;34m\u001b[0m\u001b[0;34m\u001b[0m\u001b[0m\n\u001b[1;32m   1540\u001b[0m                 or _global_forward_hooks or _global_forward_pre_hooks):\n\u001b[0;32m-> 1541\u001b[0;31m             \u001b[0;32mreturn\u001b[0m \u001b[0mforward_call\u001b[0m\u001b[0;34m(\u001b[0m\u001b[0;34m*\u001b[0m\u001b[0margs\u001b[0m\u001b[0;34m,\u001b[0m \u001b[0;34m**\u001b[0m\u001b[0mkwargs\u001b[0m\u001b[0;34m)\u001b[0m\u001b[0;34m\u001b[0m\u001b[0;34m\u001b[0m\u001b[0m\n\u001b[0m\u001b[1;32m   1542\u001b[0m \u001b[0;34m\u001b[0m\u001b[0m\n\u001b[1;32m   1543\u001b[0m         \u001b[0;32mtry\u001b[0m\u001b[0;34m:\u001b[0m\u001b[0;34m\u001b[0m\u001b[0;34m\u001b[0m\u001b[0m\n",
            "\u001b[0;32m<ipython-input-25-1f8d9d0c2903>\u001b[0m in \u001b[0;36mforward\u001b[0;34m(self, src, tgt)\u001b[0m\n\u001b[1;32m     34\u001b[0m             \u001b[0mdec_output\u001b[0m \u001b[0;34m=\u001b[0m \u001b[0mdec_layer\u001b[0m\u001b[0;34m(\u001b[0m\u001b[0mdec_output\u001b[0m\u001b[0;34m,\u001b[0m \u001b[0menc_output\u001b[0m\u001b[0;34m,\u001b[0m \u001b[0msrc_mask\u001b[0m\u001b[0;34m,\u001b[0m \u001b[0mtgt_mask\u001b[0m\u001b[0;34m)\u001b[0m\u001b[0;34m\u001b[0m\u001b[0;34m\u001b[0m\u001b[0m\n\u001b[1;32m     35\u001b[0m \u001b[0;34m\u001b[0m\u001b[0m\n\u001b[0;32m---> 36\u001b[0;31m         \u001b[0moutput\u001b[0m \u001b[0;34m=\u001b[0m \u001b[0mself\u001b[0m\u001b[0;34m.\u001b[0m\u001b[0mfc\u001b[0m\u001b[0;34m(\u001b[0m\u001b[0mdec_output\u001b[0m\u001b[0;34m)\u001b[0m\u001b[0;34m\u001b[0m\u001b[0;34m\u001b[0m\u001b[0m\n\u001b[0m\u001b[1;32m     37\u001b[0m         \u001b[0;32mreturn\u001b[0m \u001b[0moutput\u001b[0m\u001b[0;34m\u001b[0m\u001b[0;34m\u001b[0m\u001b[0m\n",
            "\u001b[0;32m/usr/local/lib/python3.10/dist-packages/torch/nn/modules/module.py\u001b[0m in \u001b[0;36m_wrapped_call_impl\u001b[0;34m(self, *args, **kwargs)\u001b[0m\n\u001b[1;32m   1530\u001b[0m             \u001b[0;32mreturn\u001b[0m \u001b[0mself\u001b[0m\u001b[0;34m.\u001b[0m\u001b[0m_compiled_call_impl\u001b[0m\u001b[0;34m(\u001b[0m\u001b[0;34m*\u001b[0m\u001b[0margs\u001b[0m\u001b[0;34m,\u001b[0m \u001b[0;34m**\u001b[0m\u001b[0mkwargs\u001b[0m\u001b[0;34m)\u001b[0m  \u001b[0;31m# type: ignore[misc]\u001b[0m\u001b[0;34m\u001b[0m\u001b[0;34m\u001b[0m\u001b[0m\n\u001b[1;32m   1531\u001b[0m         \u001b[0;32melse\u001b[0m\u001b[0;34m:\u001b[0m\u001b[0;34m\u001b[0m\u001b[0;34m\u001b[0m\u001b[0m\n\u001b[0;32m-> 1532\u001b[0;31m             \u001b[0;32mreturn\u001b[0m \u001b[0mself\u001b[0m\u001b[0;34m.\u001b[0m\u001b[0m_call_impl\u001b[0m\u001b[0;34m(\u001b[0m\u001b[0;34m*\u001b[0m\u001b[0margs\u001b[0m\u001b[0;34m,\u001b[0m \u001b[0;34m**\u001b[0m\u001b[0mkwargs\u001b[0m\u001b[0;34m)\u001b[0m\u001b[0;34m\u001b[0m\u001b[0;34m\u001b[0m\u001b[0m\n\u001b[0m\u001b[1;32m   1533\u001b[0m \u001b[0;34m\u001b[0m\u001b[0m\n\u001b[1;32m   1534\u001b[0m     \u001b[0;32mdef\u001b[0m \u001b[0m_call_impl\u001b[0m\u001b[0;34m(\u001b[0m\u001b[0mself\u001b[0m\u001b[0;34m,\u001b[0m \u001b[0;34m*\u001b[0m\u001b[0margs\u001b[0m\u001b[0;34m,\u001b[0m \u001b[0;34m**\u001b[0m\u001b[0mkwargs\u001b[0m\u001b[0;34m)\u001b[0m\u001b[0;34m:\u001b[0m\u001b[0;34m\u001b[0m\u001b[0;34m\u001b[0m\u001b[0m\n",
            "\u001b[0;32m/usr/local/lib/python3.10/dist-packages/torch/nn/modules/module.py\u001b[0m in \u001b[0;36m_call_impl\u001b[0;34m(self, *args, **kwargs)\u001b[0m\n\u001b[1;32m   1539\u001b[0m                 \u001b[0;32mor\u001b[0m \u001b[0m_global_backward_pre_hooks\u001b[0m \u001b[0;32mor\u001b[0m \u001b[0m_global_backward_hooks\u001b[0m\u001b[0;34m\u001b[0m\u001b[0;34m\u001b[0m\u001b[0m\n\u001b[1;32m   1540\u001b[0m                 or _global_forward_hooks or _global_forward_pre_hooks):\n\u001b[0;32m-> 1541\u001b[0;31m             \u001b[0;32mreturn\u001b[0m \u001b[0mforward_call\u001b[0m\u001b[0;34m(\u001b[0m\u001b[0;34m*\u001b[0m\u001b[0margs\u001b[0m\u001b[0;34m,\u001b[0m \u001b[0;34m**\u001b[0m\u001b[0mkwargs\u001b[0m\u001b[0;34m)\u001b[0m\u001b[0;34m\u001b[0m\u001b[0;34m\u001b[0m\u001b[0m\n\u001b[0m\u001b[1;32m   1542\u001b[0m \u001b[0;34m\u001b[0m\u001b[0m\n\u001b[1;32m   1543\u001b[0m         \u001b[0;32mtry\u001b[0m\u001b[0;34m:\u001b[0m\u001b[0;34m\u001b[0m\u001b[0;34m\u001b[0m\u001b[0m\n",
            "\u001b[0;32m/usr/local/lib/python3.10/dist-packages/torch/nn/modules/linear.py\u001b[0m in \u001b[0;36mforward\u001b[0;34m(self, input)\u001b[0m\n\u001b[1;32m    114\u001b[0m \u001b[0;34m\u001b[0m\u001b[0m\n\u001b[1;32m    115\u001b[0m     \u001b[0;32mdef\u001b[0m \u001b[0mforward\u001b[0m\u001b[0;34m(\u001b[0m\u001b[0mself\u001b[0m\u001b[0;34m,\u001b[0m \u001b[0minput\u001b[0m\u001b[0;34m:\u001b[0m \u001b[0mTensor\u001b[0m\u001b[0;34m)\u001b[0m \u001b[0;34m->\u001b[0m \u001b[0mTensor\u001b[0m\u001b[0;34m:\u001b[0m\u001b[0;34m\u001b[0m\u001b[0;34m\u001b[0m\u001b[0m\n\u001b[0;32m--> 116\u001b[0;31m         \u001b[0;32mreturn\u001b[0m \u001b[0mF\u001b[0m\u001b[0;34m.\u001b[0m\u001b[0mlinear\u001b[0m\u001b[0;34m(\u001b[0m\u001b[0minput\u001b[0m\u001b[0;34m,\u001b[0m \u001b[0mself\u001b[0m\u001b[0;34m.\u001b[0m\u001b[0mweight\u001b[0m\u001b[0;34m,\u001b[0m \u001b[0mself\u001b[0m\u001b[0;34m.\u001b[0m\u001b[0mbias\u001b[0m\u001b[0;34m)\u001b[0m\u001b[0;34m\u001b[0m\u001b[0;34m\u001b[0m\u001b[0m\n\u001b[0m\u001b[1;32m    117\u001b[0m \u001b[0;34m\u001b[0m\u001b[0m\n\u001b[1;32m    118\u001b[0m     \u001b[0;32mdef\u001b[0m \u001b[0mextra_repr\u001b[0m\u001b[0;34m(\u001b[0m\u001b[0mself\u001b[0m\u001b[0;34m)\u001b[0m \u001b[0;34m->\u001b[0m \u001b[0mstr\u001b[0m\u001b[0;34m:\u001b[0m\u001b[0;34m\u001b[0m\u001b[0;34m\u001b[0m\u001b[0m\n",
            "\u001b[0;31mKeyboardInterrupt\u001b[0m: "
          ]
        }
      ],
      "source": [
        "# Create TensorDataset and DataLoader\n",
        "dataset = TensorDataset(src_data, tgt_data)\n",
        "dataloader = DataLoader(dataset, batch_size=batch_size, shuffle=True)\n",
        "\n",
        "# Define loss and optimizer\n",
        "criterion = nn.CrossEntropyLoss(ignore_index=0)\n",
        "optimizer = optim.Adam(transformer.parameters(), lr=0.0001, betas=(0.9, 0.98), eps=1e-9)\n",
        "\n",
        "transformer.train()\n",
        "\n",
        "for epoch in range(5):\n",
        "    epoch_loss = 0\n",
        "    batch_index = 0\n",
        "    for batch in dataloader:\n",
        "        src_batch, tgt_batch = batch\n",
        "        optimizer.zero_grad()\n",
        "        output = transformer(src_batch, tgt_batch[:, :-1])\n",
        "        loss = criterion(output.contiguous().view(-1, tgt_vocab_size), tgt_batch[:, 1:].contiguous().view(-1))\n",
        "        loss.backward()\n",
        "        optimizer.step()\n",
        "        batch_index = batch_index + 1\n",
        "        print(f\"batch: {batch_index}, Loss: {loss.item()}\")\n",
        "        epoch_loss += loss.item()\n",
        "    print(f\"Epoch: {epoch+1}, Loss: {epoch_loss / len(dataloader)}\")"
      ]
    },
    {
      "cell_type": "markdown",
      "metadata": {
        "id": "PbNWnByDHnLI"
      },
      "source": [
        "## Transformer Model Performance Evaluation"
      ]
    },
    {
      "cell_type": "code",
      "execution_count": null,
      "metadata": {
        "id": "rKFxcZkiHqXf"
      },
      "outputs": [],
      "source": [
        "transformer.eval()\n",
        "\n",
        "# Generate random sample validation data\n",
        "val_src_data = torch.tensor(X_dev)#torch.randint(1, src_vocab_size, (64, max_seq_length))  # (batch_size, seq_length)\n",
        "val_tgt_data = torch.tensor(y_dev)#torch.randint(1, tgt_vocab_size, (64, max_seq_length))  # (batch_size, seq_length)\n",
        "\n",
        "with torch.no_grad():\n",
        "\n",
        "    val_output = transformer(val_src_data, val_tgt_data[:, :-1])\n",
        "    val_loss = criterion(val_output.contiguous().view(-1, tgt_vocab_size), val_tgt_data[:, 1:].contiguous().view(-1))\n",
        "    print(f\"Validation Loss: {val_loss.item()}\")"
      ]
    },
    {
      "cell_type": "code",
      "execution_count": null,
      "metadata": {
        "colab": {
          "base_uri": "https://localhost:8080/"
        },
        "id": "pJks_WeWII0l",
        "outputId": "6b82bd52-f654-41d9-9f9c-05191e779b8e"
      },
      "outputs": [
        {
          "name": "stdout",
          "output_type": "stream",
          "text": [
            "Epoch 1/5\n",
            "\u001b[1m1370/1370\u001b[0m \u001b[32m━━━━━━━━━━━━━━━━━━━━\u001b[0m\u001b[37m\u001b[0m \u001b[1m457s\u001b[0m 330ms/step - accuracy: 0.6172 - loss: -4013469.7500 - val_accuracy: 0.6208 - val_loss: -58465372.0000\n",
            "Epoch 2/5\n",
            "\u001b[1m1370/1370\u001b[0m \u001b[32m━━━━━━━━━━━━━━━━━━━━\u001b[0m\u001b[37m\u001b[0m \u001b[1m470s\u001b[0m 343ms/step - accuracy: 0.6239 - loss: -116046816.0000 - val_accuracy: 0.6208 - val_loss: -383591648.0000\n",
            "Epoch 3/5\n",
            "\u001b[1m1370/1370\u001b[0m \u001b[32m━━━━━━━━━━━━━━━━━━━━\u001b[0m\u001b[37m\u001b[0m \u001b[1m472s\u001b[0m 344ms/step - accuracy: 0.6244 - loss: -528178560.0000 - val_accuracy: 0.6208 - val_loss: -1082469120.0000\n",
            "Epoch 4/5\n",
            "\u001b[1m1370/1370\u001b[0m \u001b[32m━━━━━━━━━━━━━━━━━━━━\u001b[0m\u001b[37m\u001b[0m \u001b[1m452s\u001b[0m 330ms/step - accuracy: 0.6247 - loss: -1333510528.0000 - val_accuracy: 0.6208 - val_loss: -2220331520.0000\n",
            "Epoch 5/5\n",
            "\u001b[1m1370/1370\u001b[0m \u001b[32m━━━━━━━━━━━━━━━━━━━━\u001b[0m\u001b[37m\u001b[0m \u001b[1m493s\u001b[0m 324ms/step - accuracy: 0.6244 - loss: -2574133760.0000 - val_accuracy: 0.6208 - val_loss: -3854596096.0000\n"
          ]
        }
      ],
      "source": [
        "# Train the model\n",
        "history = transformer_model.fit(\n",
        "    X_train,  # Inputs: just question sequences\n",
        "    y_train,  # Target variable\n",
        "    epochs=5,\n",
        "    batch_size=64,\n",
        "    validation_data=(X_dev, y_dev)\n",
        ")"
      ]
    },
    {
      "cell_type": "markdown",
      "metadata": {
        "id": "LbueiGaUV8Kb"
      },
      "source": [
        "## Evaluate the Model"
      ]
    },
    {
      "cell_type": "code",
      "execution_count": null,
      "metadata": {
        "colab": {
          "base_uri": "https://localhost:8080/"
        },
        "id": "PzUH8_48V2in",
        "outputId": "24fb745f-4c72-4cef-e93c-b13f3d8b4001"
      },
      "outputs": [
        {
          "name": "stdout",
          "output_type": "stream",
          "text": [
            "\u001b[1m170/170\u001b[0m \u001b[32m━━━━━━━━━━━━━━━━━━━━\u001b[0m\u001b[37m\u001b[0m \u001b[1m16s\u001b[0m 96ms/step - accuracy: 1.0000 - loss: 1867179.0000\n",
            "Test Loss: 1867178.7500\n",
            "Test Accuracy: 1.0000\n"
          ]
        }
      ],
      "source": [
        "loss, accuracy = transformer_model.evaluate(X_test, y_test, batch_size=64)\n",
        "\n",
        "print(f\"Test Loss: {loss:.4f}\")\n",
        "print(f\"Test Accuracy: {accuracy:.4f}\")"
      ]
    },
    {
      "cell_type": "markdown",
      "metadata": {
        "id": "2AtORXVDBV08"
      },
      "source": [
        "## Save the Model"
      ]
    },
    {
      "cell_type": "code",
      "execution_count": null,
      "metadata": {
        "colab": {
          "base_uri": "https://localhost:8080/"
        },
        "id": "h0CNmbUqBVcB",
        "outputId": "48af5ecc-e2c8-4cc8-8d77-1569a334a216"
      },
      "outputs": [
        {
          "name": "stderr",
          "output_type": "stream",
          "text": [
            "WARNING:absl:You are saving your model as an HDF5 file via `model.save()` or `keras.saving.save_model(model)`. This file format is considered legacy. We recommend using instead the native Keras format, e.g. `model.save('my_model.keras')` or `keras.saving.save_model(model, 'my_model.keras')`. \n"
          ]
        }
      ],
      "source": [
        "# Save the entire model to a file\n",
        "transformer_model.save(path_base + 'qa_transformer_model.h5')\n",
        "# Save the history to a file\n",
        "with open(path_base + 'training_transformer_history.pkl', 'wb') as file:\n",
        "    pickle.dump(history.history, file)"
      ]
    },
    {
      "cell_type": "code",
      "execution_count": null,
      "metadata": {
        "colab": {
          "base_uri": "https://localhost:8080/"
        },
        "id": "ZqZDlioc3Cu3",
        "outputId": "69375a9c-3f1d-43f7-e1e6-23b93214e573"
      },
      "outputs": [
        {
          "name": "stdout",
          "output_type": "stream",
          "text": [
            "{'loss': [64933.37890625, 57607.36328125, 55986.765625, 54805.75390625, 52434.03515625], 'accuracy': [0.0001036615576595068, 0.0001036615576595068, 0.0001036615576595068, 0.0001036615576595068, 0.0001036615576595068], 'val_loss': [70543.8125, 70662.34375, 70562.7421875, 70988.0234375, 70563.4453125], 'val_accuracy': [0.0, 0.0, 0.0, 0.0, 0.0]}\n"
          ]
        }
      ],
      "source": [
        "from tensorflow.keras.models import load_model\n",
        "# Load the model from the file\n",
        "transformer_model = load_model(base_address_file + 'qa_transformer_model.h5')\n",
        "\n",
        "# Load the training history from the file\n",
        "with open(base_address_file + 'training_transformer_history.pkl', 'rb') as file:\n",
        "    history_transformer = pickle.load(file)\n",
        "\n",
        "# If you want to access history data\n",
        "print(history_transformer)"
      ]
    },
    {
      "cell_type": "markdown",
      "metadata": {
        "id": "NRmtM4aACTRE"
      },
      "source": [
        "# بررسی دو مدل با معیار های ارزیابی"
      ]
    },
    {
      "cell_type": "markdown",
      "metadata": {
        "id": "67hcQqXACnSE"
      },
      "source": [
        "## Define Evaluation Functions"
      ]
    },
    {
      "cell_type": "markdown",
      "metadata": {
        "id": "SN0-x5KUDAaM"
      },
      "source": [
        "## Evaluate the LSTM Model"
      ]
    },
    {
      "cell_type": "code",
      "execution_count": null,
      "metadata": {
        "id": "5DJfy7EsfIVB"
      },
      "outputs": [],
      "source": [
        "import numpy as np\n",
        "from tensorflow.keras.preprocessing.sequence import pad_sequences\n",
        "\n",
        "def generate_predictions(model, x_test, tokenizer, batch_size=32, max_question_length=100):\n",
        "    predictions = []\n",
        "\n",
        "    num_samples = len(x_test)\n",
        "\n",
        "    for start_idx in range(0, num_samples, batch_size):\n",
        "        end_idx = min(start_idx + batch_size, num_samples)\n",
        "        batch_questions = np.array(x_test[start_idx:end_idx])\n",
        "\n",
        "        # Predict the output for the batch\n",
        "        batch_pred_logits = model.predict(batch_questions, batch_size=batch_size)\n",
        "\n",
        "        for i in range(len(batch_questions)):\n",
        "            pred_answer_tokens = np.argmax(batch_pred_logits[i], axis=-1)  # Get the predicted token indices\n",
        "            pred_answer = tokenizer.sequences_to_texts([[pred_answer_tokens]])[0]  # Convert indices to text\n",
        "            predictions.append(pred_answer)\n",
        "\n",
        "    return predictions\n",
        "\n",
        "\n"
      ]
    },
    {
      "cell_type": "code",
      "execution_count": null,
      "metadata": {
        "id": "UGCk9XBsk7Iv"
      },
      "outputs": [],
      "source": [
        "# Function to evaluate the model\n",
        "def evaluate_model(model, df_dev, tokenizer):\n",
        "    exact_matches = []\n",
        "    f1_scores = []\n",
        "\n",
        "    for i, row in df_dev.iterrows():\n",
        "        question = row['question']\n",
        "        true_answer = row['answer_text']\n",
        "\n",
        "        # Tokenize inputs\n",
        "        inputs = tokenizer(\n",
        "\n",
        "            question,\n",
        "            truncation='only_first',\n",
        "            padding='max_length',\n",
        "            max_length=512,\n",
        "            return_tensors='tf'\n",
        "        )\n",
        "\n",
        "        input_ids = inputs['input_ids']\n",
        "        attention_mask = inputs['attention_mask']\n",
        "        token_type_ids = inputs['token_type_ids']\n",
        "\n",
        "        # Predict the start position of the answer\n",
        "        start_logits = model.predict([input_ids, attention_mask, token_type_ids])[0]\n",
        "        start_index = np.argmax(start_logits)\n",
        "\n",
        "        # Decode the predicted answer\n",
        "        pred_answer = tokenizer.decode(input_ids[0][start_index:start_index+10], skip_special_tokens=True)\n",
        "\n",
        "        # Calculate metrics\n",
        "        exact_matches.append(exact_match(pred_answer, true_answer))\n",
        "        f1_scores.append(f1_score_metric(pred_answer, true_answer))\n",
        "\n",
        "    em_score = np.mean(exact_matches)\n",
        "    f1_score_avg = np.mean(f1_scores)\n",
        "\n",
        "    return em_score, f1_score_avg"
      ]
    },
    {
      "cell_type": "code",
      "execution_count": null,
      "metadata": {
        "colab": {
          "base_uri": "https://localhost:8080/"
        },
        "id": "iHEnMIcilBSd",
        "outputId": "631352a0-a074-4481-bb7e-dbfc7c593282"
      },
      "outputs": [
        {
          "data": {
            "text/plain": [
              "<Functional name=functional_1, built=True>"
            ]
          },
          "execution_count": 207,
          "metadata": {},
          "output_type": "execute_result"
        }
      ],
      "source": [
        "lstm_model"
      ]
    },
    {
      "cell_type": "code",
      "execution_count": null,
      "metadata": {
        "id": "7_bfbWufmI_0"
      },
      "outputs": [],
      "source": [
        "from sklearn.metrics import f1_score\n",
        "import numpy as np\n",
        "from nltk.tokenize import word_tokenize\n",
        "\n",
        "# Function to compute the Exact Match (EM) score\n",
        "def exact_match(pred, true):\n",
        "    return int(pred.strip() == true.strip())\n",
        "\n",
        "# Function to compute the F1 score\n",
        "def f1_score_metric(pred, true):\n",
        "    pred_tokens = word_tokenize(pred)\n",
        "    true_tokens = word_tokenize(true)\n",
        "    common = set(pred_tokens) & set(true_tokens)\n",
        "    if len(common) == 0:\n",
        "        return 0.0\n",
        "    precision = len(common) / len(pred_tokens)\n",
        "    recall = len(common) / len(true_tokens)\n",
        "    f1 = 2 * (precision * recall) / (precision + recall)\n",
        "    return f1\n",
        "\n",
        "# Function to evaluate the model\n",
        "def evaluate_model(model, X_dev, df_dev, tokenizer, max_answer_length):\n",
        "    exact_matches = []\n",
        "    f1_scores = []\n",
        "\n",
        "    # Predict the output for the dev set\n",
        "    start_preds = model.predict(X_dev)\n",
        "\n",
        "    for i, start_pred in enumerate(start_preds):\n",
        "        # Get the predicted start index for the answer\n",
        "        start_index_pred = np.argmax(start_pred)\n",
        "\n",
        "        # Get the predicted answer tokens (assuming max_answer_length for the length of answer)\n",
        "        pred_answer_tokens = X_dev[i, start_index_pred:start_index_pred+max_answer_length]\n",
        "\n",
        "        # Convert predicted token indices to text\n",
        "        pred_answer = tokenizer.sequences_to_texts([pred_answer_tokens])[0]\n",
        "\n",
        "        true_answer = df_dev.iloc[i]['answer']\n",
        "\n",
        "        # Calculate metrics\n",
        "        exact_matches.append(exact_match(pred_answer, true_answer))\n",
        "        f1_scores.append(f1_score_metric(pred_answer, true_answer))\n",
        "\n",
        "    em_score = np.mean(exact_matches)\n",
        "    f1_score_avg = np.mean(f1_scores)\n",
        "\n",
        "    return em_score, f1_score_avg\n",
        "\n"
      ]
    },
    {
      "cell_type": "code",
      "execution_count": null,
      "metadata": {
        "id": "nDT1dJ47n2EL"
      },
      "outputs": [],
      "source": [
        "# Convert dev data for LSTM model\n",
        "X_question_dev = np.array(df_dev['question_seq_padded'].tolist())\n",
        "\n",
        "# Define the maximum length of answers you expect to predict\n",
        "max_answer_length = 10  # This can be adjusted based on your data\n",
        "\n",
        "\n"
      ]
    },
    {
      "cell_type": "code",
      "execution_count": null,
      "metadata": {
        "colab": {
          "base_uri": "https://localhost:8080/"
        },
        "id": "dGuDQYNFn4Ny",
        "outputId": "a593b9ce-28aa-4900-b417-cab91cf71868"
      },
      "outputs": [
        {
          "name": "stdout",
          "output_type": "stream",
          "text": [
            "\u001b[1m354/354\u001b[0m \u001b[32m━━━━━━━━━━━━━━━━━━━━\u001b[0m\u001b[37m\u001b[0m \u001b[1m7s\u001b[0m 20ms/step\n",
            "LSTM Model - Exact Match (EM) Score: 0.0000\n",
            "LSTM Model - F1 Score: 0.0066\n"
          ]
        }
      ],
      "source": [
        "# Evaluate the LSTM model\n",
        "em_score_lstm, f1_score_avg_lstm = evaluate_model(lstm_model, X_question_dev, df_dev, tokenizer, max_answer_length)\n",
        "\n",
        "print(f'LSTM Model - Exact Match (EM) Score: {em_score_lstm:.4f}')\n",
        "print(f'LSTM Model - F1 Score: {f1_score_avg_lstm:.4f}')\n",
        "\n"
      ]
    },
    {
      "cell_type": "code",
      "execution_count": null,
      "metadata": {
        "colab": {
          "base_uri": "https://localhost:8080/"
        },
        "id": "gjccbtEpn5Zp",
        "outputId": "6557dcad-1e23-43ee-aa39-c1691833e49e"
      },
      "outputs": [
        {
          "name": "stdout",
          "output_type": "stream",
          "text": [
            "\u001b[1m354/354\u001b[0m \u001b[32m━━━━━━━━━━━━━━━━━━━━\u001b[0m\u001b[37m\u001b[0m \u001b[1m17s\u001b[0m 49ms/step\n",
            "Transformer Model - Exact Match (EM) Score: 0.0000\n",
            "Transformer Model - F1 Score: 0.0066\n"
          ]
        }
      ],
      "source": [
        "# Evaluate the Transformer model (if applicable)\n",
        "em_score_transformer, f1_score_avg_transformer = evaluate_model(transformer_model, X_question_dev, df_dev, tokenizer, max_answer_length)\n",
        "\n",
        "print(f'Transformer Model - Exact Match (EM) Score: {em_score_transformer:.4f}')\n",
        "print(f'Transformer Model - F1 Score: {f1_score_avg_transformer:.4f}')"
      ]
    },
    {
      "cell_type": "code",
      "execution_count": null,
      "metadata": {
        "id": "4qbfe9EwoBXU"
      },
      "outputs": [],
      "source": [
        "# Function to evaluate the model\n",
        "def render_answer(model, X_test, df_test, tokenizer, max_answer_length=10):\n",
        "\n",
        "    predictions = []\n",
        "\n",
        "    # Predict the output for the test set\n",
        "    start_preds = model.predict(X_test)\n",
        "\n",
        "    for i, start_pred in enumerate(start_preds):\n",
        "        # Get the predicted start index for the answer\n",
        "        start_index_pred = np.argmax(start_pred)\n",
        "\n",
        "        # Get the predicted answer tokens (assuming max_answer_length for the length of answer)\n",
        "        pred_answer_tokens = X_test[i, start_index_pred:start_index_pred+max_answer_length]\n",
        "\n",
        "        # Convert predicted token indices to text\n",
        "        pred_answer = tokenizer.sequences_to_texts([pred_answer_tokens])[0]\n",
        "\n",
        "        # Append the result\n",
        "        predictions.append(pred_answer)\n",
        "\n",
        "    # Create a new DataFrame with questions and their predicted answers\n",
        "    result_df = pd.DataFrame({\n",
        "        'question': df_test['question'],\n",
        "        'predicted_answer': predictions\n",
        "    })\n",
        "\n",
        "    return result_df"
      ]
    },
    {
      "cell_type": "code",
      "execution_count": null,
      "metadata": {
        "colab": {
          "base_uri": "https://localhost:8080/"
        },
        "id": "PRr7l5xVo7rS",
        "outputId": "cec19fd8-725f-42f8-8f26-18fab7c08ba2"
      },
      "outputs": [
        {
          "name": "stdout",
          "output_type": "stream",
          "text": [
            "\u001b[1m339/339\u001b[0m \u001b[32m━━━━━━━━━━━━━━━━━━━━\u001b[0m\u001b[37m\u001b[0m \u001b[1m8s\u001b[0m 22ms/step\n",
            "                                            question  \\\n",
            "0  Asmara international airport is in which country?   \n",
            "1  At whose concert were 11 people trampled to de...   \n",
            "2  Andy Warhol/'s 60s exhibition featured cans of...   \n",
            "3  In which decade of the 20th century was Al Pac...   \n",
            "4  San Giusto international airport is in which c...   \n",
            "\n",
            "                                    predicted_answer  \n",
            "0  asmara international airport is in which count...  \n",
            "1  at whose concert were 11 people trampled to de...  \n",
            "2  andy warhol/ 's 60s exhibition featured cans o...  \n",
            "3  in which decade of the 20th century was al pacino  \n",
            "4  san giusto international airport is in which c...  \n"
          ]
        }
      ],
      "source": [
        "# Convert dev data for LSTM model\n",
        "X_question_test = np.array(df_test['question_seq_padded'].tolist())\n",
        "\n",
        "predictions_df_lstm = render_answer(lstm_model, X_test, df_test, tokenizer, max_answer_length=10)\n",
        "print(predictions_df_lstm.head())\n"
      ]
    },
    {
      "cell_type": "code",
      "execution_count": null,
      "metadata": {
        "colab": {
          "base_uri": "https://localhost:8080/"
        },
        "id": "6MquqLJkpsKE",
        "outputId": "36854146-85e9-4ed2-8b1c-4a554512e881"
      },
      "outputs": [
        {
          "name": "stdout",
          "output_type": "stream",
          "text": [
            "\u001b[1m339/339\u001b[0m \u001b[32m━━━━━━━━━━━━━━━━━━━━\u001b[0m\u001b[37m\u001b[0m \u001b[1m7s\u001b[0m 21ms/step\n",
            "                                            question  \\\n",
            "0  Asmara international airport is in which country?   \n",
            "1  At whose concert were 11 people trampled to de...   \n",
            "2  Andy Warhol/'s 60s exhibition featured cans of...   \n",
            "3  In which decade of the 20th century was Al Pac...   \n",
            "4  San Giusto international airport is in which c...   \n",
            "\n",
            "                                    predicted_answer  \n",
            "0  asmara international airport is in which count...  \n",
            "1  at whose concert were 11 people trampled to de...  \n",
            "2  andy warhol/ 's 60s exhibition featured cans o...  \n",
            "3  in which decade of the 20th century was al pacino  \n",
            "4  san giusto international airport is in which c...  \n"
          ]
        }
      ],
      "source": [
        "\n",
        "predictions_df_transformer = render_answer(lstm_model, X_test, df_test, tokenizer, max_answer_length=10)\n",
        "print(predictions_df_transformer.head())"
      ]
    },
    {
      "cell_type": "code",
      "execution_count": null,
      "metadata": {
        "colab": {
          "base_uri": "https://localhost:8080/",
          "height": 245
        },
        "id": "VZL_S9N1qoiW",
        "outputId": "60faa97f-ed41-4fef-c74f-e932d7d340b4"
      },
      "outputs": [
        {
          "data": {
            "application/vnd.google.colaboratory.intrinsic+json": {
              "summary": "{\n  \"name\": \"predictions_df_transformer\",\n  \"rows\": 10832,\n  \"fields\": [\n    {\n      \"column\": \"question\",\n      \"properties\": {\n        \"dtype\": \"string\",\n        \"num_unique_values\": 10832,\n        \"samples\": [\n          \"Which explosive was nicknamed \\u2018The Devil\\u2019s Porridge\\u2019 by author Arthur Conan Doyle?\",\n          \"Brahma Breweries, now owned by Anheuser Busch InBev, is based in which country?\",\n          \"\\\"A \\\"\\\"howdah\\\"\\\" is used to ride what animal?\\\"\"\n        ],\n        \"semantic_type\": \"\",\n        \"description\": \"\"\n      }\n    },\n    {\n      \"column\": \"predicted_answer\",\n      \"properties\": {\n        \"dtype\": \"string\",\n        \"num_unique_values\": 10815,\n        \"samples\": [\n          \"what is the name of the utopia , where people\",\n          \"in which part of the body are the plantar nerves\",\n          \"`` in the tv series of p.g.wodehouse 's `` ''\"\n        ],\n        \"semantic_type\": \"\",\n        \"description\": \"\"\n      }\n    }\n  ]\n}",
              "type": "dataframe",
              "variable_name": "predictions_df_transformer"
            },
            "text/html": [
              "\n",
              "  <div id=\"df-e1ed7a49-4aab-42f0-a0d2-a10ac7736f4e\" class=\"colab-df-container\">\n",
              "    <div>\n",
              "<style scoped>\n",
              "    .dataframe tbody tr th:only-of-type {\n",
              "        vertical-align: middle;\n",
              "    }\n",
              "\n",
              "    .dataframe tbody tr th {\n",
              "        vertical-align: top;\n",
              "    }\n",
              "\n",
              "    .dataframe thead th {\n",
              "        text-align: right;\n",
              "    }\n",
              "</style>\n",
              "<table border=\"1\" class=\"dataframe\">\n",
              "  <thead>\n",
              "    <tr style=\"text-align: right;\">\n",
              "      <th></th>\n",
              "      <th>question</th>\n",
              "      <th>predicted_answer</th>\n",
              "    </tr>\n",
              "  </thead>\n",
              "  <tbody>\n",
              "    <tr>\n",
              "      <th>0</th>\n",
              "      <td>Asmara international airport is in which country?</td>\n",
              "      <td>asmara international airport is in which count...</td>\n",
              "    </tr>\n",
              "    <tr>\n",
              "      <th>1</th>\n",
              "      <td>At whose concert were 11 people trampled to de...</td>\n",
              "      <td>at whose concert were 11 people trampled to de...</td>\n",
              "    </tr>\n",
              "    <tr>\n",
              "      <th>2</th>\n",
              "      <td>Andy Warhol/'s 60s exhibition featured cans of...</td>\n",
              "      <td>andy warhol/ 's 60s exhibition featured cans o...</td>\n",
              "    </tr>\n",
              "    <tr>\n",
              "      <th>3</th>\n",
              "      <td>In which decade of the 20th century was Al Pac...</td>\n",
              "      <td>in which decade of the 20th century was al pacino</td>\n",
              "    </tr>\n",
              "    <tr>\n",
              "      <th>4</th>\n",
              "      <td>San Giusto international airport is in which c...</td>\n",
              "      <td>san giusto international airport is in which c...</td>\n",
              "    </tr>\n",
              "  </tbody>\n",
              "</table>\n",
              "</div>\n",
              "    <div class=\"colab-df-buttons\">\n",
              "\n",
              "  <div class=\"colab-df-container\">\n",
              "    <button class=\"colab-df-convert\" onclick=\"convertToInteractive('df-e1ed7a49-4aab-42f0-a0d2-a10ac7736f4e')\"\n",
              "            title=\"Convert this dataframe to an interactive table.\"\n",
              "            style=\"display:none;\">\n",
              "\n",
              "  <svg xmlns=\"http://www.w3.org/2000/svg\" height=\"24px\" viewBox=\"0 -960 960 960\">\n",
              "    <path d=\"M120-120v-720h720v720H120Zm60-500h600v-160H180v160Zm220 220h160v-160H400v160Zm0 220h160v-160H400v160ZM180-400h160v-160H180v160Zm440 0h160v-160H620v160ZM180-180h160v-160H180v160Zm440 0h160v-160H620v160Z\"/>\n",
              "  </svg>\n",
              "    </button>\n",
              "\n",
              "  <style>\n",
              "    .colab-df-container {\n",
              "      display:flex;\n",
              "      gap: 12px;\n",
              "    }\n",
              "\n",
              "    .colab-df-convert {\n",
              "      background-color: #E8F0FE;\n",
              "      border: none;\n",
              "      border-radius: 50%;\n",
              "      cursor: pointer;\n",
              "      display: none;\n",
              "      fill: #1967D2;\n",
              "      height: 32px;\n",
              "      padding: 0 0 0 0;\n",
              "      width: 32px;\n",
              "    }\n",
              "\n",
              "    .colab-df-convert:hover {\n",
              "      background-color: #E2EBFA;\n",
              "      box-shadow: 0px 1px 2px rgba(60, 64, 67, 0.3), 0px 1px 3px 1px rgba(60, 64, 67, 0.15);\n",
              "      fill: #174EA6;\n",
              "    }\n",
              "\n",
              "    .colab-df-buttons div {\n",
              "      margin-bottom: 4px;\n",
              "    }\n",
              "\n",
              "    [theme=dark] .colab-df-convert {\n",
              "      background-color: #3B4455;\n",
              "      fill: #D2E3FC;\n",
              "    }\n",
              "\n",
              "    [theme=dark] .colab-df-convert:hover {\n",
              "      background-color: #434B5C;\n",
              "      box-shadow: 0px 1px 3px 1px rgba(0, 0, 0, 0.15);\n",
              "      filter: drop-shadow(0px 1px 2px rgba(0, 0, 0, 0.3));\n",
              "      fill: #FFFFFF;\n",
              "    }\n",
              "  </style>\n",
              "\n",
              "    <script>\n",
              "      const buttonEl =\n",
              "        document.querySelector('#df-e1ed7a49-4aab-42f0-a0d2-a10ac7736f4e button.colab-df-convert');\n",
              "      buttonEl.style.display =\n",
              "        google.colab.kernel.accessAllowed ? 'block' : 'none';\n",
              "\n",
              "      async function convertToInteractive(key) {\n",
              "        const element = document.querySelector('#df-e1ed7a49-4aab-42f0-a0d2-a10ac7736f4e');\n",
              "        const dataTable =\n",
              "          await google.colab.kernel.invokeFunction('convertToInteractive',\n",
              "                                                    [key], {});\n",
              "        if (!dataTable) return;\n",
              "\n",
              "        const docLinkHtml = 'Like what you see? Visit the ' +\n",
              "          '<a target=\"_blank\" href=https://colab.research.google.com/notebooks/data_table.ipynb>data table notebook</a>'\n",
              "          + ' to learn more about interactive tables.';\n",
              "        element.innerHTML = '';\n",
              "        dataTable['output_type'] = 'display_data';\n",
              "        await google.colab.output.renderOutput(dataTable, element);\n",
              "        const docLink = document.createElement('div');\n",
              "        docLink.innerHTML = docLinkHtml;\n",
              "        element.appendChild(docLink);\n",
              "      }\n",
              "    </script>\n",
              "  </div>\n",
              "\n",
              "\n",
              "<div id=\"df-2bb38a88-0e22-4830-bcf8-25d46262d7b5\">\n",
              "  <button class=\"colab-df-quickchart\" onclick=\"quickchart('df-2bb38a88-0e22-4830-bcf8-25d46262d7b5')\"\n",
              "            title=\"Suggest charts\"\n",
              "            style=\"display:none;\">\n",
              "\n",
              "<svg xmlns=\"http://www.w3.org/2000/svg\" height=\"24px\"viewBox=\"0 0 24 24\"\n",
              "     width=\"24px\">\n",
              "    <g>\n",
              "        <path d=\"M19 3H5c-1.1 0-2 .9-2 2v14c0 1.1.9 2 2 2h14c1.1 0 2-.9 2-2V5c0-1.1-.9-2-2-2zM9 17H7v-7h2v7zm4 0h-2V7h2v10zm4 0h-2v-4h2v4z\"/>\n",
              "    </g>\n",
              "</svg>\n",
              "  </button>\n",
              "\n",
              "<style>\n",
              "  .colab-df-quickchart {\n",
              "      --bg-color: #E8F0FE;\n",
              "      --fill-color: #1967D2;\n",
              "      --hover-bg-color: #E2EBFA;\n",
              "      --hover-fill-color: #174EA6;\n",
              "      --disabled-fill-color: #AAA;\n",
              "      --disabled-bg-color: #DDD;\n",
              "  }\n",
              "\n",
              "  [theme=dark] .colab-df-quickchart {\n",
              "      --bg-color: #3B4455;\n",
              "      --fill-color: #D2E3FC;\n",
              "      --hover-bg-color: #434B5C;\n",
              "      --hover-fill-color: #FFFFFF;\n",
              "      --disabled-bg-color: #3B4455;\n",
              "      --disabled-fill-color: #666;\n",
              "  }\n",
              "\n",
              "  .colab-df-quickchart {\n",
              "    background-color: var(--bg-color);\n",
              "    border: none;\n",
              "    border-radius: 50%;\n",
              "    cursor: pointer;\n",
              "    display: none;\n",
              "    fill: var(--fill-color);\n",
              "    height: 32px;\n",
              "    padding: 0;\n",
              "    width: 32px;\n",
              "  }\n",
              "\n",
              "  .colab-df-quickchart:hover {\n",
              "    background-color: var(--hover-bg-color);\n",
              "    box-shadow: 0 1px 2px rgba(60, 64, 67, 0.3), 0 1px 3px 1px rgba(60, 64, 67, 0.15);\n",
              "    fill: var(--button-hover-fill-color);\n",
              "  }\n",
              "\n",
              "  .colab-df-quickchart-complete:disabled,\n",
              "  .colab-df-quickchart-complete:disabled:hover {\n",
              "    background-color: var(--disabled-bg-color);\n",
              "    fill: var(--disabled-fill-color);\n",
              "    box-shadow: none;\n",
              "  }\n",
              "\n",
              "  .colab-df-spinner {\n",
              "    border: 2px solid var(--fill-color);\n",
              "    border-color: transparent;\n",
              "    border-bottom-color: var(--fill-color);\n",
              "    animation:\n",
              "      spin 1s steps(1) infinite;\n",
              "  }\n",
              "\n",
              "  @keyframes spin {\n",
              "    0% {\n",
              "      border-color: transparent;\n",
              "      border-bottom-color: var(--fill-color);\n",
              "      border-left-color: var(--fill-color);\n",
              "    }\n",
              "    20% {\n",
              "      border-color: transparent;\n",
              "      border-left-color: var(--fill-color);\n",
              "      border-top-color: var(--fill-color);\n",
              "    }\n",
              "    30% {\n",
              "      border-color: transparent;\n",
              "      border-left-color: var(--fill-color);\n",
              "      border-top-color: var(--fill-color);\n",
              "      border-right-color: var(--fill-color);\n",
              "    }\n",
              "    40% {\n",
              "      border-color: transparent;\n",
              "      border-right-color: var(--fill-color);\n",
              "      border-top-color: var(--fill-color);\n",
              "    }\n",
              "    60% {\n",
              "      border-color: transparent;\n",
              "      border-right-color: var(--fill-color);\n",
              "    }\n",
              "    80% {\n",
              "      border-color: transparent;\n",
              "      border-right-color: var(--fill-color);\n",
              "      border-bottom-color: var(--fill-color);\n",
              "    }\n",
              "    90% {\n",
              "      border-color: transparent;\n",
              "      border-bottom-color: var(--fill-color);\n",
              "    }\n",
              "  }\n",
              "</style>\n",
              "\n",
              "  <script>\n",
              "    async function quickchart(key) {\n",
              "      const quickchartButtonEl =\n",
              "        document.querySelector('#' + key + ' button');\n",
              "      quickchartButtonEl.disabled = true;  // To prevent multiple clicks.\n",
              "      quickchartButtonEl.classList.add('colab-df-spinner');\n",
              "      try {\n",
              "        const charts = await google.colab.kernel.invokeFunction(\n",
              "            'suggestCharts', [key], {});\n",
              "      } catch (error) {\n",
              "        console.error('Error during call to suggestCharts:', error);\n",
              "      }\n",
              "      quickchartButtonEl.classList.remove('colab-df-spinner');\n",
              "      quickchartButtonEl.classList.add('colab-df-quickchart-complete');\n",
              "    }\n",
              "    (() => {\n",
              "      let quickchartButtonEl =\n",
              "        document.querySelector('#df-2bb38a88-0e22-4830-bcf8-25d46262d7b5 button');\n",
              "      quickchartButtonEl.style.display =\n",
              "        google.colab.kernel.accessAllowed ? 'block' : 'none';\n",
              "    })();\n",
              "  </script>\n",
              "</div>\n",
              "    </div>\n",
              "  </div>\n"
            ],
            "text/plain": [
              "                                            question  \\\n",
              "0  Asmara international airport is in which country?   \n",
              "1  At whose concert were 11 people trampled to de...   \n",
              "2  Andy Warhol/'s 60s exhibition featured cans of...   \n",
              "3  In which decade of the 20th century was Al Pac...   \n",
              "4  San Giusto international airport is in which c...   \n",
              "\n",
              "                                    predicted_answer  \n",
              "0  asmara international airport is in which count...  \n",
              "1  at whose concert were 11 people trampled to de...  \n",
              "2  andy warhol/ 's 60s exhibition featured cans o...  \n",
              "3  in which decade of the 20th century was al pacino  \n",
              "4  san giusto international airport is in which c...  "
            ]
          },
          "execution_count": 226,
          "metadata": {},
          "output_type": "execute_result"
        }
      ],
      "source": [
        "predictions_df_transformer.head()"
      ]
    },
    {
      "cell_type": "markdown",
      "metadata": {
        "id": "-UoFRkusDJTY"
      },
      "source": [
        "## Evaluate the Transformer Model"
      ]
    },
    {
      "cell_type": "markdown",
      "metadata": {
        "id": "vJI10H36D-W0"
      },
      "source": [
        "## show with plt"
      ]
    },
    {
      "cell_type": "code",
      "execution_count": null,
      "metadata": {
        "colab": {
          "base_uri": "https://localhost:8080/",
          "height": 487
        },
        "id": "KMTQUuP_EBlx",
        "outputId": "5db24554-2ae7-4b61-90e8-302b3f3b8431"
      },
      "outputs": [
        {
          "data": {
            "image/png": "[encoded data removed]",
            "text/plain": [
              "<Figure size 640x480 with 1 Axes>"
            ]
          },
          "metadata": {},
          "output_type": "display_data"
        }
      ],
      "source": [
        "import matplotlib.pyplot as plt\n",
        "\n",
        "# Define the scores\n",
        "metrics = ['Exact Match (EM)', 'F1 Score']\n",
        "lstm_scores = [em_score_lstm, f1_score_avg_lstm]\n",
        "transformer_scores = [em_score_transformer, f1_score_avg_transformer]\n",
        "\n",
        "# Define the position of the bars on the x-axis\n",
        "x = np.arange(len(metrics))\n",
        "\n",
        "# Define the width of the bars\n",
        "width = 0.35\n",
        "\n",
        "# Create the bar chart\n",
        "fig, ax = plt.subplots()\n",
        "\n",
        "bars1 = ax.bar(x - width/2, lstm_scores, width, label='LSTM Model')\n",
        "bars2 = ax.bar(x + width/2, transformer_scores, width, label='Transformer Model')\n",
        "\n",
        "# Add some text for labels, title and custom x-axis tick labels, etc.\n",
        "ax.set_xlabel('Metrics')\n",
        "ax.set_ylabel('Scores')\n",
        "ax.set_title('Performance Comparison of LSTM and Transformer Models')\n",
        "ax.set_xticks(x)\n",
        "ax.set_xticklabels(metrics)\n",
        "ax.legend()\n",
        "\n",
        "# Attach a text label above each bar in *bars*, displaying its height\n",
        "def autolabel(bars):\n",
        "    \"\"\"Attach a text label above each bar in *bars*, displaying its height.\"\"\"\n",
        "    for bar in bars:\n",
        "        height = bar.get_height()\n",
        "        ax.annotate('{}'.format(round(height, 2)),\n",
        "                    xy=(bar.get_x() + bar.get_width() / 2, height),\n",
        "                    xytext=(0, 3),  # 3 points vertical offset\n",
        "                    textcoords=\"offset points\",\n",
        "                    ha='center', va='bottom')\n",
        "\n",
        "autolabel(bars1)\n",
        "autolabel(bars2)\n",
        "\n",
        "fig.tight_layout()\n",
        "\n",
        "# Display the plot\n",
        "plt.show()\n"
      ]
    }
  ],
  "metadata": {
    "colab": {
      "collapsed_sections": [
        "odOq75UVuHWp",
        "Xy2avJi-GP9K"
      ],
      "provenance": [],
      "include_colab_link": true
    },
    "kernelspec": {
      "display_name": "Python 3",
      "name": "python3"
    },
    "language_info": {
      "name": "python"
    }
  },
  "nbformat": 4,
  "nbformat_minor": 0
}