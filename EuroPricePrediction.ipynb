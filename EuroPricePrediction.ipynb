{
  "nbformat": 4,
  "nbformat_minor": 0,
  "metadata": {
    "colab": {
      "provenance": [],
      "authorship_tag": "ABX9TyPfbtdgYEd7TNzvl4dOcmUm",
      "include_colab_link": true
    },
    "kernelspec": {
      "name": "python3",
      "display_name": "Python 3"
    },
    "language_info": {
      "name": "python"
    }
  },
  "cells": [
    {
      "cell_type": "markdown",
      "metadata": {
        "id": "view-in-github",
        "colab_type": "text"
      },
      "source": [
        "<a href=\"https://colab.research.google.com/github/SajjadRahati1/Index/blob/main/EuroPricePrediction.ipynb\" target=\"_parent\"><img src=\"https://colab.research.google.com/assets/colab-badge.svg\" alt=\"Open In Colab\"/></a>"
      ]
    },
    {
      "cell_type": "code",
      "execution_count": 4,
      "metadata": {
        "colab": {
          "base_uri": "https://localhost:8080/"
        },
        "id": "Ne1c32BU1Xvs",
        "outputId": "66196e61-4225-4662-9118-ea0d02db3cec"
      },
      "outputs": [
        {
          "output_type": "stream",
          "name": "stdout",
          "text": [
            "Requirement already satisfied: keras in /usr/local/lib/python3.10/dist-packages (2.15.0)\n",
            "Requirement already satisfied: pandas in /usr/local/lib/python3.10/dist-packages (1.5.3)\n",
            "Requirement already satisfied: python-dateutil>=2.8.1 in /usr/local/lib/python3.10/dist-packages (from pandas) (2.8.2)\n",
            "Requirement already satisfied: pytz>=2020.1 in /usr/local/lib/python3.10/dist-packages (from pandas) (2023.4)\n",
            "Requirement already satisfied: numpy>=1.21.0 in /usr/local/lib/python3.10/dist-packages (from pandas) (1.25.2)\n",
            "Requirement already satisfied: six>=1.5 in /usr/local/lib/python3.10/dist-packages (from python-dateutil>=2.8.1->pandas) (1.16.0)\n",
            "Requirement already satisfied: numpy in /usr/local/lib/python3.10/dist-packages (1.25.2)\n"
          ]
        }
      ],
      "source": [
        "!pip install keras\n",
        "!pip install pandas\n",
        "!pip install numpy"
      ]
    },
    {
      "cell_type": "code",
      "source": [
        "!pip install sklearn"
      ],
      "metadata": {
        "colab": {
          "base_uri": "https://localhost:8080/"
        },
        "id": "z9NgfQ6X1c75",
        "outputId": "06b4fb66-7d08-48c1-f954-25c917e5d4f6"
      },
      "execution_count": 2,
      "outputs": [
        {
          "output_type": "stream",
          "name": "stdout",
          "text": [
            "Collecting sklearn\n",
            "  Downloading sklearn-0.0.post12.tar.gz (2.6 kB)\n",
            "  \u001b[1;31merror\u001b[0m: \u001b[1msubprocess-exited-with-error\u001b[0m\n",
            "  \n",
            "  \u001b[31m×\u001b[0m \u001b[32mpython setup.py egg_info\u001b[0m did not run successfully.\n",
            "  \u001b[31m│\u001b[0m exit code: \u001b[1;36m1\u001b[0m\n",
            "  \u001b[31m╰─>\u001b[0m See above for output.\n",
            "  \n",
            "  \u001b[1;35mnote\u001b[0m: This error originates from a subprocess, and is likely not a problem with pip.\n",
            "  Preparing metadata (setup.py) ... \u001b[?25l\u001b[?25herror\n",
            "\u001b[1;31merror\u001b[0m: \u001b[1mmetadata-generation-failed\u001b[0m\n",
            "\n",
            "\u001b[31m×\u001b[0m Encountered error while generating package metadata.\n",
            "\u001b[31m╰─>\u001b[0m See above for output.\n",
            "\n",
            "\u001b[1;35mnote\u001b[0m: This is an issue with the package mentioned above, not pip.\n",
            "\u001b[1;36mhint\u001b[0m: See above for details.\n"
          ]
        }
      ]
    },
    {
      "cell_type": "code",
      "source": [
        "import numpy as np\n",
        "import pandas as pd\n",
        "from sklearn.preprocessing import MinMaxScaler\n",
        "import matplotlib.pyplot as plt\n",
        "\n",
        "# فرض کنید data_frame یک DataFrame Pandas با دو ستون (Date و Price) باشد\n",
        "file = '/content/sample_data/dataEuroPrice.csv'\n",
        "data_frame = pd.read_csv(file)\n",
        "data_frame['Date'] = pd.to_datetime(data_frame['Date'])\n",
        "data_frame = data_frame.sort_values(by='Date')\n",
        "data_frame = data_frame.set_index('Date')\n",
        "# print(data_frame)\n",
        "\n",
        "# تقسیم داده‌ها به داده‌های آموزش و آزمون\n",
        "# train_data = data_frame.iloc[:2000, :]\n",
        "# test_data = data_frame.iloc[2000:, :]\n",
        "train_data = data_frame.iloc[:-30, :]\n",
        "test_data = data_frame.iloc[-30:, :]"
      ],
      "metadata": {
        "id": "CQvv3NqgCA4X"
      },
      "execution_count": 50,
      "outputs": []
    },
    {
      "cell_type": "code",
      "source": [
        "\n",
        "# نرمال‌سازی داده‌ها\n",
        "scaler = MinMaxScaler(feature_range=(0, 1))\n",
        "train_data_scaled = scaler.fit_transform(train_data[['Final']])\n",
        "test_data_scaled = scaler.transform(test_data[['Final']])\n",
        "\n"
      ],
      "metadata": {
        "id": "I-yzLzQf1eXU"
      },
      "execution_count": 51,
      "outputs": []
    },
    {
      "cell_type": "code",
      "source": [
        "\n",
        "# ساخت داده‌های ورودی و خروجی برای شبکه\n",
        "def create_dataset(data, time_step):\n",
        "    X, y = [], []\n",
        "    for i in range(len(data) - time_step):\n",
        "        X.append(data[i:(i + time_step), 0])\n",
        "        y.append(data[i + time_step, 0])\n",
        "    return np.array(X), np.array(y)\n",
        "\n",
        "time_step = 10\n",
        "X_train, y_train = create_dataset(train_data_scaled, time_step)\n",
        "X_test, y_test = create_dataset(test_data_scaled, time_step)\n"
      ],
      "metadata": {
        "id": "3gMEYP8eDA3m"
      },
      "execution_count": 52,
      "outputs": []
    },
    {
      "cell_type": "code",
      "source": [
        "\n",
        "# تغییر شکل داده‌های ورودی برای استفاده در LSTM\n",
        "X_train = X_train.reshape(X_train.shape[0], X_train.shape[1], 1)\n",
        "X_test = X_test.reshape(X_test.shape[0], X_test.shape[1], 1)\n"
      ],
      "metadata": {
        "id": "IszwOzq8DQOS"
      },
      "execution_count": 53,
      "outputs": []
    },
    {
      "cell_type": "code",
      "source": [
        "from keras.models import Sequential\n",
        "from keras.layers import LSTM, Dense\n",
        "\n",
        "\n",
        "\n",
        "# ساخت معماری شبکه عصبی\n",
        "model = Sequential()\n",
        "model.add(LSTM(units=50, return_sequences=True, input_shape=(X_train.shape[1], 1)))\n",
        "model.add(LSTM(units=50, return_sequences=False))\n",
        "model.add(Dense(units=1))"
      ],
      "metadata": {
        "id": "q8nZMuQ-DKRR"
      },
      "execution_count": 54,
      "outputs": []
    },
    {
      "cell_type": "code",
      "source": [
        "\n",
        "# کompای کردن مدل\n",
        "model.compile(optimizer='adam', loss='mean_squared_error')\n",
        "\n",
        "# آموزش مدل\n",
        "model.fit(X_train, y_train, epochs=100, batch_size=32)\n",
        "\n",
        "# ارزیابی مدل\n",
        "loss = model.evaluate(X_test, y_test)\n",
        "print('Test Loss:', loss)"
      ],
      "metadata": {
        "colab": {
          "base_uri": "https://localhost:8080/"
        },
        "id": "AHiPbpILDcI_",
        "outputId": "ec3c7ee8-745e-4792-d367-4b01f2699460"
      },
      "execution_count": 55,
      "outputs": [
        {
          "output_type": "stream",
          "name": "stdout",
          "text": [
            "Epoch 1/100\n",
            "105/105 [==============================] - 7s 12ms/step - loss: 0.0083\n",
            "Epoch 2/100\n",
            "105/105 [==============================] - 1s 13ms/step - loss: 1.7089e-04\n",
            "Epoch 3/100\n",
            "105/105 [==============================] - 2s 18ms/step - loss: 1.6904e-04\n",
            "Epoch 4/100\n",
            "105/105 [==============================] - 1s 13ms/step - loss: 1.7881e-04\n",
            "Epoch 5/100\n",
            "105/105 [==============================] - 1s 13ms/step - loss: 1.6959e-04\n",
            "Epoch 6/100\n",
            "105/105 [==============================] - 2s 16ms/step - loss: 1.8478e-04\n",
            "Epoch 7/100\n",
            "105/105 [==============================] - 2s 19ms/step - loss: 1.8919e-04\n",
            "Epoch 8/100\n",
            "105/105 [==============================] - 1s 13ms/step - loss: 1.7157e-04\n",
            "Epoch 9/100\n",
            "105/105 [==============================] - 1s 13ms/step - loss: 1.6380e-04\n",
            "Epoch 10/100\n",
            "105/105 [==============================] - 1s 12ms/step - loss: 2.5519e-04\n",
            "Epoch 11/100\n",
            "105/105 [==============================] - 1s 13ms/step - loss: 2.2299e-04\n",
            "Epoch 12/100\n",
            "105/105 [==============================] - 1s 13ms/step - loss: 1.6362e-04\n",
            "Epoch 13/100\n",
            "105/105 [==============================] - 1s 13ms/step - loss: 1.8372e-04\n",
            "Epoch 14/100\n",
            "105/105 [==============================] - 1s 14ms/step - loss: 1.6629e-04\n",
            "Epoch 15/100\n",
            "105/105 [==============================] - 2s 17ms/step - loss: 2.1009e-04\n",
            "Epoch 16/100\n",
            "105/105 [==============================] - 2s 17ms/step - loss: 1.5089e-04\n",
            "Epoch 17/100\n",
            "105/105 [==============================] - 1s 12ms/step - loss: 1.8846e-04\n",
            "Epoch 18/100\n",
            "105/105 [==============================] - 1s 13ms/step - loss: 1.5226e-04\n",
            "Epoch 19/100\n",
            "105/105 [==============================] - 1s 13ms/step - loss: 1.6078e-04\n",
            "Epoch 20/100\n",
            "105/105 [==============================] - 1s 12ms/step - loss: 1.4188e-04\n",
            "Epoch 21/100\n",
            "105/105 [==============================] - 1s 12ms/step - loss: 1.4145e-04\n",
            "Epoch 22/100\n",
            "105/105 [==============================] - 1s 13ms/step - loss: 1.3503e-04\n",
            "Epoch 23/100\n",
            "105/105 [==============================] - 1s 13ms/step - loss: 1.5468e-04\n",
            "Epoch 24/100\n",
            "105/105 [==============================] - 2s 19ms/step - loss: 1.5815e-04\n",
            "Epoch 25/100\n",
            "105/105 [==============================] - 2s 16ms/step - loss: 1.7649e-04\n",
            "Epoch 26/100\n",
            "105/105 [==============================] - 1s 12ms/step - loss: 1.6791e-04\n",
            "Epoch 27/100\n",
            "105/105 [==============================] - 1s 13ms/step - loss: 1.3184e-04\n",
            "Epoch 28/100\n",
            "105/105 [==============================] - 1s 12ms/step - loss: 1.2586e-04\n",
            "Epoch 29/100\n",
            "105/105 [==============================] - 1s 13ms/step - loss: 1.3329e-04\n",
            "Epoch 30/100\n",
            "105/105 [==============================] - 1s 13ms/step - loss: 1.4570e-04\n",
            "Epoch 31/100\n",
            "105/105 [==============================] - 1s 12ms/step - loss: 1.2039e-04\n",
            "Epoch 32/100\n",
            "105/105 [==============================] - 1s 14ms/step - loss: 1.1721e-04\n",
            "Epoch 33/100\n",
            "105/105 [==============================] - 2s 19ms/step - loss: 1.3337e-04\n",
            "Epoch 34/100\n",
            "105/105 [==============================] - 1s 14ms/step - loss: 1.3104e-04\n",
            "Epoch 35/100\n",
            "105/105 [==============================] - 1s 12ms/step - loss: 1.1367e-04\n",
            "Epoch 36/100\n",
            "105/105 [==============================] - 1s 13ms/step - loss: 1.1363e-04\n",
            "Epoch 37/100\n",
            "105/105 [==============================] - 1s 13ms/step - loss: 1.2045e-04\n",
            "Epoch 38/100\n",
            "105/105 [==============================] - 1s 12ms/step - loss: 9.8260e-05\n",
            "Epoch 39/100\n",
            "105/105 [==============================] - 1s 13ms/step - loss: 1.0136e-04\n",
            "Epoch 40/100\n",
            "105/105 [==============================] - 1s 13ms/step - loss: 1.0380e-04\n",
            "Epoch 41/100\n",
            "105/105 [==============================] - 2s 15ms/step - loss: 9.9954e-05\n",
            "Epoch 42/100\n",
            "105/105 [==============================] - 2s 20ms/step - loss: 9.2152e-05\n",
            "Epoch 43/100\n",
            "105/105 [==============================] - 1s 13ms/step - loss: 9.1176e-05\n",
            "Epoch 44/100\n",
            "105/105 [==============================] - 1s 12ms/step - loss: 9.8663e-05\n",
            "Epoch 45/100\n",
            "105/105 [==============================] - 1s 13ms/step - loss: 9.0981e-05\n",
            "Epoch 46/100\n",
            "105/105 [==============================] - 1s 13ms/step - loss: 1.0530e-04\n",
            "Epoch 47/100\n",
            "105/105 [==============================] - 1s 13ms/step - loss: 7.7255e-05\n",
            "Epoch 48/100\n",
            "105/105 [==============================] - 1s 13ms/step - loss: 1.0370e-04\n",
            "Epoch 49/100\n",
            "105/105 [==============================] - 1s 12ms/step - loss: 7.5366e-05\n",
            "Epoch 50/100\n",
            "105/105 [==============================] - 2s 17ms/step - loss: 7.3536e-05\n",
            "Epoch 51/100\n",
            "105/105 [==============================] - 2s 17ms/step - loss: 7.0770e-05\n",
            "Epoch 52/100\n",
            "105/105 [==============================] - 1s 13ms/step - loss: 8.7139e-05\n",
            "Epoch 53/100\n",
            "105/105 [==============================] - 1s 13ms/step - loss: 7.4395e-05\n",
            "Epoch 54/100\n",
            "105/105 [==============================] - 1s 13ms/step - loss: 7.9683e-05\n",
            "Epoch 55/100\n",
            "105/105 [==============================] - 1s 13ms/step - loss: 9.3667e-05\n",
            "Epoch 56/100\n",
            "105/105 [==============================] - 1s 13ms/step - loss: 6.6486e-05\n",
            "Epoch 57/100\n",
            "105/105 [==============================] - 1s 13ms/step - loss: 7.4224e-05\n",
            "Epoch 58/100\n",
            "105/105 [==============================] - 1s 13ms/step - loss: 7.0104e-05\n",
            "Epoch 59/100\n",
            "105/105 [==============================] - 3s 28ms/step - loss: 6.5922e-05\n",
            "Epoch 60/100\n",
            "105/105 [==============================] - 2s 15ms/step - loss: 6.6859e-05\n",
            "Epoch 61/100\n",
            "105/105 [==============================] - 1s 13ms/step - loss: 7.7892e-05\n",
            "Epoch 62/100\n",
            "105/105 [==============================] - 1s 13ms/step - loss: 8.7034e-05\n",
            "Epoch 63/100\n",
            "105/105 [==============================] - 1s 13ms/step - loss: 7.5257e-05\n",
            "Epoch 64/100\n",
            "105/105 [==============================] - 1s 13ms/step - loss: 7.9502e-05\n",
            "Epoch 65/100\n",
            "105/105 [==============================] - 1s 13ms/step - loss: 7.5115e-05\n",
            "Epoch 66/100\n",
            "105/105 [==============================] - 1s 13ms/step - loss: 7.6182e-05\n",
            "Epoch 67/100\n",
            "105/105 [==============================] - 2s 16ms/step - loss: 6.4145e-05\n",
            "Epoch 68/100\n",
            "105/105 [==============================] - 2s 19ms/step - loss: 6.8118e-05\n",
            "Epoch 69/100\n",
            "105/105 [==============================] - 1s 13ms/step - loss: 6.3986e-05\n",
            "Epoch 70/100\n",
            "105/105 [==============================] - 1s 13ms/step - loss: 6.5265e-05\n",
            "Epoch 71/100\n",
            "105/105 [==============================] - 1s 13ms/step - loss: 6.7220e-05\n",
            "Epoch 72/100\n",
            "105/105 [==============================] - 1s 13ms/step - loss: 7.0844e-05\n",
            "Epoch 73/100\n",
            "105/105 [==============================] - 1s 13ms/step - loss: 6.4315e-05\n",
            "Epoch 74/100\n",
            "105/105 [==============================] - 1s 13ms/step - loss: 6.5811e-05\n",
            "Epoch 75/100\n",
            "105/105 [==============================] - 1s 13ms/step - loss: 6.6837e-05\n",
            "Epoch 76/100\n",
            "105/105 [==============================] - 2s 17ms/step - loss: 6.1863e-05\n",
            "Epoch 77/100\n",
            "105/105 [==============================] - 2s 17ms/step - loss: 6.8101e-05\n",
            "Epoch 78/100\n",
            "105/105 [==============================] - 1s 13ms/step - loss: 6.5044e-05\n",
            "Epoch 79/100\n",
            "105/105 [==============================] - 1s 13ms/step - loss: 6.6366e-05\n",
            "Epoch 80/100\n",
            "105/105 [==============================] - 1s 13ms/step - loss: 6.9963e-05\n",
            "Epoch 81/100\n",
            "105/105 [==============================] - 1s 13ms/step - loss: 5.8733e-05\n",
            "Epoch 82/100\n",
            "105/105 [==============================] - 1s 13ms/step - loss: 7.3370e-05\n",
            "Epoch 83/100\n",
            "105/105 [==============================] - 1s 12ms/step - loss: 6.6957e-05\n",
            "Epoch 84/100\n",
            "105/105 [==============================] - 1s 12ms/step - loss: 5.9566e-05\n",
            "Epoch 85/100\n",
            "105/105 [==============================] - 2s 18ms/step - loss: 7.6510e-05\n",
            "Epoch 86/100\n",
            "105/105 [==============================] - 2s 16ms/step - loss: 5.7869e-05\n",
            "Epoch 87/100\n",
            "105/105 [==============================] - 1s 13ms/step - loss: 5.6954e-05\n",
            "Epoch 88/100\n",
            "105/105 [==============================] - 1s 13ms/step - loss: 6.4483e-05\n",
            "Epoch 89/100\n",
            "105/105 [==============================] - 1s 12ms/step - loss: 6.4463e-05\n",
            "Epoch 90/100\n",
            "105/105 [==============================] - 1s 13ms/step - loss: 6.4034e-05\n",
            "Epoch 91/100\n",
            "105/105 [==============================] - 1s 13ms/step - loss: 5.8781e-05\n",
            "Epoch 92/100\n",
            "105/105 [==============================] - 1s 13ms/step - loss: 8.6240e-05\n",
            "Epoch 93/100\n",
            "105/105 [==============================] - 1s 13ms/step - loss: 5.8046e-05\n",
            "Epoch 94/100\n",
            "105/105 [==============================] - 2s 20ms/step - loss: 6.1440e-05\n",
            "Epoch 95/100\n",
            "105/105 [==============================] - 1s 14ms/step - loss: 5.8805e-05\n",
            "Epoch 96/100\n",
            "105/105 [==============================] - 1s 12ms/step - loss: 6.6152e-05\n",
            "Epoch 97/100\n",
            "105/105 [==============================] - 1s 12ms/step - loss: 6.2780e-05\n",
            "Epoch 98/100\n",
            "105/105 [==============================] - 1s 13ms/step - loss: 6.2528e-05\n",
            "Epoch 99/100\n",
            "105/105 [==============================] - 1s 12ms/step - loss: 5.5838e-05\n",
            "Epoch 100/100\n",
            "105/105 [==============================] - 1s 13ms/step - loss: 5.9059e-05\n",
            "1/1 [==============================] - 1s 906ms/step - loss: 5.1442e-04\n",
            "Test Loss: 0.0005144248134456575\n"
          ]
        }
      ]
    },
    {
      "cell_type": "code",
      "source": [
        "\n",
        "# پیش‌بینی قیمت‌های یورو برای داده‌های آزمون\n",
        "predictionsBeforeInverse = model.predict(X_test)\n",
        "predictions = scaler.inverse_transform(predictionsBeforeInverse)\n"
      ],
      "metadata": {
        "colab": {
          "base_uri": "https://localhost:8080/"
        },
        "id": "sUNn7nXkGfyq",
        "outputId": "64709f7a-2ea9-4977-8b02-fee448579d7a"
      },
      "execution_count": 56,
      "outputs": [
        {
          "output_type": "stream",
          "name": "stdout",
          "text": [
            "1/1 [==============================] - 1s 1s/step\n"
          ]
        }
      ]
    },
    {
      "cell_type": "code",
      "source": [
        "\n",
        "# پیش‌بینی قیمت‌های آینده\n",
        "last_data = train_data_scaled[-time_step:].reshape(1, -1)\n",
        "future_predictions = []\n",
        "\n",
        "for i in range(30):\n",
        "    prediction = model.predict(last_data.reshape(1, time_step, 1))[0, 0]\n",
        "    future_predictions.append(prediction)\n",
        "    last_data = np.append(last_data[:, 1:], [[prediction]], axis=1)\n"
      ],
      "metadata": {
        "colab": {
          "base_uri": "https://localhost:8080/"
        },
        "id": "gL87esZxOfrl",
        "outputId": "cf7fdea5-8b10-4d58-ae4d-942921e37c8c"
      },
      "execution_count": 57,
      "outputs": [
        {
          "output_type": "stream",
          "name": "stdout",
          "text": [
            "1/1 [==============================] - 0s 23ms/step\n",
            "1/1 [==============================] - 0s 23ms/step\n",
            "1/1 [==============================] - 0s 22ms/step\n",
            "1/1 [==============================] - 0s 24ms/step\n",
            "1/1 [==============================] - 0s 25ms/step\n",
            "1/1 [==============================] - 0s 24ms/step\n",
            "1/1 [==============================] - 0s 23ms/step\n",
            "1/1 [==============================] - 0s 24ms/step\n",
            "1/1 [==============================] - 0s 24ms/step\n",
            "1/1 [==============================] - 0s 25ms/step\n",
            "1/1 [==============================] - 0s 25ms/step\n",
            "1/1 [==============================] - 0s 23ms/step\n",
            "1/1 [==============================] - 0s 23ms/step\n",
            "1/1 [==============================] - 0s 22ms/step\n",
            "1/1 [==============================] - 0s 23ms/step\n",
            "1/1 [==============================] - 0s 31ms/step\n",
            "1/1 [==============================] - 0s 25ms/step\n",
            "1/1 [==============================] - 0s 26ms/step\n",
            "1/1 [==============================] - 0s 23ms/step\n",
            "1/1 [==============================] - 0s 22ms/step\n",
            "1/1 [==============================] - 0s 23ms/step\n",
            "1/1 [==============================] - 0s 22ms/step\n",
            "1/1 [==============================] - 0s 23ms/step\n",
            "1/1 [==============================] - 0s 23ms/step\n",
            "1/1 [==============================] - 0s 26ms/step\n",
            "1/1 [==============================] - 0s 22ms/step\n",
            "1/1 [==============================] - 0s 24ms/step\n",
            "1/1 [==============================] - 0s 24ms/step\n",
            "1/1 [==============================] - 0s 23ms/step\n",
            "1/1 [==============================] - 0s 24ms/step\n"
          ]
        }
      ]
    },
    {
      "cell_type": "code",
      "source": [
        "data_frame.index.max()"
      ],
      "metadata": {
        "colab": {
          "base_uri": "https://localhost:8080/"
        },
        "id": "FFhkWhzRPhF2",
        "outputId": "00cfffbe-de52-4b2b-f859-1793a39447f3"
      },
      "execution_count": 58,
      "outputs": [
        {
          "output_type": "execute_result",
          "data": {
            "text/plain": [
              "Timestamp('2024-03-18 00:00:00')"
            ]
          },
          "metadata": {},
          "execution_count": 58
        }
      ]
    },
    {
      "cell_type": "code",
      "source": [
        "from datetime import datetime, timedelta\n",
        "# بازگشت به مقیاس اصلی\n",
        "future_predictions = scaler.inverse_transform(np.array(future_predictions).reshape(-1, 1))\n",
        "\n",
        "# تولید تاریخ‌های آینده\n",
        "last_date = data_frame.index.max()\n",
        "future_dates = [(last_date + timedelta(days=i)).strftime('%Y/%m/%d') for i in range(1, 31)]\n",
        "\n",
        "# نمایش پیش‌بینی‌ها\n",
        "future_predictions_df = pd.DataFrame({'Date': future_dates, 'Predicted_Price': future_predictions.flatten()})\n",
        "# تغییر فرمت اعداد به صورت عدد اعشاری\n",
        "future_predictions_df['Predicted_Price'] = future_predictions_df['Predicted_Price'].apply(lambda x: '{:.2f}'.format(x))\n",
        "\n",
        "print(future_predictions_df)\n",
        "future_predictions_df.to_csv('/content/sample_data/futurePredictions.csv', index=False)\n"
      ],
      "metadata": {
        "colab": {
          "base_uri": "https://localhost:8080/"
        },
        "id": "mUtIXq3vHSPa",
        "outputId": "15286e3e-76f9-49be-fe1a-b7c3b720f66b"
      },
      "execution_count": 60,
      "outputs": [
        {
          "output_type": "stream",
          "name": "stdout",
          "text": [
            "          Date  Predicted_Price\n",
            "0   2024/03/19  371303219200.00\n",
            "1   2024/03/20  381704994816.00\n",
            "2   2024/03/21  391017431040.00\n",
            "3   2024/03/22  399717466112.00\n",
            "4   2024/03/23  407827316736.00\n",
            "5   2024/03/24  415403835392.00\n",
            "6   2024/03/25  422568361984.00\n",
            "7   2024/03/26  429357203456.00\n",
            "8   2024/03/27  435928596480.00\n",
            "9   2024/03/28  442401161216.00\n",
            "10  2024/03/29  448799473664.00\n",
            "11  2024/03/30  455079264256.00\n",
            "12  2024/03/31  461195575296.00\n",
            "13  2024/04/01  467119800320.00\n",
            "14  2024/04/02  472833687552.00\n",
            "15  2024/04/03  478327046144.00\n",
            "16  2024/04/04  483595124736.00\n",
            "17  2024/04/05  488637890560.00\n",
            "18  2024/04/06  493457178624.00\n",
            "19  2024/04/07  498056429568.00\n",
            "20  2024/04/08  502438789120.00\n",
            "21  2024/04/09  506607599616.00\n",
            "22  2024/04/10  510566531072.00\n",
            "23  2024/04/11  514319810560.00\n",
            "24  2024/04/12  517872353280.00\n",
            "25  2024/04/13  521229860864.00\n",
            "26  2024/04/14  524398460928.00\n",
            "27  2024/04/15  527384870912.00\n",
            "28  2024/04/16  530196201472.00\n",
            "29  2024/04/17  532839694336.00\n"
          ]
        }
      ]
    },
    {
      "cell_type": "code",
      "source": [
        "import matplotlib.pyplot as plt\n",
        "\n",
        "# نمایش قیمت‌های پیش‌بینی شده\n",
        "plt.plot(test_data[['Final']].index[time_step:], test_data[['Final']].values[time_step:], label='Actual Price')\n",
        "plt.plot(test_data[['Final']].index[time_step:], predictions, label='Predicted Price')\n",
        "plt.xlabel('Date')\n",
        "plt.ylabel('Price')\n",
        "plt.title('Euro Price Prediction')\n",
        "plt.legend()\n",
        "plt.show()"
      ],
      "metadata": {
        "colab": {
          "base_uri": "https://localhost:8080/",
          "height": 472
        },
        "id": "9Ks2jC4uDlre",
        "outputId": "82203042-6c7d-49f8-8831-bdbdcaa7be7b"
      },
      "execution_count": 62,
      "outputs": [
        {
          "output_type": "display_data",
          "data": {
            "text/plain": [
              "<Figure size 640x480 with 1 Axes>"
            ],
            "image/png": "[encoded data removed]"
          },
          "metadata": {}
        }
      ]
    }
  ]
}